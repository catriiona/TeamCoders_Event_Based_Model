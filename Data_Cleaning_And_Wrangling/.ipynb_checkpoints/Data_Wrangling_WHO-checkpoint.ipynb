{
 "cells": [
  {
   "cell_type": "markdown",
   "metadata": {
    "slideshow": {
     "slide_type": "slide"
    }
   },
   "source": [
    "<a href=\"https://pandas.pydata.org/\">\n",
    "<img src=\"https://upload.wikimedia.org/wikipedia/commons/thumb/e/ed/Pandas_logo.svg/2560px-Pandas_logo.svg.png\" width=\"300px\">\n",
    "</a>\n",
    "\n",
    "\n",
    "# Data Wrangling with pandas\n",
    "\n",
    "\n",
    "\n",
    "## Objectives\n",
    "This is the demonstration notebook for the first task. The facilitators will present a lecture that is based around this notebook. Before performing the first task as a team, we recommend you first go through this walkthrough together, as it will show a lot of techniques and code that will be useful in the task.  \n",
    "\n",
    "\n",
    "The main objective of this walkthrough is to familiarize you with how to use the [pandas python package](https://pandas.pydata.org/) for essential tasks of discovering, cleaning, structuring, and visualizing tabular data. In particular, this notebook will cover:\n",
    "* The basic concept behind the core data structures within Pandas: [Series](https://pandas.pydata.org/docs/user_guide/dsintro.html#series) and [DataFrames](https://pandas.pydata.org/docs/user_guide/dsintro.html#dataframe)\n",
    "* How to process, organize and clean data stored in DataFrames\n",
    "* Visualization of data stored within a DataFrame.\n",
    "\n",
    "After completing this notebook you will be able to:\n",
    "* Understand key features of the Pandas library.\n",
    "* Import tabular data from spreadsheets into Pandas\n",
    "* Understand your data, its size, features and its structure.\n",
    "* Identify missing values and figure out how to handle them\n",
    "* Ensure your data is in the right format for processing and analysing\n",
    "* Group, summarize, and transform variables in your dataset\n",
    "* Visualise data using Matplotlib library\n"
   ]
  },
  {
   "cell_type": "markdown",
   "metadata": {},
   "source": [
    "## What do we mean by data wrangling?\n",
    "Data wrangling is the process of reading in the raw data and then cleaning and processing it so that the resulting information is in suitable format for analysis. Part of the data wrangling process includes data discovery, data cleaning (identifying and then removing any erroneous data), handling missing data, transforming variables, and visualizing the resulting data.\n",
    "\n",
    "Data wrangling is often needed before any quantitative analysis can begin; however, it is often the most time-consuming and tedious part of the process. There are many different skills and actions that are required as part of data wrangling, many of which are illustrated in the example code below. Many of these steps are part of the functionality that Pandas provides. \n",
    "\n",
    "Here are some common steps that are considered part of data wrangling:\n",
    "\n",
    "* **Discovering**: \n",
    "Reviewing and understanding the input data to better understand its structure and what variables will be useful for your problem \n",
    "* **Structuring**:\n",
    "Standardising the format for disparate types of data and make the data usable for automated or semiautomated data analysis. \n",
    "\n",
    "* **Cleaning** : \n",
    "There are often missing or implausible values in a dataset. These occur for a number of reasons and they could adversely affect the reliability and repeatability of an analysis. Cleaning techniques are identify and in some cases correct these instances so that they can be handled appropriately in subsequent analyses.\n",
    "\n",
    "* **Enriching**\n",
    "You are pretty familiar with the data at this point. This is the moment to ask yourself if you want to enhance the data. Are you looking to add other data to it?\n",
    "\n",
    "\n",
    "*  **Validating** \n",
    "This step involves iterative programming steps that authenticate your data’s quality and safety. For example, you may have problems if your data is not clean or enriched and the attributes are not distributed evenly.\n",
    "\n",
    "Many of these different stages of data wrangling require you to visualize the data in some form other than the base tabular data. Visualisation libraries such as [Matplotlib](https://matplotlib.org/), and [Seaborn](https://seaborn.pydata.org/) are often used to plot data as well as perform some basic statistical analysis. For example, one simple way of identify outliers for cleaning is to plot the data points and visually identify points that appear to be well outside the plausible range of the rest of the data for a given variable. \n",
    "\n"
   ]
  },
  {
   "cell_type": "markdown",
   "metadata": {},
   "source": [
    "## Table of Contents\n",
    "* [1. Importing pandas and reading in data](#1.-Importing-pandas-and-reading-in-data)\n",
    "* [2. Discovering and reviewing the data](#2.-Discovering-and-reviewing-the-data)\n",
    "* [3. Handling missing data](#3.-Handling-missing-data)\n",
    "* [4. Checking the data representation](#4.-Checking-the-data-representation)\n",
    "* [5. Grouping data](#5.-Grouping-data)\n",
    "* [6. Sorting data](#6.-Sorting-data)\n",
    "* [7. Summarizing](#7.-Summarizing-data)\n",
    "* [8. Combining and merging data sets](#8.-Combining-and-merging-data-sets)\n",
    "* [9. Visualizing the data](#9.-Visualizing-the-data)\n",
    "* [10. Transforming variables](#10.-Transforming-variables)\n",
    "* [11. More exploration and visualisation](#11.-More-exploration-and-visualisation)\n",
    "\n",
    "***"
   ]
  },
  {
   "cell_type": "markdown",
   "metadata": {
    "slideshow": {
     "slide_type": "slide"
    }
   },
   "source": [
    "## 1. Importing pandas and reading in data\n",
    "### 1.1 Importing packages\n",
    "The first thing that we need to do is to import the Python packages we are going to need. This includes pandas, [numpy](https://numpy.org/) (which Pandas uses to store data in the two-dimensional tabular structure), and [matplotlib](https://matplotlib.org/), a popular Python package used for data visualisation.\n",
    "\n",
    "For convenience, we will import these packages using the shortname (`pd`,`np`,`plt`) for each that has become convention, so that we don't always have to provide the package name each time we use some functionality from the package. "
   ]
  },
  {
   "cell_type": "code",
   "execution_count": 9,
   "metadata": {
    "slideshow": {
     "slide_type": "fragment"
    }
   },
   "outputs": [],
   "source": [
    "import pandas as pd\n",
    "import numpy as np\n",
    "import matplotlib.pyplot as plt\n"
   ]
  },
  {
   "cell_type": "markdown",
   "metadata": {},
   "source": [
    "###  1.2 Reading in data\n",
    "For this notebook, we are using a dataset based on statistics from the World Health Organisation. There are many sources where you might get data from that you will then want to work with using pandas. The most common is to open a file containing tabular data. The most well-known format for tabular data are Excel spreadsheets. Another commonly used format are plain-text *comma separated values* files with the extension `csv`. Each line of a csv file represents a row, and each column is separated by a comma. \n",
    "\n",
    "Besides local files, you may also get data by querying a database or requesting data from the web. \n",
    "\n",
    "All of these sources generate tabular data that can be stored within pandas DataFrames.\n",
    "\n",
    "For the purpose of this notebook, we have assumed you have [downloaded the data](https://liveuclac.sharepoint.com/:x:/r/sites/TeamCodersEventsPlanning/Shared%20Documents/General/WHO/who_case_statistics_modified3.csv?d=wec3e29c1cb9d43779f37cc43bf9eed3b&csf=1&web=1&e=wy7e84) and it is stored to a local file. If you dowloaded the zipfile that we have provided you or cloned the github repo, the data file will already be there.\n",
    "\n",
    "pandas has many different functions that will read in data depending on the data format. Below, we will read the filename and store it the variable `input_file` and then use the [read_csv](https://pandas.pydata.org/docs/reference/api/pandas.read_csv.html) function to read this file \n",
    "and store it into a DataFrame, under a variable named `df_raw`. Here the df stands for DataFrame, so that you know what is stored in the variable.  "
   ]
  },
  {
   "cell_type": "code",
   "execution_count": 10,
   "metadata": {},
   "outputs": [],
   "source": [
    "\n",
    "# We are assuming that you have downloaded the spreadsheets\n",
    "# into a subdirectory just below this notebook called \"data\"\n",
    "# If you have not downloaded the file into the data subdirectory\n",
    "# please ammend the first line so that input_file contains\n",
    "# the full location (path) of the file\n",
    "input_file = \"data/who_case_statistics_modified3.csv\" \n",
    "df_raw = pd.read_csv(input_file)"
   ]
  },
  {
   "cell_type": "markdown",
   "metadata": {},
   "source": [
    "***\n",
    "\n",
    "## 2. Discovering and reviewing the data \n",
    "Before we can work with the data, we need to know about more about the contents of the data. Here are some core functions that can help you start to review the structure and contents of your DataFrame. \n",
    "* `pandas.DataFrame.head()` - prints out the first *n* rows of the DataFrame \n",
    "* `pandas.DataFrame.tail()` - prints out the last *n* rows of the DataFrame\n",
    "\n",
    "You can understand a bit more of the data structure using the following commands:\n",
    "* `pandas.DataFrame.info()` - summary information (column names, counts, data types) \n",
    "* `pandas.DataFrame.describe()` - provides basic summary statistics for each variable\n",
    "\n",
    "Some basic low-level information about the DataFrame can be extracted with the following attributes:\n",
    "* `pandas.DataFrame.shape` - provides the number of rows and columns in the DataFrame\n",
    "* `pandas.DataFrame.dtypes` - indicates the datatype (string, float, integer, etc) used to store the data for each variable\n"
   ]
  },
  {
   "cell_type": "markdown",
   "metadata": {},
   "source": [
    "### 2.1 Review the data\n",
    "Use the method <b>head()</b> to display the first five rows of the dataframe.\n"
   ]
  },
  {
   "cell_type": "code",
   "execution_count": 3,
   "metadata": {
    "scrolled": true
   },
   "outputs": [
    {
     "data": {
      "text/html": [
       "<div>\n",
       "<style scoped>\n",
       "    .dataframe tbody tr th:only-of-type {\n",
       "        vertical-align: middle;\n",
       "    }\n",
       "\n",
       "    .dataframe tbody tr th {\n",
       "        vertical-align: top;\n",
       "    }\n",
       "\n",
       "    .dataframe thead th {\n",
       "        text-align: right;\n",
       "    }\n",
       "</style>\n",
       "<table border=\"1\" class=\"dataframe\">\n",
       "  <thead>\n",
       "    <tr style=\"text-align: right;\">\n",
       "      <th></th>\n",
       "      <th>country</th>\n",
       "      <th>year</th>\n",
       "      <th>sex</th>\n",
       "      <th>age</th>\n",
       "      <th>cases_no</th>\n",
       "      <th>population</th>\n",
       "      <th>HDI for year</th>\n",
       "      <th>gdp_for_year ($)</th>\n",
       "    </tr>\n",
       "  </thead>\n",
       "  <tbody>\n",
       "    <tr>\n",
       "      <th>0</th>\n",
       "      <td>Albania</td>\n",
       "      <td>1987</td>\n",
       "      <td>male</td>\n",
       "      <td>15-24 years</td>\n",
       "      <td>21</td>\n",
       "      <td>312900</td>\n",
       "      <td>NaN</td>\n",
       "      <td>2,156,624,900</td>\n",
       "    </tr>\n",
       "    <tr>\n",
       "      <th>1</th>\n",
       "      <td>Albania</td>\n",
       "      <td>1987</td>\n",
       "      <td>male</td>\n",
       "      <td>35-54 years</td>\n",
       "      <td>16</td>\n",
       "      <td>308000</td>\n",
       "      <td>NaN</td>\n",
       "      <td>2,156,624,900</td>\n",
       "    </tr>\n",
       "    <tr>\n",
       "      <th>2</th>\n",
       "      <td>Albania</td>\n",
       "      <td>1987</td>\n",
       "      <td>female</td>\n",
       "      <td>15-24 years</td>\n",
       "      <td>14</td>\n",
       "      <td>289700</td>\n",
       "      <td>NaN</td>\n",
       "      <td>2,156,624,900</td>\n",
       "    </tr>\n",
       "    <tr>\n",
       "      <th>3</th>\n",
       "      <td>Albania</td>\n",
       "      <td>1987</td>\n",
       "      <td>male</td>\n",
       "      <td>75+ years</td>\n",
       "      <td>1</td>\n",
       "      <td>21800</td>\n",
       "      <td>NaN</td>\n",
       "      <td>2,156,624,900</td>\n",
       "    </tr>\n",
       "    <tr>\n",
       "      <th>4</th>\n",
       "      <td>Albania</td>\n",
       "      <td>1987</td>\n",
       "      <td>male</td>\n",
       "      <td>25-34 years</td>\n",
       "      <td>9</td>\n",
       "      <td>274300</td>\n",
       "      <td>NaN</td>\n",
       "      <td>2,156,624,900</td>\n",
       "    </tr>\n",
       "  </tbody>\n",
       "</table>\n",
       "</div>"
      ],
      "text/plain": [
       "   country  year     sex          age cases_no  population  HDI for year  \\\n",
       "0  Albania  1987    male  15-24 years       21      312900           NaN   \n",
       "1  Albania  1987    male  35-54 years       16      308000           NaN   \n",
       "2  Albania  1987  female  15-24 years       14      289700           NaN   \n",
       "3  Albania  1987    male    75+ years        1       21800           NaN   \n",
       "4  Albania  1987    male  25-34 years        9      274300           NaN   \n",
       "\n",
       "   gdp_for_year ($)   \n",
       "0      2,156,624,900  \n",
       "1      2,156,624,900  \n",
       "2      2,156,624,900  \n",
       "3      2,156,624,900  \n",
       "4      2,156,624,900  "
      ]
     },
     "execution_count": 3,
     "metadata": {},
     "output_type": "execute_result"
    }
   ],
   "source": [
    "df_raw.head()"
   ]
  },
  {
   "cell_type": "markdown",
   "metadata": {},
   "source": [
    "Notice how there are headers at the top, which match up with the column names. Each row also has an _index_, which starts at 0 and counts up for this spreadsheet. Indices are like headers, but for rows."
   ]
  },
  {
   "cell_type": "code",
   "execution_count": 4,
   "metadata": {},
   "outputs": [
    {
     "data": {
      "text/plain": [
       "(27840, 8)"
      ]
     },
     "execution_count": 4,
     "metadata": {},
     "output_type": "execute_result"
    }
   ],
   "source": [
    "df_raw.shape"
   ]
  },
  {
   "cell_type": "code",
   "execution_count": 5,
   "metadata": {},
   "outputs": [
    {
     "data": {
      "text/plain": [
       "country                object\n",
       "year                    int64\n",
       "sex                    object\n",
       "age                    object\n",
       "cases_no               object\n",
       "population              int64\n",
       "HDI for year          float64\n",
       " gdp_for_year ($)      object\n",
       "dtype: object"
      ]
     },
     "execution_count": 5,
     "metadata": {},
     "output_type": "execute_result"
    }
   ],
   "source": [
    "df_raw.dtypes"
   ]
  },
  {
   "cell_type": "markdown",
   "metadata": {},
   "source": [
    "### Exercise 1\n",
    "Use the tail method to see the last part of the data.\n",
    "How many lines do you see?\n",
    "Use the the tail method again to see the last 20 lines of the data."
   ]
  },
  {
   "cell_type": "code",
   "execution_count": 7,
   "metadata": {},
   "outputs": [
    {
     "data": {
      "text/html": [
       "<div>\n",
       "<style scoped>\n",
       "    .dataframe tbody tr th:only-of-type {\n",
       "        vertical-align: middle;\n",
       "    }\n",
       "\n",
       "    .dataframe tbody tr th {\n",
       "        vertical-align: top;\n",
       "    }\n",
       "\n",
       "    .dataframe thead th {\n",
       "        text-align: right;\n",
       "    }\n",
       "</style>\n",
       "<table border=\"1\" class=\"dataframe\">\n",
       "  <thead>\n",
       "    <tr style=\"text-align: right;\">\n",
       "      <th></th>\n",
       "      <th>country</th>\n",
       "      <th>year</th>\n",
       "      <th>sex</th>\n",
       "      <th>age</th>\n",
       "      <th>cases_no</th>\n",
       "      <th>population</th>\n",
       "      <th>HDI for year</th>\n",
       "      <th>gdp_for_year ($)</th>\n",
       "    </tr>\n",
       "  </thead>\n",
       "  <tbody>\n",
       "    <tr>\n",
       "      <th>27835</th>\n",
       "      <td>Belgium</td>\n",
       "      <td>2011</td>\n",
       "      <td>female</td>\n",
       "      <td>25-34 years</td>\n",
       "      <td>6</td>\n",
       "      <td>707535</td>\n",
       "      <td>0.886</td>\n",
       "      <td>527,008,453,887</td>\n",
       "    </tr>\n",
       "    <tr>\n",
       "      <th>27836</th>\n",
       "      <td>Thailand</td>\n",
       "      <td>2016</td>\n",
       "      <td>male</td>\n",
       "      <td>75+ years</td>\n",
       "      <td>152</td>\n",
       "      <td>1124052</td>\n",
       "      <td>NaN</td>\n",
       "      <td>411,755,164,833</td>\n",
       "    </tr>\n",
       "    <tr>\n",
       "      <th>27837</th>\n",
       "      <td>Netherlands</td>\n",
       "      <td>1998</td>\n",
       "      <td>female</td>\n",
       "      <td>15-24 years</td>\n",
       "      <td>21</td>\n",
       "      <td>934500</td>\n",
       "      <td>NaN</td>\n",
       "      <td>432,476,116,419</td>\n",
       "    </tr>\n",
       "    <tr>\n",
       "      <th>27838</th>\n",
       "      <td>Grenada</td>\n",
       "      <td>2002</td>\n",
       "      <td>female</td>\n",
       "      <td>5-14 years</td>\n",
       "      <td>NaN</td>\n",
       "      <td>11760</td>\n",
       "      <td>NaN</td>\n",
       "      <td>540,336,926</td>\n",
       "    </tr>\n",
       "    <tr>\n",
       "      <th>27839</th>\n",
       "      <td>Mexico</td>\n",
       "      <td>1988</td>\n",
       "      <td>female</td>\n",
       "      <td>75+ years</td>\n",
       "      <td>7</td>\n",
       "      <td>614000</td>\n",
       "      <td>NaN</td>\n",
       "      <td>183,144,164,357</td>\n",
       "    </tr>\n",
       "  </tbody>\n",
       "</table>\n",
       "</div>"
      ],
      "text/plain": [
       "           country  year     sex          age cases_no  population  \\\n",
       "27835      Belgium  2011  female  25-34 years        6      707535   \n",
       "27836     Thailand  2016    male    75+ years      152     1124052   \n",
       "27837  Netherlands  1998  female  15-24 years       21      934500   \n",
       "27838      Grenada  2002  female   5-14 years      NaN       11760   \n",
       "27839       Mexico  1988  female    75+ years        7      614000   \n",
       "\n",
       "       HDI for year  gdp_for_year ($)   \n",
       "27835         0.886    527,008,453,887  \n",
       "27836           NaN    411,755,164,833  \n",
       "27837           NaN    432,476,116,419  \n",
       "27838           NaN        540,336,926  \n",
       "27839           NaN    183,144,164,357  "
      ]
     },
     "execution_count": 7,
     "metadata": {},
     "output_type": "execute_result"
    }
   ],
   "source": [
    "# Write your code here\n",
    "df_raw.tail()"
   ]
  },
  {
   "cell_type": "markdown",
   "metadata": {},
   "source": [
    "### Exercise 2\n",
    "Use the info method to gather information  about the data. \n"
   ]
  },
  {
   "cell_type": "code",
   "execution_count": 11,
   "metadata": {},
   "outputs": [
    {
     "name": "stdout",
     "output_type": "stream",
     "text": [
      "<class 'pandas.core.frame.DataFrame'>\n",
      "RangeIndex: 27840 entries, 0 to 27839\n",
      "Data columns (total 8 columns):\n",
      " #   Column              Non-Null Count  Dtype  \n",
      "---  ------              --------------  -----  \n",
      " 0   country             27840 non-null  object \n",
      " 1   year                27840 non-null  int64  \n",
      " 2   sex                 27840 non-null  object \n",
      " 3   age                 27840 non-null  object \n",
      " 4   cases_no            23575 non-null  object \n",
      " 5   population          27840 non-null  int64  \n",
      " 6   HDI for year        8368 non-null   float64\n",
      " 7    gdp_for_year ($)   27840 non-null  object \n",
      "dtypes: float64(1), int64(2), object(5)\n",
      "memory usage: 1.7+ MB\n"
     ]
    }
   ],
   "source": [
    "# Write your code here\n",
    "df_raw.info()"
   ]
  },
  {
   "cell_type": "markdown",
   "metadata": {},
   "source": [
    "### Observations\n",
    "* The data frame contains 27840 rows and 8 columns.\n",
    "* The data frame is an object of class pandas.DataFrame.\n",
    "* Columns that hold only numeric data are stored as floats or integers\n",
    "* Columns that hold text or a mixture of data are stored as objects. \n"
   ]
  },
  {
   "cell_type": "markdown",
   "metadata": {},
   "source": [
    "### Exercise 3\n",
    "Write any other observation that you see about the data. \n"
   ]
  },
  {
   "cell_type": "markdown",
   "metadata": {},
   "source": [
    "Some columns have null values (particularly HDI for year)"
   ]
  },
  {
   "cell_type": "markdown",
   "metadata": {},
   "source": [
    "### 2.2 Understanding headers\n",
    "How did pandas know how to name the columns? If you opened up the file in a text editor, you would see that the first row contains these names. When you run `read_csv`, pandas assumes that the column names (or _headers_) are located in the first row. If that is not the case, you can specify which row they can be found by using the `header` argument. \n",
    "\n",
    "However, if there are not any column names in the file, then it is important to tell pandas that, lest you lose actual data. This can be done by setting `header` to `None`. \n"
   ]
  },
  {
   "cell_type": "code",
   "execution_count": 12,
   "metadata": {},
   "outputs": [
    {
     "data": {
      "text/html": [
       "<div>\n",
       "<style scoped>\n",
       "    .dataframe tbody tr th:only-of-type {\n",
       "        vertical-align: middle;\n",
       "    }\n",
       "\n",
       "    .dataframe tbody tr th {\n",
       "        vertical-align: top;\n",
       "    }\n",
       "\n",
       "    .dataframe thead th {\n",
       "        text-align: right;\n",
       "    }\n",
       "</style>\n",
       "<table border=\"1\" class=\"dataframe\">\n",
       "  <thead>\n",
       "    <tr style=\"text-align: right;\">\n",
       "      <th></th>\n",
       "      <th>0</th>\n",
       "      <th>1</th>\n",
       "      <th>2</th>\n",
       "      <th>3</th>\n",
       "      <th>4</th>\n",
       "      <th>5</th>\n",
       "      <th>6</th>\n",
       "      <th>7</th>\n",
       "    </tr>\n",
       "  </thead>\n",
       "  <tbody>\n",
       "    <tr>\n",
       "      <th>0</th>\n",
       "      <td>country</td>\n",
       "      <td>year</td>\n",
       "      <td>sex</td>\n",
       "      <td>age</td>\n",
       "      <td>cases_no</td>\n",
       "      <td>population</td>\n",
       "      <td>HDI for year</td>\n",
       "      <td>gdp_for_year ($)</td>\n",
       "    </tr>\n",
       "    <tr>\n",
       "      <th>1</th>\n",
       "      <td>Albania</td>\n",
       "      <td>1987</td>\n",
       "      <td>male</td>\n",
       "      <td>15-24 years</td>\n",
       "      <td>21</td>\n",
       "      <td>312900</td>\n",
       "      <td>NaN</td>\n",
       "      <td>2,156,624,900</td>\n",
       "    </tr>\n",
       "    <tr>\n",
       "      <th>2</th>\n",
       "      <td>Albania</td>\n",
       "      <td>1987</td>\n",
       "      <td>male</td>\n",
       "      <td>35-54 years</td>\n",
       "      <td>16</td>\n",
       "      <td>308000</td>\n",
       "      <td>NaN</td>\n",
       "      <td>2,156,624,900</td>\n",
       "    </tr>\n",
       "    <tr>\n",
       "      <th>3</th>\n",
       "      <td>Albania</td>\n",
       "      <td>1987</td>\n",
       "      <td>female</td>\n",
       "      <td>15-24 years</td>\n",
       "      <td>14</td>\n",
       "      <td>289700</td>\n",
       "      <td>NaN</td>\n",
       "      <td>2,156,624,900</td>\n",
       "    </tr>\n",
       "    <tr>\n",
       "      <th>4</th>\n",
       "      <td>Albania</td>\n",
       "      <td>1987</td>\n",
       "      <td>male</td>\n",
       "      <td>75+ years</td>\n",
       "      <td>1</td>\n",
       "      <td>21800</td>\n",
       "      <td>NaN</td>\n",
       "      <td>2,156,624,900</td>\n",
       "    </tr>\n",
       "  </tbody>\n",
       "</table>\n",
       "</div>"
      ],
      "text/plain": [
       "         0     1       2            3         4           5             6  \\\n",
       "0  country  year     sex          age  cases_no  population  HDI for year   \n",
       "1  Albania  1987    male  15-24 years        21      312900           NaN   \n",
       "2  Albania  1987    male  35-54 years        16      308000           NaN   \n",
       "3  Albania  1987  female  15-24 years        14      289700           NaN   \n",
       "4  Albania  1987    male    75+ years         1       21800           NaN   \n",
       "\n",
       "                    7  \n",
       "0   gdp_for_year ($)   \n",
       "1       2,156,624,900  \n",
       "2       2,156,624,900  \n",
       "3       2,156,624,900  \n",
       "4       2,156,624,900  "
      ]
     },
     "execution_count": 12,
     "metadata": {},
     "output_type": "execute_result"
    }
   ],
   "source": [
    "# Reading in the data - but assuming no headers\n",
    "df_raw = pd.read_csv(input_file, header=None)\n",
    "# Now look at the head, does it look correct?\n",
    "df_raw.head()"
   ]
  },
  {
   "cell_type": "code",
   "execution_count": 13,
   "metadata": {},
   "outputs": [
    {
     "name": "stdout",
     "output_type": "stream",
     "text": [
      "<class 'pandas.core.frame.DataFrame'>\n",
      "RangeIndex: 27841 entries, 0 to 27840\n",
      "Data columns (total 8 columns):\n",
      " #   Column  Non-Null Count  Dtype \n",
      "---  ------  --------------  ----- \n",
      " 0   0       27841 non-null  object\n",
      " 1   1       27841 non-null  object\n",
      " 2   2       27841 non-null  object\n",
      " 3   3       27841 non-null  object\n",
      " 4   4       23576 non-null  object\n",
      " 5   5       27841 non-null  object\n",
      " 6   6       8369 non-null   object\n",
      " 7   7       27841 non-null  object\n",
      "dtypes: object(8)\n",
      "memory usage: 1.7+ MB\n"
     ]
    }
   ],
   "source": [
    "# Also look at the info, does it look correct?\n",
    "df_raw.info()"
   ]
  },
  {
   "cell_type": "markdown",
   "metadata": {},
   "source": [
    "### 2.3 Selecting the columns and getting the values\n",
    "The way to to select columns is to write the \n",
    "`dataframe['column_name']`. When selecting one column only,\n",
    "pandas will return a pandas data type known as a Series.\n",
    "DataFrames consist of a collection of Series.\n",
    "\n",
    "The following command selects the country column."
   ]
  },
  {
   "cell_type": "code",
   "execution_count": 14,
   "metadata": {},
   "outputs": [
    {
     "name": "stdout",
     "output_type": "stream",
     "text": [
      "0            Albania\n",
      "1            Albania\n",
      "2            Albania\n",
      "3            Albania\n",
      "4            Albania\n",
      "            ...     \n",
      "27835        Belgium\n",
      "27836       Thailand\n",
      "27837    Netherlands\n",
      "27838        Grenada\n",
      "27839         Mexico\n",
      "Name: country, Length: 27840, dtype: object\n"
     ]
    }
   ],
   "source": [
    "# Getting the headers back\n",
    "df_raw = pd.read_csv(input_file)\n",
    "countries=df_raw['country']\n",
    "print(countries)"
   ]
  },
  {
   "cell_type": "markdown",
   "metadata": {},
   "source": [
    "Notice that, even though we select one column `country` that the indices on the left remain. As mentioned these are like headers for rows and they are there even if there is only a one column and it is a Series instead of DataFrame. \n",
    "\n",
    "We can see how many unique countries are in this column, and how many times each country is found in the data, using the `pandas.DataFrame.value_counts()` function."
   ]
  },
  {
   "cell_type": "code",
   "execution_count": 15,
   "metadata": {},
   "outputs": [
    {
     "data": {
      "text/plain": [
       "Austria                   383\n",
       "Netherlands               383\n",
       "Mauritius                 382\n",
       "Iceland                   382\n",
       "Argentina                 373\n",
       "                         ... \n",
       "Bosnia and Herzegovina     24\n",
       "Cabo Verde                 12\n",
       "Dominica                   12\n",
       "Macau                      12\n",
       "Mongolia                   10\n",
       "Name: country, Length: 101, dtype: int64"
      ]
     },
     "execution_count": 15,
     "metadata": {},
     "output_type": "execute_result"
    }
   ],
   "source": [
    "df_raw['country'].value_counts() #select the column with data_raw['country'] then add the method .value_counts()"
   ]
  },
  {
   "cell_type": "markdown",
   "metadata": {},
   "source": [
    "If we just want a list of all countries found in this column, regardless of how many times they appear, we can use the `unique()` function. The output from this will be a one-dimensional numpy array.  \n"
   ]
  },
  {
   "cell_type": "code",
   "execution_count": 18,
   "metadata": {},
   "outputs": [
    {
     "name": "stdout",
     "output_type": "stream",
     "text": [
      "['Albania' 'Antigua and Barbuda' 'Argentina' 'Armenia' 'Aruba' 'Australia'\n",
      " 'Austria' 'Azerbaijan' 'Bahamas' 'Bahrain' 'Barbados' 'Belarus' 'Belgium'\n",
      " 'Belize' 'Bosnia and Herzegovina' 'Brazil' 'Bulgaria' 'Cabo Verde'\n",
      " 'Canada' 'Chile' 'Colombia' 'Costa Rica' 'Croatia' 'Cuba' 'Cyprus'\n",
      " 'Czech Republic' 'Denmark' 'Dominica' 'Ecuador' 'El Salvador' 'Estonia'\n",
      " 'Fiji' 'Finland' 'France' 'Georgia' 'Germany' 'Greece' 'Grenada'\n",
      " 'Guatemala' 'Guyana' 'Hungary' 'Iceland' 'Ireland' 'Israel' 'Italy'\n",
      " 'Jamaica' 'Japan' 'Kazakhstan' 'Kiribati' 'Kuwait' 'Kyrgyzstan' 'Latvia'\n",
      " 'Lithuania' 'Luxembourg' 'Macau' 'Maldives' 'Malta' 'Mauritius' 'Mexico'\n",
      " 'Mongolia' 'Montenegro' 'Netherlands' 'New Zealand' 'Nicaragua' 'Norway'\n",
      " 'Oman' 'Panama' 'Paraguay' 'Philippines' 'Poland' 'Portugal'\n",
      " 'Puerto Rico' 'Qatar' 'Republic of Korea' 'Romania' 'Russian Federation'\n",
      " 'Saint Kitts and Nevis' 'Saint Lucia' 'Saint Vincent and Grenadines'\n",
      " 'San Marino' 'Serbia' 'Seychelles' 'Singapore' 'Slovakia' 'Slovenia'\n",
      " 'South Africa' 'Spain' 'Sri Lanka' 'Suriname' 'Sweden' 'Switzerland'\n",
      " 'Thailand' 'Trinidad and Tobago' 'Turkey' 'Turkmenistan' 'Ukraine'\n",
      " 'United Arab Emirates' 'United Kingdom' 'United States' 'Uruguay'\n",
      " 'Uzbekistan']\n",
      "<class 'numpy.ndarray'>\n"
     ]
    }
   ],
   "source": [
    "country_array = df_raw['country'].unique()\n",
    "print(country_array)\n",
    "print(type(country_array))"
   ]
  },
  {
   "cell_type": "markdown",
   "metadata": {},
   "source": [
    "In order to convert the numpy array to a Python list, we will use the numpy `tolist()` method. In case the country list is not alphabetically sorted, we can use the `sorted()` function.\n"
   ]
  },
  {
   "cell_type": "code",
   "execution_count": 19,
   "metadata": {},
   "outputs": [
    {
     "name": "stdout",
     "output_type": "stream",
     "text": [
      "['Albania', 'Antigua and Barbuda', 'Argentina', 'Armenia', 'Aruba', 'Australia', 'Austria', 'Azerbaijan', 'Bahamas', 'Bahrain', 'Barbados', 'Belarus', 'Belgium', 'Belize', 'Bosnia and Herzegovina', 'Brazil', 'Bulgaria', 'Cabo Verde', 'Canada', 'Chile', 'Colombia', 'Costa Rica', 'Croatia', 'Cuba', 'Cyprus', 'Czech Republic', 'Denmark', 'Dominica', 'Ecuador', 'El Salvador', 'Estonia', 'Fiji', 'Finland', 'France', 'Georgia', 'Germany', 'Greece', 'Grenada', 'Guatemala', 'Guyana', 'Hungary', 'Iceland', 'Ireland', 'Israel', 'Italy', 'Jamaica', 'Japan', 'Kazakhstan', 'Kiribati', 'Kuwait', 'Kyrgyzstan', 'Latvia', 'Lithuania', 'Luxembourg', 'Macau', 'Maldives', 'Malta', 'Mauritius', 'Mexico', 'Mongolia', 'Montenegro', 'Netherlands', 'New Zealand', 'Nicaragua', 'Norway', 'Oman', 'Panama', 'Paraguay', 'Philippines', 'Poland', 'Portugal', 'Puerto Rico', 'Qatar', 'Republic of Korea', 'Romania', 'Russian Federation', 'Saint Kitts and Nevis', 'Saint Lucia', 'Saint Vincent and Grenadines', 'San Marino', 'Serbia', 'Seychelles', 'Singapore', 'Slovakia', 'Slovenia', 'South Africa', 'Spain', 'Sri Lanka', 'Suriname', 'Sweden', 'Switzerland', 'Thailand', 'Trinidad and Tobago', 'Turkey', 'Turkmenistan', 'Ukraine', 'United Arab Emirates', 'United Kingdom', 'United States', 'Uruguay', 'Uzbekistan']\n",
      "['Albania', 'Antigua and Barbuda', 'Argentina', 'Armenia', 'Aruba', 'Australia', 'Austria', 'Azerbaijan', 'Bahamas', 'Bahrain', 'Barbados', 'Belarus', 'Belgium', 'Belize', 'Bosnia and Herzegovina', 'Brazil', 'Bulgaria', 'Cabo Verde', 'Canada', 'Chile', 'Colombia', 'Costa Rica', 'Croatia', 'Cuba', 'Cyprus', 'Czech Republic', 'Denmark', 'Dominica', 'Ecuador', 'El Salvador', 'Estonia', 'Fiji', 'Finland', 'France', 'Georgia', 'Germany', 'Greece', 'Grenada', 'Guatemala', 'Guyana', 'Hungary', 'Iceland', 'Ireland', 'Israel', 'Italy', 'Jamaica', 'Japan', 'Kazakhstan', 'Kiribati', 'Kuwait', 'Kyrgyzstan', 'Latvia', 'Lithuania', 'Luxembourg', 'Macau', 'Maldives', 'Malta', 'Mauritius', 'Mexico', 'Mongolia', 'Montenegro', 'Netherlands', 'New Zealand', 'Nicaragua', 'Norway', 'Oman', 'Panama', 'Paraguay', 'Philippines', 'Poland', 'Portugal', 'Puerto Rico', 'Qatar', 'Republic of Korea', 'Romania', 'Russian Federation', 'Saint Kitts and Nevis', 'Saint Lucia', 'Saint Vincent and Grenadines', 'San Marino', 'Serbia', 'Seychelles', 'Singapore', 'Slovakia', 'Slovenia', 'South Africa', 'Spain', 'Sri Lanka', 'Suriname', 'Sweden', 'Switzerland', 'Thailand', 'Trinidad and Tobago', 'Turkey', 'Turkmenistan', 'Ukraine', 'United Arab Emirates', 'United Kingdom', 'United States', 'Uruguay', 'Uzbekistan']\n"
     ]
    }
   ],
   "source": [
    "country_list = country_array.tolist() # Convert a numpy array to a list\n",
    "sorted_country_list = sorted(country_list)\n",
    "print(country_list)\n",
    "print(sorted_country_list) "
   ]
  },
  {
   "cell_type": "code",
   "execution_count": 20,
   "metadata": {},
   "outputs": [
    {
     "data": {
      "text/plain": [
       "101"
      ]
     },
     "execution_count": 20,
     "metadata": {},
     "output_type": "execute_result"
    }
   ],
   "source": [
    "# How many total countries? Use len to find the length of the list\n",
    "len(country_list)"
   ]
  },
  {
   "cell_type": "markdown",
   "metadata": {},
   "source": [
    "We have looked at how to explore categorical data. Now let's look at numeric data. We can get the mean of a column using the `mean()` function"
   ]
  },
  {
   "cell_type": "code",
   "execution_count": 21,
   "metadata": {},
   "outputs": [
    {
     "data": {
      "text/plain": [
       "0         21\n",
       "1         16\n",
       "2         14\n",
       "3          1\n",
       "4          9\n",
       "        ... \n",
       "27835      6\n",
       "27836    152\n",
       "27837     21\n",
       "27838    NaN\n",
       "27839      7\n",
       "Name: cases_no, Length: 27840, dtype: object"
      ]
     },
     "execution_count": 21,
     "metadata": {},
     "output_type": "execute_result"
    }
   ],
   "source": [
    "case_numbers = df_raw['cases_no']\n",
    "case_numbers"
   ]
  },
  {
   "cell_type": "code",
   "execution_count": 22,
   "metadata": {},
   "outputs": [
    {
     "ename": "TypeError",
     "evalue": "can only concatenate str (not \"int\") to str",
     "output_type": "error",
     "traceback": [
      "\u001b[0;31m---------------------------------------------------------------------------\u001b[0m",
      "\u001b[0;31mTypeError\u001b[0m                                 Traceback (most recent call last)",
      "\u001b[0;32m/var/folders/2p/l87h2yhx3j9655gz_2jr31_h0000gn/T/ipykernel_40551/1209891556.py\u001b[0m in \u001b[0;36m<module>\u001b[0;34m\u001b[0m\n\u001b[0;32m----> 1\u001b[0;31m \u001b[0mcases_mean\u001b[0m \u001b[0;34m=\u001b[0m \u001b[0mdf_raw\u001b[0m\u001b[0;34m[\u001b[0m\u001b[0;34m'cases_no'\u001b[0m\u001b[0;34m]\u001b[0m\u001b[0;34m.\u001b[0m\u001b[0mmean\u001b[0m\u001b[0;34m(\u001b[0m\u001b[0;34m)\u001b[0m\u001b[0;34m\u001b[0m\u001b[0;34m\u001b[0m\u001b[0m\n\u001b[0m",
      "\u001b[0;32m~/opt/anaconda3/envs/teamcoder_ebm/lib/python3.7/site-packages/pandas/core/generic.py\u001b[0m in \u001b[0;36mmean\u001b[0;34m(self, axis, skipna, level, numeric_only, **kwargs)\u001b[0m\n\u001b[1;32m  10749\u001b[0m         )\n\u001b[1;32m  10750\u001b[0m         \u001b[0;32mdef\u001b[0m \u001b[0mmean\u001b[0m\u001b[0;34m(\u001b[0m\u001b[0mself\u001b[0m\u001b[0;34m,\u001b[0m \u001b[0maxis\u001b[0m\u001b[0;34m=\u001b[0m\u001b[0;32mNone\u001b[0m\u001b[0;34m,\u001b[0m \u001b[0mskipna\u001b[0m\u001b[0;34m=\u001b[0m\u001b[0;32mNone\u001b[0m\u001b[0;34m,\u001b[0m \u001b[0mlevel\u001b[0m\u001b[0;34m=\u001b[0m\u001b[0;32mNone\u001b[0m\u001b[0;34m,\u001b[0m \u001b[0mnumeric_only\u001b[0m\u001b[0;34m=\u001b[0m\u001b[0;32mNone\u001b[0m\u001b[0;34m,\u001b[0m \u001b[0;34m**\u001b[0m\u001b[0mkwargs\u001b[0m\u001b[0;34m)\u001b[0m\u001b[0;34m:\u001b[0m\u001b[0;34m\u001b[0m\u001b[0;34m\u001b[0m\u001b[0m\n\u001b[0;32m> 10751\u001b[0;31m             \u001b[0;32mreturn\u001b[0m \u001b[0mNDFrame\u001b[0m\u001b[0;34m.\u001b[0m\u001b[0mmean\u001b[0m\u001b[0;34m(\u001b[0m\u001b[0mself\u001b[0m\u001b[0;34m,\u001b[0m \u001b[0maxis\u001b[0m\u001b[0;34m,\u001b[0m \u001b[0mskipna\u001b[0m\u001b[0;34m,\u001b[0m \u001b[0mlevel\u001b[0m\u001b[0;34m,\u001b[0m \u001b[0mnumeric_only\u001b[0m\u001b[0;34m,\u001b[0m \u001b[0;34m**\u001b[0m\u001b[0mkwargs\u001b[0m\u001b[0;34m)\u001b[0m\u001b[0;34m\u001b[0m\u001b[0;34m\u001b[0m\u001b[0m\n\u001b[0m\u001b[1;32m  10752\u001b[0m \u001b[0;34m\u001b[0m\u001b[0m\n\u001b[1;32m  10753\u001b[0m         \u001b[0msetattr\u001b[0m\u001b[0;34m(\u001b[0m\u001b[0mcls\u001b[0m\u001b[0;34m,\u001b[0m \u001b[0;34m\"mean\"\u001b[0m\u001b[0;34m,\u001b[0m \u001b[0mmean\u001b[0m\u001b[0;34m)\u001b[0m\u001b[0;34m\u001b[0m\u001b[0;34m\u001b[0m\u001b[0m\n",
      "\u001b[0;32m~/opt/anaconda3/envs/teamcoder_ebm/lib/python3.7/site-packages/pandas/core/generic.py\u001b[0m in \u001b[0;36mmean\u001b[0;34m(self, axis, skipna, level, numeric_only, **kwargs)\u001b[0m\n\u001b[1;32m  10368\u001b[0m     \u001b[0;32mdef\u001b[0m \u001b[0mmean\u001b[0m\u001b[0;34m(\u001b[0m\u001b[0mself\u001b[0m\u001b[0;34m,\u001b[0m \u001b[0maxis\u001b[0m\u001b[0;34m=\u001b[0m\u001b[0;32mNone\u001b[0m\u001b[0;34m,\u001b[0m \u001b[0mskipna\u001b[0m\u001b[0;34m=\u001b[0m\u001b[0;32mNone\u001b[0m\u001b[0;34m,\u001b[0m \u001b[0mlevel\u001b[0m\u001b[0;34m=\u001b[0m\u001b[0;32mNone\u001b[0m\u001b[0;34m,\u001b[0m \u001b[0mnumeric_only\u001b[0m\u001b[0;34m=\u001b[0m\u001b[0;32mNone\u001b[0m\u001b[0;34m,\u001b[0m \u001b[0;34m**\u001b[0m\u001b[0mkwargs\u001b[0m\u001b[0;34m)\u001b[0m\u001b[0;34m:\u001b[0m\u001b[0;34m\u001b[0m\u001b[0;34m\u001b[0m\u001b[0m\n\u001b[1;32m  10369\u001b[0m         return self._stat_function(\n\u001b[0;32m> 10370\u001b[0;31m             \u001b[0;34m\"mean\"\u001b[0m\u001b[0;34m,\u001b[0m \u001b[0mnanops\u001b[0m\u001b[0;34m.\u001b[0m\u001b[0mnanmean\u001b[0m\u001b[0;34m,\u001b[0m \u001b[0maxis\u001b[0m\u001b[0;34m,\u001b[0m \u001b[0mskipna\u001b[0m\u001b[0;34m,\u001b[0m \u001b[0mlevel\u001b[0m\u001b[0;34m,\u001b[0m \u001b[0mnumeric_only\u001b[0m\u001b[0;34m,\u001b[0m \u001b[0;34m**\u001b[0m\u001b[0mkwargs\u001b[0m\u001b[0;34m\u001b[0m\u001b[0;34m\u001b[0m\u001b[0m\n\u001b[0m\u001b[1;32m  10371\u001b[0m         )\n\u001b[1;32m  10372\u001b[0m \u001b[0;34m\u001b[0m\u001b[0m\n",
      "\u001b[0;32m~/opt/anaconda3/envs/teamcoder_ebm/lib/python3.7/site-packages/pandas/core/generic.py\u001b[0m in \u001b[0;36m_stat_function\u001b[0;34m(self, name, func, axis, skipna, level, numeric_only, **kwargs)\u001b[0m\n\u001b[1;32m  10353\u001b[0m             )\n\u001b[1;32m  10354\u001b[0m         return self._reduce(\n\u001b[0;32m> 10355\u001b[0;31m             \u001b[0mfunc\u001b[0m\u001b[0;34m,\u001b[0m \u001b[0mname\u001b[0m\u001b[0;34m=\u001b[0m\u001b[0mname\u001b[0m\u001b[0;34m,\u001b[0m \u001b[0maxis\u001b[0m\u001b[0;34m=\u001b[0m\u001b[0maxis\u001b[0m\u001b[0;34m,\u001b[0m \u001b[0mskipna\u001b[0m\u001b[0;34m=\u001b[0m\u001b[0mskipna\u001b[0m\u001b[0;34m,\u001b[0m \u001b[0mnumeric_only\u001b[0m\u001b[0;34m=\u001b[0m\u001b[0mnumeric_only\u001b[0m\u001b[0;34m\u001b[0m\u001b[0;34m\u001b[0m\u001b[0m\n\u001b[0m\u001b[1;32m  10356\u001b[0m         )\n\u001b[1;32m  10357\u001b[0m \u001b[0;34m\u001b[0m\u001b[0m\n",
      "\u001b[0;32m~/opt/anaconda3/envs/teamcoder_ebm/lib/python3.7/site-packages/pandas/core/series.py\u001b[0m in \u001b[0;36m_reduce\u001b[0;34m(self, op, name, axis, skipna, numeric_only, filter_type, **kwds)\u001b[0m\n\u001b[1;32m   4390\u001b[0m                 )\n\u001b[1;32m   4391\u001b[0m             \u001b[0;32mwith\u001b[0m \u001b[0mnp\u001b[0m\u001b[0;34m.\u001b[0m\u001b[0merrstate\u001b[0m\u001b[0;34m(\u001b[0m\u001b[0mall\u001b[0m\u001b[0;34m=\u001b[0m\u001b[0;34m\"ignore\"\u001b[0m\u001b[0;34m)\u001b[0m\u001b[0;34m:\u001b[0m\u001b[0;34m\u001b[0m\u001b[0;34m\u001b[0m\u001b[0m\n\u001b[0;32m-> 4392\u001b[0;31m                 \u001b[0;32mreturn\u001b[0m \u001b[0mop\u001b[0m\u001b[0;34m(\u001b[0m\u001b[0mdelegate\u001b[0m\u001b[0;34m,\u001b[0m \u001b[0mskipna\u001b[0m\u001b[0;34m=\u001b[0m\u001b[0mskipna\u001b[0m\u001b[0;34m,\u001b[0m \u001b[0;34m**\u001b[0m\u001b[0mkwds\u001b[0m\u001b[0;34m)\u001b[0m\u001b[0;34m\u001b[0m\u001b[0;34m\u001b[0m\u001b[0m\n\u001b[0m\u001b[1;32m   4393\u001b[0m \u001b[0;34m\u001b[0m\u001b[0m\n\u001b[1;32m   4394\u001b[0m     def _reindex_indexer(\n",
      "\u001b[0;32m~/opt/anaconda3/envs/teamcoder_ebm/lib/python3.7/site-packages/pandas/core/nanops.py\u001b[0m in \u001b[0;36m_f\u001b[0;34m(*args, **kwargs)\u001b[0m\n\u001b[1;32m     92\u001b[0m             \u001b[0;32mtry\u001b[0m\u001b[0;34m:\u001b[0m\u001b[0;34m\u001b[0m\u001b[0;34m\u001b[0m\u001b[0m\n\u001b[1;32m     93\u001b[0m                 \u001b[0;32mwith\u001b[0m \u001b[0mnp\u001b[0m\u001b[0;34m.\u001b[0m\u001b[0merrstate\u001b[0m\u001b[0;34m(\u001b[0m\u001b[0minvalid\u001b[0m\u001b[0;34m=\u001b[0m\u001b[0;34m\"ignore\"\u001b[0m\u001b[0;34m)\u001b[0m\u001b[0;34m:\u001b[0m\u001b[0;34m\u001b[0m\u001b[0;34m\u001b[0m\u001b[0m\n\u001b[0;32m---> 94\u001b[0;31m                     \u001b[0;32mreturn\u001b[0m \u001b[0mf\u001b[0m\u001b[0;34m(\u001b[0m\u001b[0;34m*\u001b[0m\u001b[0margs\u001b[0m\u001b[0;34m,\u001b[0m \u001b[0;34m**\u001b[0m\u001b[0mkwargs\u001b[0m\u001b[0;34m)\u001b[0m\u001b[0;34m\u001b[0m\u001b[0;34m\u001b[0m\u001b[0m\n\u001b[0m\u001b[1;32m     95\u001b[0m             \u001b[0;32mexcept\u001b[0m \u001b[0mValueError\u001b[0m \u001b[0;32mas\u001b[0m \u001b[0me\u001b[0m\u001b[0;34m:\u001b[0m\u001b[0;34m\u001b[0m\u001b[0;34m\u001b[0m\u001b[0m\n\u001b[1;32m     96\u001b[0m                 \u001b[0;31m# we want to transform an object array\u001b[0m\u001b[0;34m\u001b[0m\u001b[0;34m\u001b[0m\u001b[0;34m\u001b[0m\u001b[0m\n",
      "\u001b[0;32m~/opt/anaconda3/envs/teamcoder_ebm/lib/python3.7/site-packages/pandas/core/nanops.py\u001b[0m in \u001b[0;36mf\u001b[0;34m(values, axis, skipna, **kwds)\u001b[0m\n\u001b[1;32m    154\u001b[0m                     \u001b[0mresult\u001b[0m \u001b[0;34m=\u001b[0m \u001b[0malt\u001b[0m\u001b[0;34m(\u001b[0m\u001b[0mvalues\u001b[0m\u001b[0;34m,\u001b[0m \u001b[0maxis\u001b[0m\u001b[0;34m=\u001b[0m\u001b[0maxis\u001b[0m\u001b[0;34m,\u001b[0m \u001b[0mskipna\u001b[0m\u001b[0;34m=\u001b[0m\u001b[0mskipna\u001b[0m\u001b[0;34m,\u001b[0m \u001b[0;34m**\u001b[0m\u001b[0mkwds\u001b[0m\u001b[0;34m)\u001b[0m\u001b[0;34m\u001b[0m\u001b[0;34m\u001b[0m\u001b[0m\n\u001b[1;32m    155\u001b[0m             \u001b[0;32melse\u001b[0m\u001b[0;34m:\u001b[0m\u001b[0;34m\u001b[0m\u001b[0;34m\u001b[0m\u001b[0m\n\u001b[0;32m--> 156\u001b[0;31m                 \u001b[0mresult\u001b[0m \u001b[0;34m=\u001b[0m \u001b[0malt\u001b[0m\u001b[0;34m(\u001b[0m\u001b[0mvalues\u001b[0m\u001b[0;34m,\u001b[0m \u001b[0maxis\u001b[0m\u001b[0;34m=\u001b[0m\u001b[0maxis\u001b[0m\u001b[0;34m,\u001b[0m \u001b[0mskipna\u001b[0m\u001b[0;34m=\u001b[0m\u001b[0mskipna\u001b[0m\u001b[0;34m,\u001b[0m \u001b[0;34m**\u001b[0m\u001b[0mkwds\u001b[0m\u001b[0;34m)\u001b[0m\u001b[0;34m\u001b[0m\u001b[0;34m\u001b[0m\u001b[0m\n\u001b[0m\u001b[1;32m    157\u001b[0m \u001b[0;34m\u001b[0m\u001b[0m\n\u001b[1;32m    158\u001b[0m             \u001b[0;32mreturn\u001b[0m \u001b[0mresult\u001b[0m\u001b[0;34m\u001b[0m\u001b[0;34m\u001b[0m\u001b[0m\n",
      "\u001b[0;32m~/opt/anaconda3/envs/teamcoder_ebm/lib/python3.7/site-packages/pandas/core/nanops.py\u001b[0m in \u001b[0;36mnew_func\u001b[0;34m(values, axis, skipna, mask, **kwargs)\u001b[0m\n\u001b[1;32m    409\u001b[0m             \u001b[0mmask\u001b[0m \u001b[0;34m=\u001b[0m \u001b[0misna\u001b[0m\u001b[0;34m(\u001b[0m\u001b[0mvalues\u001b[0m\u001b[0;34m)\u001b[0m\u001b[0;34m\u001b[0m\u001b[0;34m\u001b[0m\u001b[0m\n\u001b[1;32m    410\u001b[0m \u001b[0;34m\u001b[0m\u001b[0m\n\u001b[0;32m--> 411\u001b[0;31m         \u001b[0mresult\u001b[0m \u001b[0;34m=\u001b[0m \u001b[0mfunc\u001b[0m\u001b[0;34m(\u001b[0m\u001b[0mvalues\u001b[0m\u001b[0;34m,\u001b[0m \u001b[0maxis\u001b[0m\u001b[0;34m=\u001b[0m\u001b[0maxis\u001b[0m\u001b[0;34m,\u001b[0m \u001b[0mskipna\u001b[0m\u001b[0;34m=\u001b[0m\u001b[0mskipna\u001b[0m\u001b[0;34m,\u001b[0m \u001b[0mmask\u001b[0m\u001b[0;34m=\u001b[0m\u001b[0mmask\u001b[0m\u001b[0;34m,\u001b[0m \u001b[0;34m**\u001b[0m\u001b[0mkwargs\u001b[0m\u001b[0;34m)\u001b[0m\u001b[0;34m\u001b[0m\u001b[0;34m\u001b[0m\u001b[0m\n\u001b[0m\u001b[1;32m    412\u001b[0m \u001b[0;34m\u001b[0m\u001b[0m\n\u001b[1;32m    413\u001b[0m         \u001b[0;32mif\u001b[0m \u001b[0mdatetimelike\u001b[0m\u001b[0;34m:\u001b[0m\u001b[0;34m\u001b[0m\u001b[0;34m\u001b[0m\u001b[0m\n",
      "\u001b[0;32m~/opt/anaconda3/envs/teamcoder_ebm/lib/python3.7/site-packages/pandas/core/nanops.py\u001b[0m in \u001b[0;36mnanmean\u001b[0;34m(values, axis, skipna, mask)\u001b[0m\n\u001b[1;32m    664\u001b[0m \u001b[0;34m\u001b[0m\u001b[0m\n\u001b[1;32m    665\u001b[0m     \u001b[0mcount\u001b[0m \u001b[0;34m=\u001b[0m \u001b[0m_get_counts\u001b[0m\u001b[0;34m(\u001b[0m\u001b[0mvalues\u001b[0m\u001b[0;34m.\u001b[0m\u001b[0mshape\u001b[0m\u001b[0;34m,\u001b[0m \u001b[0mmask\u001b[0m\u001b[0;34m,\u001b[0m \u001b[0maxis\u001b[0m\u001b[0;34m,\u001b[0m \u001b[0mdtype\u001b[0m\u001b[0;34m=\u001b[0m\u001b[0mdtype_count\u001b[0m\u001b[0;34m)\u001b[0m\u001b[0;34m\u001b[0m\u001b[0;34m\u001b[0m\u001b[0m\n\u001b[0;32m--> 666\u001b[0;31m     \u001b[0mthe_sum\u001b[0m \u001b[0;34m=\u001b[0m \u001b[0m_ensure_numeric\u001b[0m\u001b[0;34m(\u001b[0m\u001b[0mvalues\u001b[0m\u001b[0;34m.\u001b[0m\u001b[0msum\u001b[0m\u001b[0;34m(\u001b[0m\u001b[0maxis\u001b[0m\u001b[0;34m,\u001b[0m \u001b[0mdtype\u001b[0m\u001b[0;34m=\u001b[0m\u001b[0mdtype_sum\u001b[0m\u001b[0;34m)\u001b[0m\u001b[0;34m)\u001b[0m\u001b[0;34m\u001b[0m\u001b[0;34m\u001b[0m\u001b[0m\n\u001b[0m\u001b[1;32m    667\u001b[0m \u001b[0;34m\u001b[0m\u001b[0m\n\u001b[1;32m    668\u001b[0m     \u001b[0;32mif\u001b[0m \u001b[0maxis\u001b[0m \u001b[0;32mis\u001b[0m \u001b[0;32mnot\u001b[0m \u001b[0;32mNone\u001b[0m \u001b[0;32mand\u001b[0m \u001b[0mgetattr\u001b[0m\u001b[0;34m(\u001b[0m\u001b[0mthe_sum\u001b[0m\u001b[0;34m,\u001b[0m \u001b[0;34m\"ndim\"\u001b[0m\u001b[0;34m,\u001b[0m \u001b[0;32mFalse\u001b[0m\u001b[0;34m)\u001b[0m\u001b[0;34m:\u001b[0m\u001b[0;34m\u001b[0m\u001b[0;34m\u001b[0m\u001b[0m\n",
      "\u001b[0;32m~/opt/anaconda3/envs/teamcoder_ebm/lib/python3.7/site-packages/numpy/core/_methods.py\u001b[0m in \u001b[0;36m_sum\u001b[0;34m(a, axis, dtype, out, keepdims, initial, where)\u001b[0m\n\u001b[1;32m     46\u001b[0m def _sum(a, axis=None, dtype=None, out=None, keepdims=False,\n\u001b[1;32m     47\u001b[0m          initial=_NoValue, where=True):\n\u001b[0;32m---> 48\u001b[0;31m     \u001b[0;32mreturn\u001b[0m \u001b[0mumr_sum\u001b[0m\u001b[0;34m(\u001b[0m\u001b[0ma\u001b[0m\u001b[0;34m,\u001b[0m \u001b[0maxis\u001b[0m\u001b[0;34m,\u001b[0m \u001b[0mdtype\u001b[0m\u001b[0;34m,\u001b[0m \u001b[0mout\u001b[0m\u001b[0;34m,\u001b[0m \u001b[0mkeepdims\u001b[0m\u001b[0;34m,\u001b[0m \u001b[0minitial\u001b[0m\u001b[0;34m,\u001b[0m \u001b[0mwhere\u001b[0m\u001b[0;34m)\u001b[0m\u001b[0;34m\u001b[0m\u001b[0;34m\u001b[0m\u001b[0m\n\u001b[0m\u001b[1;32m     49\u001b[0m \u001b[0;34m\u001b[0m\u001b[0m\n\u001b[1;32m     50\u001b[0m def _prod(a, axis=None, dtype=None, out=None, keepdims=False,\n",
      "\u001b[0;31mTypeError\u001b[0m: can only concatenate str (not \"int\") to str"
     ]
    }
   ],
   "source": [
    "cases_mean = df_raw['cases_no'].mean()"
   ]
  },
  {
   "cell_type": "markdown",
   "metadata": {},
   "source": [
    "You should have received an error here, and the key reason for this can be seen at the bottom of the printout of the variable `cases_no`. This column is of the data type `object`. This typically denotes a mixture of different data, both numeric and non-numeric. As a result, pandas cannot work out a mean. We will focus on handling missing and incorrectly coded data in the next section.\n",
    "\n",
    "*** "
   ]
  },
  {
   "cell_type": "markdown",
   "metadata": {},
   "source": [
    "\n",
    "## 3. Handling missing data\n",
    "In the above printout of `cases_no`, we can see the code `NaN` in some of the rows, which is a special numeric value in numpy and pandas, which means \"Not A Number\". When Pandas reads in the file, it identifies empty values, as well as certain strings (there are many, but for example \"`#N/A`\" and \"`None`\"), as missing data and replaces this with the `NaN` code. However, especially when data has not yet been cleaned, there may be many other ways that a missing value is indicated, such as the string `Missing` or a specific numeric code. There are many ways of handling missing data, but the first step in all of them is to identify the missing data and make sure they are labelled as such by pandas. In this section, we will identify all of the missing values and prepare the format of our DataFrame to be ready for analysis.\n"
   ]
  },
  {
   "cell_type": "markdown",
   "metadata": {},
   "source": [
    "### 3.1 Identifying missing data\n",
    "Pandas has a function to test whether data has this special value of `NaN`:  `isnull()` or `isna()`. The opposite function to detect non-missing values is `notnull()` or `notna()`. The output from these functions are boolean (i.e. `True` or `False`).  \n",
    "\n",
    "The following code will check every cell in our DataFrame and tell us how many have missing values. "
   ]
  },
  {
   "cell_type": "code",
   "execution_count": 23,
   "metadata": {},
   "outputs": [
    {
     "data": {
      "text/plain": [
       "country  year   sex    age    cases_no  population  HDI for year   gdp_for_year ($) \n",
       "False    False  False  False  False     False       True          False                 16357\n",
       "                                                    False         False                  7218\n",
       "                              True      False       True          False                  3115\n",
       "                                                    False         False                  1150\n",
       "dtype: int64"
      ]
     },
     "execution_count": 23,
     "metadata": {},
     "output_type": "execute_result"
    }
   ],
   "source": [
    "df_raw.isnull().value_counts() # Indicates with True that there are Nulls and counts the values that are numbers "
   ]
  },
  {
   "cell_type": "markdown",
   "metadata": {},
   "source": [
    "The output shows all of the combinations with missing data. Two columns - `cases_no` and `HDI for year` - have some missing values because the `isnull()` test has returned `True`. "
   ]
  },
  {
   "cell_type": "code",
   "execution_count": 27,
   "metadata": {},
   "outputs": [
    {
     "data": {
      "text/html": [
       "<div>\n",
       "<style scoped>\n",
       "    .dataframe tbody tr th:only-of-type {\n",
       "        vertical-align: middle;\n",
       "    }\n",
       "\n",
       "    .dataframe tbody tr th {\n",
       "        vertical-align: top;\n",
       "    }\n",
       "\n",
       "    .dataframe thead th {\n",
       "        text-align: right;\n",
       "    }\n",
       "</style>\n",
       "<table border=\"1\" class=\"dataframe\">\n",
       "  <thead>\n",
       "    <tr style=\"text-align: right;\">\n",
       "      <th></th>\n",
       "      <th>country</th>\n",
       "      <th>year</th>\n",
       "      <th>sex</th>\n",
       "      <th>age</th>\n",
       "      <th>cases_no</th>\n",
       "      <th>population</th>\n",
       "      <th>HDI for year</th>\n",
       "      <th>gdp_for_year ($)</th>\n",
       "    </tr>\n",
       "  </thead>\n",
       "  <tbody>\n",
       "    <tr>\n",
       "      <th>27835</th>\n",
       "      <td>False</td>\n",
       "      <td>False</td>\n",
       "      <td>False</td>\n",
       "      <td>False</td>\n",
       "      <td>False</td>\n",
       "      <td>False</td>\n",
       "      <td>False</td>\n",
       "      <td>False</td>\n",
       "    </tr>\n",
       "    <tr>\n",
       "      <th>27836</th>\n",
       "      <td>False</td>\n",
       "      <td>False</td>\n",
       "      <td>False</td>\n",
       "      <td>False</td>\n",
       "      <td>False</td>\n",
       "      <td>False</td>\n",
       "      <td>True</td>\n",
       "      <td>False</td>\n",
       "    </tr>\n",
       "    <tr>\n",
       "      <th>27837</th>\n",
       "      <td>False</td>\n",
       "      <td>False</td>\n",
       "      <td>False</td>\n",
       "      <td>False</td>\n",
       "      <td>False</td>\n",
       "      <td>False</td>\n",
       "      <td>True</td>\n",
       "      <td>False</td>\n",
       "    </tr>\n",
       "    <tr>\n",
       "      <th>27838</th>\n",
       "      <td>False</td>\n",
       "      <td>False</td>\n",
       "      <td>False</td>\n",
       "      <td>False</td>\n",
       "      <td>True</td>\n",
       "      <td>False</td>\n",
       "      <td>True</td>\n",
       "      <td>False</td>\n",
       "    </tr>\n",
       "    <tr>\n",
       "      <th>27839</th>\n",
       "      <td>False</td>\n",
       "      <td>False</td>\n",
       "      <td>False</td>\n",
       "      <td>False</td>\n",
       "      <td>False</td>\n",
       "      <td>False</td>\n",
       "      <td>True</td>\n",
       "      <td>False</td>\n",
       "    </tr>\n",
       "  </tbody>\n",
       "</table>\n",
       "</div>"
      ],
      "text/plain": [
       "       country   year    sex    age  cases_no  population  HDI for year  \\\n",
       "27835    False  False  False  False     False       False         False   \n",
       "27836    False  False  False  False     False       False          True   \n",
       "27837    False  False  False  False     False       False          True   \n",
       "27838    False  False  False  False      True       False          True   \n",
       "27839    False  False  False  False     False       False          True   \n",
       "\n",
       "        gdp_for_year ($)   \n",
       "27835               False  \n",
       "27836               False  \n",
       "27837               False  \n",
       "27838               False  \n",
       "27839               False  "
      ]
     },
     "execution_count": 27,
     "metadata": {},
     "output_type": "execute_result"
    }
   ],
   "source": [
    "missing_data = df_raw.isnull() # find data that are null and return 'True' if is null and 'False' if it is not\n",
    "missing_data.head(20)\n",
    "missing_data.tail(5)"
   ]
  },
  {
   "cell_type": "markdown",
   "metadata": {},
   "source": [
    "What if we wanted to determine the number of missing values for each column separately? We can use a loop to get the number of missing values found in each column."
   ]
  },
  {
   "cell_type": "code",
   "execution_count": 25,
   "metadata": {},
   "outputs": [
    {
     "name": "stdout",
     "output_type": "stream",
     "text": [
      "country\n",
      "False    27840\n",
      "Name: country, dtype: int64\n",
      "----\n",
      "year\n",
      "False    27840\n",
      "Name: year, dtype: int64\n",
      "----\n",
      "sex\n",
      "False    27840\n",
      "Name: sex, dtype: int64\n",
      "----\n",
      "age\n",
      "False    27840\n",
      "Name: age, dtype: int64\n",
      "----\n",
      "cases_no\n",
      "False    23575\n",
      "True      4265\n",
      "Name: cases_no, dtype: int64\n",
      "----\n",
      "population\n",
      "False    27840\n",
      "Name: population, dtype: int64\n",
      "----\n",
      "HDI for year\n",
      "True     19472\n",
      "False     8368\n",
      "Name: HDI for year, dtype: int64\n",
      "----\n",
      " gdp_for_year ($) \n",
      "False    27840\n",
      "Name:  gdp_for_year ($) , dtype: int64\n",
      "----\n"
     ]
    }
   ],
   "source": [
    "# This loop will go through each column in the data frame\n",
    "for column in missing_data:  \n",
    "    print(column)\n",
    "    print(missing_data[column].value_counts())\n",
    "    print('----')"
   ]
  },
  {
   "cell_type": "markdown",
   "metadata": {},
   "source": [
    "The length of the dataframe is 27,840 and the column `cases_no` has 23,575 rows where `isnull()` is `False`, indicating that there is numeric data, and it has 4,265 values of `True` (27,840 - 23,575). \n",
    "\n",
    "The `HDI for year` column has many more observations with missing values - 19,472 in total. "
   ]
  },
  {
   "cell_type": "markdown",
   "metadata": {},
   "source": [
    "### 3.2 Identifying non-numeric data in a column\n",
    "Most of the missing values have already been identified and appropriately labelled by pandas, but since the `cases_no` column is not a numeric datatype, there must still be some non-numeric data stored in it. All the values are currently represented by strings, so we can find all rows where the string represents data that is non-numeric. We will use the method `str.isdigit()`, which will generate a set of Boolean values much like our test above with `isnull()` did. "
   ]
  },
  {
   "cell_type": "code",
   "execution_count": 57,
   "metadata": {
    "tags": []
   },
   "outputs": [
    {
     "data": {
      "text/plain": [
       "False    27840\n",
       "Name: cases_no, dtype: int64"
      ]
     },
     "execution_count": 57,
     "metadata": {},
     "output_type": "execute_result"
    }
   ],
   "source": [
    "non_numeric = ( df_raw['cases_no'].str.isdigit() == False) #needs == False otherwise you get True values for everything False and NaNs for some of the False values. What you want is \"True\" for the lines where there are null values. \n",
    "non_numeric.value_counts()"
   ]
  },
  {
   "cell_type": "code",
   "execution_count": 58,
   "metadata": {
    "tags": []
   },
   "outputs": [
    {
     "data": {
      "text/plain": [
       "27835    False\n",
       "27836    False\n",
       "27837    False\n",
       "27838    False\n",
       "27839    False\n",
       "Name: cases_no, dtype: bool"
      ]
     },
     "execution_count": 58,
     "metadata": {},
     "output_type": "execute_result"
    }
   ],
   "source": [
    "non_numeric.tail(5)"
   ]
  },
  {
   "cell_type": "markdown",
   "metadata": {},
   "source": [
    " Notice how this method has only found twenty values, far less than we found with the `isnull()` method. That is because `NaN` is considered a numeric value. However, these are the values that are keeping us from having numeric data and being able to get a simple mean out. So we need to find out what they are and handle them appropriately. \n",
    " \n",
    "We will use a handy method in pandas called _boolean indexing_. The following code will only select rows in the column `cases_no` where the variable `non_numeric` is equal to `True`. Thus it will return only twenty rows, the ones that have non-numeric data, meaning that we can easily see these 20 rows from the 27,840 in total. From these selected rows, we will use the method `unique()` to remove duplicate values. "
   ]
  },
  {
   "cell_type": "code",
   "execution_count": 59,
   "metadata": {},
   "outputs": [
    {
     "name": "stdout",
     "output_type": "stream",
     "text": [
      "Series([], Name: cases_no, dtype: object)\n",
      "The non-numeric data contains the following values:[]\n"
     ]
    }
   ],
   "source": [
    "print(df_raw['cases_no'][non_numeric])\n",
    "print(\n",
    "    f\"The non-numeric data contains the following values:\"\n",
    "    f\"{df_raw['cases_no'][non_numeric].unique()}\"\n",
    ")"
   ]
  },
  {
   "cell_type": "markdown",
   "metadata": {},
   "source": [
    "So these twenty rows have two unique values: `Null` and `Unknown`. These two strings are not automatically identified and labelled as missing by pandas when reading in the file and now we can set these values as missing. We can use the `replace()` function to remove these values."
   ]
  },
  {
   "cell_type": "code",
   "execution_count": 60,
   "metadata": {},
   "outputs": [
    {
     "data": {
      "text/plain": [
       "False    27840\n",
       "Name: cases_no, dtype: int64"
      ]
     },
     "execution_count": 60,
     "metadata": {},
     "output_type": "execute_result"
    }
   ],
   "source": [
    "df_raw['cases_no'] = df_raw['cases_no'].replace('Null',np.nan)\n",
    "df_raw['cases_no'] = df_raw['cases_no'].replace('Unknown',np.nan)\n",
    "non_numeric = ( df_raw['cases_no'].str.isdigit() == False)\n",
    "non_numeric.value_counts()"
   ]
  },
  {
   "cell_type": "markdown",
   "metadata": {},
   "source": [
    "### Exercise 4\n",
    "The output should indicate that `cases_no` no longer has non-numeric data. How can you tell that? Put your answer in the blank markdown cell below."
   ]
  },
  {
   "cell_type": "markdown",
   "metadata": {},
   "source": [
    "#### Answer\n",
    "\n",
    "There are no more \"true\" values indicating that str.isdigit() in cases_no is always true, so all values are digits."
   ]
  },
  {
   "cell_type": "markdown",
   "metadata": {},
   "source": [
    "### Exercise 5\n",
    "What datatype is `cases_no` now? Will the mean work?"
   ]
  },
  {
   "cell_type": "code",
   "execution_count": 61,
   "metadata": {},
   "outputs": [
    {
     "data": {
      "text/plain": [
       "0         21\n",
       "1         16\n",
       "2         14\n",
       "3          1\n",
       "4          9\n",
       "        ... \n",
       "27835      6\n",
       "27836    152\n",
       "27837     21\n",
       "27838    NaN\n",
       "27839      7\n",
       "Name: cases_no, Length: 27840, dtype: object"
      ]
     },
     "execution_count": 61,
     "metadata": {},
     "output_type": "execute_result"
    }
   ],
   "source": [
    "df_raw['cases_no']"
   ]
  },
  {
   "cell_type": "markdown",
   "metadata": {},
   "source": [
    "So we still need to have pandas convert this to a numeric type that will allow us to do more analysis with it.  "
   ]
  },
  {
   "cell_type": "code",
   "execution_count": 62,
   "metadata": {},
   "outputs": [
    {
     "name": "stdout",
     "output_type": "stream",
     "text": [
      "float64\n"
     ]
    },
    {
     "data": {
      "text/plain": [
       "0         21.0\n",
       "1         16.0\n",
       "2         14.0\n",
       "3          1.0\n",
       "4          9.0\n",
       "         ...  \n",
       "27835      6.0\n",
       "27836    152.0\n",
       "27837     21.0\n",
       "27838      NaN\n",
       "27839      7.0\n",
       "Name: cases_no, Length: 27840, dtype: float64"
      ]
     },
     "execution_count": 62,
     "metadata": {},
     "output_type": "execute_result"
    }
   ],
   "source": [
    "df_raw['cases_no'] = df_raw['cases_no'].apply(pd.to_numeric)\n",
    "print(df_raw['cases_no'].dtype)\n",
    "df_raw['cases_no']"
   ]
  },
  {
   "cell_type": "markdown",
   "metadata": {},
   "source": [
    "Does the mean now work?"
   ]
  },
  {
   "cell_type": "code",
   "execution_count": 63,
   "metadata": {},
   "outputs": [
    {
     "name": "stdout",
     "output_type": "stream",
     "text": [
      "217.80072171513478\n"
     ]
    }
   ],
   "source": [
    "cases_mean = df_raw['cases_no'].mean()\n",
    "print(cases_mean)"
   ]
  },
  {
   "cell_type": "markdown",
   "metadata": {},
   "source": [
    "### 3.3 Dealing with missing data\n",
    "Now that we have identified what data is missing, how should we handle that for our analysis? There are many options, and the right one will be based on the data and what assumptions that can be made on why the data is missing. For some of the more complex options, you should consult with a statistician before implementing.\n",
    "\n",
    "* Drop data\n",
    "  * Drop the whole row\n",
    "  * Drop the whole column\n",
    "* Replace data - often known as imputation\n",
    "  * Replace it with the mean\n",
    "  * Replace it by the mode\n",
    "  * Replace it based on other functions\n",
    "  * Replace it with multiple guesses from the expected distribution (multiple imputation)\n",
    "\n",
    "\n"
   ]
  },
  {
   "cell_type": "markdown",
   "metadata": {},
   "source": [
    "####  Dropping a column with lots of missing data.\n",
    "To remove a column we use the `pandas.DataFrame.drop()` method. The input argument should be the list of column names that you want to drop, and axis argument should be set to one to tell pandas that you are wanting to drop columns, not rows. \n",
    "\n",
    "We don't need the column `HDI for year` for our analysis, and since there are a lot of missing values there, we can just drop it from the data frame. \n",
    "\n",
    "To avoid writing over the original data_frame, we will save the output to a new variable.\n"
   ]
  },
  {
   "cell_type": "code",
   "execution_count": 64,
   "metadata": {},
   "outputs": [
    {
     "data": {
      "text/html": [
       "<div>\n",
       "<style scoped>\n",
       "    .dataframe tbody tr th:only-of-type {\n",
       "        vertical-align: middle;\n",
       "    }\n",
       "\n",
       "    .dataframe tbody tr th {\n",
       "        vertical-align: top;\n",
       "    }\n",
       "\n",
       "    .dataframe thead th {\n",
       "        text-align: right;\n",
       "    }\n",
       "</style>\n",
       "<table border=\"1\" class=\"dataframe\">\n",
       "  <thead>\n",
       "    <tr style=\"text-align: right;\">\n",
       "      <th></th>\n",
       "      <th>country</th>\n",
       "      <th>year</th>\n",
       "      <th>sex</th>\n",
       "      <th>age</th>\n",
       "      <th>cases_no</th>\n",
       "      <th>population</th>\n",
       "      <th>gdp_for_year ($)</th>\n",
       "    </tr>\n",
       "  </thead>\n",
       "  <tbody>\n",
       "    <tr>\n",
       "      <th>0</th>\n",
       "      <td>Albania</td>\n",
       "      <td>1987</td>\n",
       "      <td>male</td>\n",
       "      <td>15-24 years</td>\n",
       "      <td>21.0</td>\n",
       "      <td>312900</td>\n",
       "      <td>2,156,624,900</td>\n",
       "    </tr>\n",
       "    <tr>\n",
       "      <th>1</th>\n",
       "      <td>Albania</td>\n",
       "      <td>1987</td>\n",
       "      <td>male</td>\n",
       "      <td>35-54 years</td>\n",
       "      <td>16.0</td>\n",
       "      <td>308000</td>\n",
       "      <td>2,156,624,900</td>\n",
       "    </tr>\n",
       "    <tr>\n",
       "      <th>2</th>\n",
       "      <td>Albania</td>\n",
       "      <td>1987</td>\n",
       "      <td>female</td>\n",
       "      <td>15-24 years</td>\n",
       "      <td>14.0</td>\n",
       "      <td>289700</td>\n",
       "      <td>2,156,624,900</td>\n",
       "    </tr>\n",
       "    <tr>\n",
       "      <th>3</th>\n",
       "      <td>Albania</td>\n",
       "      <td>1987</td>\n",
       "      <td>male</td>\n",
       "      <td>75+ years</td>\n",
       "      <td>1.0</td>\n",
       "      <td>21800</td>\n",
       "      <td>2,156,624,900</td>\n",
       "    </tr>\n",
       "    <tr>\n",
       "      <th>4</th>\n",
       "      <td>Albania</td>\n",
       "      <td>1987</td>\n",
       "      <td>male</td>\n",
       "      <td>25-34 years</td>\n",
       "      <td>9.0</td>\n",
       "      <td>274300</td>\n",
       "      <td>2,156,624,900</td>\n",
       "    </tr>\n",
       "    <tr>\n",
       "      <th>...</th>\n",
       "      <td>...</td>\n",
       "      <td>...</td>\n",
       "      <td>...</td>\n",
       "      <td>...</td>\n",
       "      <td>...</td>\n",
       "      <td>...</td>\n",
       "      <td>...</td>\n",
       "    </tr>\n",
       "    <tr>\n",
       "      <th>27835</th>\n",
       "      <td>Belgium</td>\n",
       "      <td>2011</td>\n",
       "      <td>female</td>\n",
       "      <td>25-34 years</td>\n",
       "      <td>6.0</td>\n",
       "      <td>707535</td>\n",
       "      <td>527,008,453,887</td>\n",
       "    </tr>\n",
       "    <tr>\n",
       "      <th>27836</th>\n",
       "      <td>Thailand</td>\n",
       "      <td>2016</td>\n",
       "      <td>male</td>\n",
       "      <td>75+ years</td>\n",
       "      <td>152.0</td>\n",
       "      <td>1124052</td>\n",
       "      <td>411,755,164,833</td>\n",
       "    </tr>\n",
       "    <tr>\n",
       "      <th>27837</th>\n",
       "      <td>Netherlands</td>\n",
       "      <td>1998</td>\n",
       "      <td>female</td>\n",
       "      <td>15-24 years</td>\n",
       "      <td>21.0</td>\n",
       "      <td>934500</td>\n",
       "      <td>432,476,116,419</td>\n",
       "    </tr>\n",
       "    <tr>\n",
       "      <th>27838</th>\n",
       "      <td>Grenada</td>\n",
       "      <td>2002</td>\n",
       "      <td>female</td>\n",
       "      <td>5-14 years</td>\n",
       "      <td>NaN</td>\n",
       "      <td>11760</td>\n",
       "      <td>540,336,926</td>\n",
       "    </tr>\n",
       "    <tr>\n",
       "      <th>27839</th>\n",
       "      <td>Mexico</td>\n",
       "      <td>1988</td>\n",
       "      <td>female</td>\n",
       "      <td>75+ years</td>\n",
       "      <td>7.0</td>\n",
       "      <td>614000</td>\n",
       "      <td>183,144,164,357</td>\n",
       "    </tr>\n",
       "  </tbody>\n",
       "</table>\n",
       "<p>27840 rows × 7 columns</p>\n",
       "</div>"
      ],
      "text/plain": [
       "           country  year     sex          age  cases_no  population  \\\n",
       "0          Albania  1987    male  15-24 years      21.0      312900   \n",
       "1          Albania  1987    male  35-54 years      16.0      308000   \n",
       "2          Albania  1987  female  15-24 years      14.0      289700   \n",
       "3          Albania  1987    male    75+ years       1.0       21800   \n",
       "4          Albania  1987    male  25-34 years       9.0      274300   \n",
       "...            ...   ...     ...          ...       ...         ...   \n",
       "27835      Belgium  2011  female  25-34 years       6.0      707535   \n",
       "27836     Thailand  2016    male    75+ years     152.0     1124052   \n",
       "27837  Netherlands  1998  female  15-24 years      21.0      934500   \n",
       "27838      Grenada  2002  female   5-14 years       NaN       11760   \n",
       "27839       Mexico  1988  female    75+ years       7.0      614000   \n",
       "\n",
       "       gdp_for_year ($)   \n",
       "0          2,156,624,900  \n",
       "1          2,156,624,900  \n",
       "2          2,156,624,900  \n",
       "3          2,156,624,900  \n",
       "4          2,156,624,900  \n",
       "...                  ...  \n",
       "27835    527,008,453,887  \n",
       "27836    411,755,164,833  \n",
       "27837    432,476,116,419  \n",
       "27838        540,336,926  \n",
       "27839    183,144,164,357  \n",
       "\n",
       "[27840 rows x 7 columns]"
      ]
     },
     "execution_count": 64,
     "metadata": {},
     "output_type": "execute_result"
    }
   ],
   "source": [
    "df_no_hdi = df_raw.drop(['HDI for year'], axis = 1)                         \n",
    "df_no_hdi"
   ]
  },
  {
   "cell_type": "markdown",
   "metadata": {},
   "source": [
    "Now we turn to the other variable in the data frame that had missing values `cases_no`. Now that all of the missing values are coded properly, we can identify all of the missing data with the `isnull()` function. "
   ]
  },
  {
   "cell_type": "code",
   "execution_count": 65,
   "metadata": {},
   "outputs": [
    {
     "data": {
      "text/plain": [
       "False    23555\n",
       "True      4285\n",
       "Name: cases_no, dtype: int64"
      ]
     },
     "execution_count": 65,
     "metadata": {},
     "output_type": "execute_result"
    }
   ],
   "source": [
    "missing_values = df_no_hdi['cases_no'].isnull()\n",
    "missing_values.value_counts()"
   ]
  },
  {
   "cell_type": "markdown",
   "metadata": {},
   "source": [
    "Now that we have correctly assigned those twenty values as `NaN`, there are twenty more `True` values when we call `isnull()`.\n",
    "\n",
    "To do a _complete case analysis_, we can simply use the `dropna()` function. Even though `cases_no` is now the only column with missing data, we tell dropna to only consider it when decided which rows to drop. We use `axis=0` to tell it to drop rows, not columns. "
   ]
  },
  {
   "cell_type": "code",
   "execution_count": 66,
   "metadata": {},
   "outputs": [
    {
     "name": "stdout",
     "output_type": "stream",
     "text": [
      "<class 'pandas.core.frame.DataFrame'>\n",
      "Int64Index: 23555 entries, 0 to 27839\n",
      "Data columns (total 7 columns):\n",
      " #   Column              Non-Null Count  Dtype  \n",
      "---  ------              --------------  -----  \n",
      " 0   country             23555 non-null  object \n",
      " 1   year                23555 non-null  int64  \n",
      " 2   sex                 23555 non-null  object \n",
      " 3   age                 23555 non-null  object \n",
      " 4   cases_no            23555 non-null  float64\n",
      " 5   population          23555 non-null  int64  \n",
      " 6    gdp_for_year ($)   23555 non-null  object \n",
      "dtypes: float64(1), int64(2), object(4)\n",
      "memory usage: 1.4+ MB\n"
     ]
    }
   ],
   "source": [
    "df_complete = df_no_hdi.dropna(axis=0, subset=['cases_no'])\n",
    "df_complete.info()"
   ]
  },
  {
   "cell_type": "markdown",
   "metadata": {},
   "source": [
    "Note that the new data frame only contains 23555 entries, which is how many rows with non-missing `cases_no` values. Let's take a look at the actual data. "
   ]
  },
  {
   "cell_type": "code",
   "execution_count": 67,
   "metadata": {},
   "outputs": [
    {
     "data": {
      "text/html": [
       "<div>\n",
       "<style scoped>\n",
       "    .dataframe tbody tr th:only-of-type {\n",
       "        vertical-align: middle;\n",
       "    }\n",
       "\n",
       "    .dataframe tbody tr th {\n",
       "        vertical-align: top;\n",
       "    }\n",
       "\n",
       "    .dataframe thead th {\n",
       "        text-align: right;\n",
       "    }\n",
       "</style>\n",
       "<table border=\"1\" class=\"dataframe\">\n",
       "  <thead>\n",
       "    <tr style=\"text-align: right;\">\n",
       "      <th></th>\n",
       "      <th>country</th>\n",
       "      <th>year</th>\n",
       "      <th>sex</th>\n",
       "      <th>age</th>\n",
       "      <th>cases_no</th>\n",
       "      <th>population</th>\n",
       "      <th>gdp_for_year ($)</th>\n",
       "    </tr>\n",
       "  </thead>\n",
       "  <tbody>\n",
       "    <tr>\n",
       "      <th>0</th>\n",
       "      <td>Albania</td>\n",
       "      <td>1987</td>\n",
       "      <td>male</td>\n",
       "      <td>15-24 years</td>\n",
       "      <td>21.0</td>\n",
       "      <td>312900</td>\n",
       "      <td>2,156,624,900</td>\n",
       "    </tr>\n",
       "    <tr>\n",
       "      <th>1</th>\n",
       "      <td>Albania</td>\n",
       "      <td>1987</td>\n",
       "      <td>male</td>\n",
       "      <td>35-54 years</td>\n",
       "      <td>16.0</td>\n",
       "      <td>308000</td>\n",
       "      <td>2,156,624,900</td>\n",
       "    </tr>\n",
       "    <tr>\n",
       "      <th>2</th>\n",
       "      <td>Albania</td>\n",
       "      <td>1987</td>\n",
       "      <td>female</td>\n",
       "      <td>15-24 years</td>\n",
       "      <td>14.0</td>\n",
       "      <td>289700</td>\n",
       "      <td>2,156,624,900</td>\n",
       "    </tr>\n",
       "    <tr>\n",
       "      <th>3</th>\n",
       "      <td>Albania</td>\n",
       "      <td>1987</td>\n",
       "      <td>male</td>\n",
       "      <td>75+ years</td>\n",
       "      <td>1.0</td>\n",
       "      <td>21800</td>\n",
       "      <td>2,156,624,900</td>\n",
       "    </tr>\n",
       "    <tr>\n",
       "      <th>4</th>\n",
       "      <td>Albania</td>\n",
       "      <td>1987</td>\n",
       "      <td>male</td>\n",
       "      <td>25-34 years</td>\n",
       "      <td>9.0</td>\n",
       "      <td>274300</td>\n",
       "      <td>2,156,624,900</td>\n",
       "    </tr>\n",
       "    <tr>\n",
       "      <th>...</th>\n",
       "      <td>...</td>\n",
       "      <td>...</td>\n",
       "      <td>...</td>\n",
       "      <td>...</td>\n",
       "      <td>...</td>\n",
       "      <td>...</td>\n",
       "      <td>...</td>\n",
       "    </tr>\n",
       "    <tr>\n",
       "      <th>27834</th>\n",
       "      <td>Ukraine</td>\n",
       "      <td>2005</td>\n",
       "      <td>female</td>\n",
       "      <td>25-34 years</td>\n",
       "      <td>182.0</td>\n",
       "      <td>3380536</td>\n",
       "      <td>86,142,018,069</td>\n",
       "    </tr>\n",
       "    <tr>\n",
       "      <th>27835</th>\n",
       "      <td>Belgium</td>\n",
       "      <td>2011</td>\n",
       "      <td>female</td>\n",
       "      <td>25-34 years</td>\n",
       "      <td>6.0</td>\n",
       "      <td>707535</td>\n",
       "      <td>527,008,453,887</td>\n",
       "    </tr>\n",
       "    <tr>\n",
       "      <th>27836</th>\n",
       "      <td>Thailand</td>\n",
       "      <td>2016</td>\n",
       "      <td>male</td>\n",
       "      <td>75+ years</td>\n",
       "      <td>152.0</td>\n",
       "      <td>1124052</td>\n",
       "      <td>411,755,164,833</td>\n",
       "    </tr>\n",
       "    <tr>\n",
       "      <th>27837</th>\n",
       "      <td>Netherlands</td>\n",
       "      <td>1998</td>\n",
       "      <td>female</td>\n",
       "      <td>15-24 years</td>\n",
       "      <td>21.0</td>\n",
       "      <td>934500</td>\n",
       "      <td>432,476,116,419</td>\n",
       "    </tr>\n",
       "    <tr>\n",
       "      <th>27839</th>\n",
       "      <td>Mexico</td>\n",
       "      <td>1988</td>\n",
       "      <td>female</td>\n",
       "      <td>75+ years</td>\n",
       "      <td>7.0</td>\n",
       "      <td>614000</td>\n",
       "      <td>183,144,164,357</td>\n",
       "    </tr>\n",
       "  </tbody>\n",
       "</table>\n",
       "<p>23555 rows × 7 columns</p>\n",
       "</div>"
      ],
      "text/plain": [
       "           country  year     sex          age  cases_no  population  \\\n",
       "0          Albania  1987    male  15-24 years      21.0      312900   \n",
       "1          Albania  1987    male  35-54 years      16.0      308000   \n",
       "2          Albania  1987  female  15-24 years      14.0      289700   \n",
       "3          Albania  1987    male    75+ years       1.0       21800   \n",
       "4          Albania  1987    male  25-34 years       9.0      274300   \n",
       "...            ...   ...     ...          ...       ...         ...   \n",
       "27834      Ukraine  2005  female  25-34 years     182.0     3380536   \n",
       "27835      Belgium  2011  female  25-34 years       6.0      707535   \n",
       "27836     Thailand  2016    male    75+ years     152.0     1124052   \n",
       "27837  Netherlands  1998  female  15-24 years      21.0      934500   \n",
       "27839       Mexico  1988  female    75+ years       7.0      614000   \n",
       "\n",
       "       gdp_for_year ($)   \n",
       "0          2,156,624,900  \n",
       "1          2,156,624,900  \n",
       "2          2,156,624,900  \n",
       "3          2,156,624,900  \n",
       "4          2,156,624,900  \n",
       "...                  ...  \n",
       "27834     86,142,018,069  \n",
       "27835    527,008,453,887  \n",
       "27836    411,755,164,833  \n",
       "27837    432,476,116,419  \n",
       "27839    183,144,164,357  \n",
       "\n",
       "[23555 rows x 7 columns]"
      ]
     },
     "execution_count": 67,
     "metadata": {},
     "output_type": "execute_result"
    }
   ],
   "source": [
    "df_complete"
   ]
  },
  {
   "cell_type": "markdown",
   "metadata": {},
   "source": [
    "It's a bit odd that we have only 23,555 rows now but some of the rows in the spreadsheet still have their old index (27839). We can fix that by using `reset_index(drop=True)`. Reset index restarts the indexes at 0 and counting up. The `drop=True` tells pandas that we do not want to retain the old index."
   ]
  },
  {
   "cell_type": "code",
   "execution_count": 68,
   "metadata": {},
   "outputs": [
    {
     "data": {
      "text/html": [
       "<div>\n",
       "<style scoped>\n",
       "    .dataframe tbody tr th:only-of-type {\n",
       "        vertical-align: middle;\n",
       "    }\n",
       "\n",
       "    .dataframe tbody tr th {\n",
       "        vertical-align: top;\n",
       "    }\n",
       "\n",
       "    .dataframe thead th {\n",
       "        text-align: right;\n",
       "    }\n",
       "</style>\n",
       "<table border=\"1\" class=\"dataframe\">\n",
       "  <thead>\n",
       "    <tr style=\"text-align: right;\">\n",
       "      <th></th>\n",
       "      <th>country</th>\n",
       "      <th>year</th>\n",
       "      <th>sex</th>\n",
       "      <th>age</th>\n",
       "      <th>cases_no</th>\n",
       "      <th>population</th>\n",
       "      <th>gdp_for_year ($)</th>\n",
       "    </tr>\n",
       "  </thead>\n",
       "  <tbody>\n",
       "    <tr>\n",
       "      <th>0</th>\n",
       "      <td>Albania</td>\n",
       "      <td>1987</td>\n",
       "      <td>male</td>\n",
       "      <td>15-24 years</td>\n",
       "      <td>21.0</td>\n",
       "      <td>312900</td>\n",
       "      <td>2,156,624,900</td>\n",
       "    </tr>\n",
       "    <tr>\n",
       "      <th>1</th>\n",
       "      <td>Albania</td>\n",
       "      <td>1987</td>\n",
       "      <td>male</td>\n",
       "      <td>35-54 years</td>\n",
       "      <td>16.0</td>\n",
       "      <td>308000</td>\n",
       "      <td>2,156,624,900</td>\n",
       "    </tr>\n",
       "    <tr>\n",
       "      <th>2</th>\n",
       "      <td>Albania</td>\n",
       "      <td>1987</td>\n",
       "      <td>female</td>\n",
       "      <td>15-24 years</td>\n",
       "      <td>14.0</td>\n",
       "      <td>289700</td>\n",
       "      <td>2,156,624,900</td>\n",
       "    </tr>\n",
       "    <tr>\n",
       "      <th>3</th>\n",
       "      <td>Albania</td>\n",
       "      <td>1987</td>\n",
       "      <td>male</td>\n",
       "      <td>75+ years</td>\n",
       "      <td>1.0</td>\n",
       "      <td>21800</td>\n",
       "      <td>2,156,624,900</td>\n",
       "    </tr>\n",
       "    <tr>\n",
       "      <th>4</th>\n",
       "      <td>Albania</td>\n",
       "      <td>1987</td>\n",
       "      <td>male</td>\n",
       "      <td>25-34 years</td>\n",
       "      <td>9.0</td>\n",
       "      <td>274300</td>\n",
       "      <td>2,156,624,900</td>\n",
       "    </tr>\n",
       "    <tr>\n",
       "      <th>...</th>\n",
       "      <td>...</td>\n",
       "      <td>...</td>\n",
       "      <td>...</td>\n",
       "      <td>...</td>\n",
       "      <td>...</td>\n",
       "      <td>...</td>\n",
       "      <td>...</td>\n",
       "    </tr>\n",
       "    <tr>\n",
       "      <th>23550</th>\n",
       "      <td>Ukraine</td>\n",
       "      <td>2005</td>\n",
       "      <td>female</td>\n",
       "      <td>25-34 years</td>\n",
       "      <td>182.0</td>\n",
       "      <td>3380536</td>\n",
       "      <td>86,142,018,069</td>\n",
       "    </tr>\n",
       "    <tr>\n",
       "      <th>23551</th>\n",
       "      <td>Belgium</td>\n",
       "      <td>2011</td>\n",
       "      <td>female</td>\n",
       "      <td>25-34 years</td>\n",
       "      <td>6.0</td>\n",
       "      <td>707535</td>\n",
       "      <td>527,008,453,887</td>\n",
       "    </tr>\n",
       "    <tr>\n",
       "      <th>23552</th>\n",
       "      <td>Thailand</td>\n",
       "      <td>2016</td>\n",
       "      <td>male</td>\n",
       "      <td>75+ years</td>\n",
       "      <td>152.0</td>\n",
       "      <td>1124052</td>\n",
       "      <td>411,755,164,833</td>\n",
       "    </tr>\n",
       "    <tr>\n",
       "      <th>23553</th>\n",
       "      <td>Netherlands</td>\n",
       "      <td>1998</td>\n",
       "      <td>female</td>\n",
       "      <td>15-24 years</td>\n",
       "      <td>21.0</td>\n",
       "      <td>934500</td>\n",
       "      <td>432,476,116,419</td>\n",
       "    </tr>\n",
       "    <tr>\n",
       "      <th>23554</th>\n",
       "      <td>Mexico</td>\n",
       "      <td>1988</td>\n",
       "      <td>female</td>\n",
       "      <td>75+ years</td>\n",
       "      <td>7.0</td>\n",
       "      <td>614000</td>\n",
       "      <td>183,144,164,357</td>\n",
       "    </tr>\n",
       "  </tbody>\n",
       "</table>\n",
       "<p>23555 rows × 7 columns</p>\n",
       "</div>"
      ],
      "text/plain": [
       "           country  year     sex          age  cases_no  population  \\\n",
       "0          Albania  1987    male  15-24 years      21.0      312900   \n",
       "1          Albania  1987    male  35-54 years      16.0      308000   \n",
       "2          Albania  1987  female  15-24 years      14.0      289700   \n",
       "3          Albania  1987    male    75+ years       1.0       21800   \n",
       "4          Albania  1987    male  25-34 years       9.0      274300   \n",
       "...            ...   ...     ...          ...       ...         ...   \n",
       "23550      Ukraine  2005  female  25-34 years     182.0     3380536   \n",
       "23551      Belgium  2011  female  25-34 years       6.0      707535   \n",
       "23552     Thailand  2016    male    75+ years     152.0     1124052   \n",
       "23553  Netherlands  1998  female  15-24 years      21.0      934500   \n",
       "23554       Mexico  1988  female    75+ years       7.0      614000   \n",
       "\n",
       "       gdp_for_year ($)   \n",
       "0          2,156,624,900  \n",
       "1          2,156,624,900  \n",
       "2          2,156,624,900  \n",
       "3          2,156,624,900  \n",
       "4          2,156,624,900  \n",
       "...                  ...  \n",
       "23550     86,142,018,069  \n",
       "23551    527,008,453,887  \n",
       "23552    411,755,164,833  \n",
       "23553    432,476,116,419  \n",
       "23554    183,144,164,357  \n",
       "\n",
       "[23555 rows x 7 columns]"
      ]
     },
     "execution_count": 68,
     "metadata": {},
     "output_type": "execute_result"
    }
   ],
   "source": [
    "df_complete = df_complete.reset_index(drop=True)\n",
    "df_complete"
   ]
  },
  {
   "cell_type": "markdown",
   "metadata": {},
   "source": [
    "####  Replacing missing values\n",
    "Replacing or inputting missing data can be a complex subject. Here we are only going to show the simplest options, where we replace missing values with a single value. One option is to replace the missing value with a mean.\n",
    "\n",
    "In order to do that we make a copy of the DataFrame and then use the boolean indexing technique to select only cells which have been identified as missing. We access only these rows in the `cases_no` column using the `loc[rows,cols]` method."
   ]
  },
  {
   "cell_type": "code",
   "execution_count": 69,
   "metadata": {
    "scrolled": true
   },
   "outputs": [
    {
     "data": {
      "text/html": [
       "<div>\n",
       "<style scoped>\n",
       "    .dataframe tbody tr th:only-of-type {\n",
       "        vertical-align: middle;\n",
       "    }\n",
       "\n",
       "    .dataframe tbody tr th {\n",
       "        vertical-align: top;\n",
       "    }\n",
       "\n",
       "    .dataframe thead th {\n",
       "        text-align: right;\n",
       "    }\n",
       "</style>\n",
       "<table border=\"1\" class=\"dataframe\">\n",
       "  <thead>\n",
       "    <tr style=\"text-align: right;\">\n",
       "      <th></th>\n",
       "      <th>country</th>\n",
       "      <th>year</th>\n",
       "      <th>sex</th>\n",
       "      <th>age</th>\n",
       "      <th>cases_no</th>\n",
       "      <th>population</th>\n",
       "      <th>gdp_for_year ($)</th>\n",
       "    </tr>\n",
       "  </thead>\n",
       "  <tbody>\n",
       "    <tr>\n",
       "      <th>0</th>\n",
       "      <td>Albania</td>\n",
       "      <td>1987</td>\n",
       "      <td>male</td>\n",
       "      <td>15-24 years</td>\n",
       "      <td>21.000000</td>\n",
       "      <td>312900</td>\n",
       "      <td>2,156,624,900</td>\n",
       "    </tr>\n",
       "    <tr>\n",
       "      <th>1</th>\n",
       "      <td>Albania</td>\n",
       "      <td>1987</td>\n",
       "      <td>male</td>\n",
       "      <td>35-54 years</td>\n",
       "      <td>16.000000</td>\n",
       "      <td>308000</td>\n",
       "      <td>2,156,624,900</td>\n",
       "    </tr>\n",
       "    <tr>\n",
       "      <th>2</th>\n",
       "      <td>Albania</td>\n",
       "      <td>1987</td>\n",
       "      <td>female</td>\n",
       "      <td>15-24 years</td>\n",
       "      <td>14.000000</td>\n",
       "      <td>289700</td>\n",
       "      <td>2,156,624,900</td>\n",
       "    </tr>\n",
       "    <tr>\n",
       "      <th>3</th>\n",
       "      <td>Albania</td>\n",
       "      <td>1987</td>\n",
       "      <td>male</td>\n",
       "      <td>75+ years</td>\n",
       "      <td>1.000000</td>\n",
       "      <td>21800</td>\n",
       "      <td>2,156,624,900</td>\n",
       "    </tr>\n",
       "    <tr>\n",
       "      <th>4</th>\n",
       "      <td>Albania</td>\n",
       "      <td>1987</td>\n",
       "      <td>male</td>\n",
       "      <td>25-34 years</td>\n",
       "      <td>9.000000</td>\n",
       "      <td>274300</td>\n",
       "      <td>2,156,624,900</td>\n",
       "    </tr>\n",
       "    <tr>\n",
       "      <th>...</th>\n",
       "      <td>...</td>\n",
       "      <td>...</td>\n",
       "      <td>...</td>\n",
       "      <td>...</td>\n",
       "      <td>...</td>\n",
       "      <td>...</td>\n",
       "      <td>...</td>\n",
       "    </tr>\n",
       "    <tr>\n",
       "      <th>27835</th>\n",
       "      <td>Belgium</td>\n",
       "      <td>2011</td>\n",
       "      <td>female</td>\n",
       "      <td>25-34 years</td>\n",
       "      <td>6.000000</td>\n",
       "      <td>707535</td>\n",
       "      <td>527,008,453,887</td>\n",
       "    </tr>\n",
       "    <tr>\n",
       "      <th>27836</th>\n",
       "      <td>Thailand</td>\n",
       "      <td>2016</td>\n",
       "      <td>male</td>\n",
       "      <td>75+ years</td>\n",
       "      <td>152.000000</td>\n",
       "      <td>1124052</td>\n",
       "      <td>411,755,164,833</td>\n",
       "    </tr>\n",
       "    <tr>\n",
       "      <th>27837</th>\n",
       "      <td>Netherlands</td>\n",
       "      <td>1998</td>\n",
       "      <td>female</td>\n",
       "      <td>15-24 years</td>\n",
       "      <td>21.000000</td>\n",
       "      <td>934500</td>\n",
       "      <td>432,476,116,419</td>\n",
       "    </tr>\n",
       "    <tr>\n",
       "      <th>27838</th>\n",
       "      <td>Grenada</td>\n",
       "      <td>2002</td>\n",
       "      <td>female</td>\n",
       "      <td>5-14 years</td>\n",
       "      <td>217.800722</td>\n",
       "      <td>11760</td>\n",
       "      <td>540,336,926</td>\n",
       "    </tr>\n",
       "    <tr>\n",
       "      <th>27839</th>\n",
       "      <td>Mexico</td>\n",
       "      <td>1988</td>\n",
       "      <td>female</td>\n",
       "      <td>75+ years</td>\n",
       "      <td>7.000000</td>\n",
       "      <td>614000</td>\n",
       "      <td>183,144,164,357</td>\n",
       "    </tr>\n",
       "  </tbody>\n",
       "</table>\n",
       "<p>27840 rows × 7 columns</p>\n",
       "</div>"
      ],
      "text/plain": [
       "           country  year     sex          age    cases_no  population  \\\n",
       "0          Albania  1987    male  15-24 years   21.000000      312900   \n",
       "1          Albania  1987    male  35-54 years   16.000000      308000   \n",
       "2          Albania  1987  female  15-24 years   14.000000      289700   \n",
       "3          Albania  1987    male    75+ years    1.000000       21800   \n",
       "4          Albania  1987    male  25-34 years    9.000000      274300   \n",
       "...            ...   ...     ...          ...         ...         ...   \n",
       "27835      Belgium  2011  female  25-34 years    6.000000      707535   \n",
       "27836     Thailand  2016    male    75+ years  152.000000     1124052   \n",
       "27837  Netherlands  1998  female  15-24 years   21.000000      934500   \n",
       "27838      Grenada  2002  female   5-14 years  217.800722       11760   \n",
       "27839       Mexico  1988  female    75+ years    7.000000      614000   \n",
       "\n",
       "       gdp_for_year ($)   \n",
       "0          2,156,624,900  \n",
       "1          2,156,624,900  \n",
       "2          2,156,624,900  \n",
       "3          2,156,624,900  \n",
       "4          2,156,624,900  \n",
       "...                  ...  \n",
       "27835    527,008,453,887  \n",
       "27836    411,755,164,833  \n",
       "27837    432,476,116,419  \n",
       "27838        540,336,926  \n",
       "27839    183,144,164,357  \n",
       "\n",
       "[27840 rows x 7 columns]"
      ]
     },
     "execution_count": 69,
     "metadata": {},
     "output_type": "execute_result"
    }
   ],
   "source": [
    "df_cases_replaced = df_no_hdi.copy()\n",
    "# With loc, we are giving it the rows we want to select - \n",
    "# missing values which are true where cases_no is NaN\n",
    "# and the columns we want to select, in this case, just cases_no\n",
    "df_cases_replaced.loc[missing_values,'cases_no'] = cases_mean\n",
    "df_cases_replaced"
   ]
  },
  {
   "cell_type": "markdown",
   "metadata": {},
   "source": [
    "You can see that the next to last row has the mean instead of a specific number. But notice that means we have a rather large number of cases (218) for a very small population of Grenada (11760), so maybe the mean is not the best option.\n",
    "\n",
    "Another option is to replace a missing value with the most frequent value, also known as the mode. This can be done with the `mode()` function. As there can be more than one mode (i.e. in the case of a tie between multiple values), it will return a pandas Series. However, we can see here that there is only one mode (1), so we will replace using that value. "
   ]
  },
  {
   "cell_type": "code",
   "execution_count": 70,
   "metadata": {
    "scrolled": true
   },
   "outputs": [
    {
     "name": "stdout",
     "output_type": "stream",
     "text": [
      "The mode is 0    1.0\n",
      "dtype: float64\n"
     ]
    },
    {
     "data": {
      "text/html": [
       "<div>\n",
       "<style scoped>\n",
       "    .dataframe tbody tr th:only-of-type {\n",
       "        vertical-align: middle;\n",
       "    }\n",
       "\n",
       "    .dataframe tbody tr th {\n",
       "        vertical-align: top;\n",
       "    }\n",
       "\n",
       "    .dataframe thead th {\n",
       "        text-align: right;\n",
       "    }\n",
       "</style>\n",
       "<table border=\"1\" class=\"dataframe\">\n",
       "  <thead>\n",
       "    <tr style=\"text-align: right;\">\n",
       "      <th></th>\n",
       "      <th>country</th>\n",
       "      <th>year</th>\n",
       "      <th>sex</th>\n",
       "      <th>age</th>\n",
       "      <th>cases_no</th>\n",
       "      <th>population</th>\n",
       "      <th>gdp_for_year ($)</th>\n",
       "    </tr>\n",
       "  </thead>\n",
       "  <tbody>\n",
       "    <tr>\n",
       "      <th>0</th>\n",
       "      <td>Albania</td>\n",
       "      <td>1987</td>\n",
       "      <td>male</td>\n",
       "      <td>15-24 years</td>\n",
       "      <td>21.0</td>\n",
       "      <td>312900</td>\n",
       "      <td>2,156,624,900</td>\n",
       "    </tr>\n",
       "    <tr>\n",
       "      <th>1</th>\n",
       "      <td>Albania</td>\n",
       "      <td>1987</td>\n",
       "      <td>male</td>\n",
       "      <td>35-54 years</td>\n",
       "      <td>16.0</td>\n",
       "      <td>308000</td>\n",
       "      <td>2,156,624,900</td>\n",
       "    </tr>\n",
       "    <tr>\n",
       "      <th>2</th>\n",
       "      <td>Albania</td>\n",
       "      <td>1987</td>\n",
       "      <td>female</td>\n",
       "      <td>15-24 years</td>\n",
       "      <td>14.0</td>\n",
       "      <td>289700</td>\n",
       "      <td>2,156,624,900</td>\n",
       "    </tr>\n",
       "    <tr>\n",
       "      <th>3</th>\n",
       "      <td>Albania</td>\n",
       "      <td>1987</td>\n",
       "      <td>male</td>\n",
       "      <td>75+ years</td>\n",
       "      <td>1.0</td>\n",
       "      <td>21800</td>\n",
       "      <td>2,156,624,900</td>\n",
       "    </tr>\n",
       "    <tr>\n",
       "      <th>4</th>\n",
       "      <td>Albania</td>\n",
       "      <td>1987</td>\n",
       "      <td>male</td>\n",
       "      <td>25-34 years</td>\n",
       "      <td>9.0</td>\n",
       "      <td>274300</td>\n",
       "      <td>2,156,624,900</td>\n",
       "    </tr>\n",
       "    <tr>\n",
       "      <th>...</th>\n",
       "      <td>...</td>\n",
       "      <td>...</td>\n",
       "      <td>...</td>\n",
       "      <td>...</td>\n",
       "      <td>...</td>\n",
       "      <td>...</td>\n",
       "      <td>...</td>\n",
       "    </tr>\n",
       "    <tr>\n",
       "      <th>27835</th>\n",
       "      <td>Belgium</td>\n",
       "      <td>2011</td>\n",
       "      <td>female</td>\n",
       "      <td>25-34 years</td>\n",
       "      <td>6.0</td>\n",
       "      <td>707535</td>\n",
       "      <td>527,008,453,887</td>\n",
       "    </tr>\n",
       "    <tr>\n",
       "      <th>27836</th>\n",
       "      <td>Thailand</td>\n",
       "      <td>2016</td>\n",
       "      <td>male</td>\n",
       "      <td>75+ years</td>\n",
       "      <td>152.0</td>\n",
       "      <td>1124052</td>\n",
       "      <td>411,755,164,833</td>\n",
       "    </tr>\n",
       "    <tr>\n",
       "      <th>27837</th>\n",
       "      <td>Netherlands</td>\n",
       "      <td>1998</td>\n",
       "      <td>female</td>\n",
       "      <td>15-24 years</td>\n",
       "      <td>21.0</td>\n",
       "      <td>934500</td>\n",
       "      <td>432,476,116,419</td>\n",
       "    </tr>\n",
       "    <tr>\n",
       "      <th>27838</th>\n",
       "      <td>Grenada</td>\n",
       "      <td>2002</td>\n",
       "      <td>female</td>\n",
       "      <td>5-14 years</td>\n",
       "      <td>1.0</td>\n",
       "      <td>11760</td>\n",
       "      <td>540,336,926</td>\n",
       "    </tr>\n",
       "    <tr>\n",
       "      <th>27839</th>\n",
       "      <td>Mexico</td>\n",
       "      <td>1988</td>\n",
       "      <td>female</td>\n",
       "      <td>75+ years</td>\n",
       "      <td>7.0</td>\n",
       "      <td>614000</td>\n",
       "      <td>183,144,164,357</td>\n",
       "    </tr>\n",
       "  </tbody>\n",
       "</table>\n",
       "<p>27840 rows × 7 columns</p>\n",
       "</div>"
      ],
      "text/plain": [
       "           country  year     sex          age  cases_no  population  \\\n",
       "0          Albania  1987    male  15-24 years      21.0      312900   \n",
       "1          Albania  1987    male  35-54 years      16.0      308000   \n",
       "2          Albania  1987  female  15-24 years      14.0      289700   \n",
       "3          Albania  1987    male    75+ years       1.0       21800   \n",
       "4          Albania  1987    male  25-34 years       9.0      274300   \n",
       "...            ...   ...     ...          ...       ...         ...   \n",
       "27835      Belgium  2011  female  25-34 years       6.0      707535   \n",
       "27836     Thailand  2016    male    75+ years     152.0     1124052   \n",
       "27837  Netherlands  1998  female  15-24 years      21.0      934500   \n",
       "27838      Grenada  2002  female   5-14 years       1.0       11760   \n",
       "27839       Mexico  1988  female    75+ years       7.0      614000   \n",
       "\n",
       "       gdp_for_year ($)   \n",
       "0          2,156,624,900  \n",
       "1          2,156,624,900  \n",
       "2          2,156,624,900  \n",
       "3          2,156,624,900  \n",
       "4          2,156,624,900  \n",
       "...                  ...  \n",
       "27835    527,008,453,887  \n",
       "27836    411,755,164,833  \n",
       "27837    432,476,116,419  \n",
       "27838        540,336,926  \n",
       "27839    183,144,164,357  \n",
       "\n",
       "[27840 rows x 7 columns]"
      ]
     },
     "execution_count": 70,
     "metadata": {},
     "output_type": "execute_result"
    }
   ],
   "source": [
    "cases_mode = df_no_hdi['cases_no'].mode()\n",
    "print(f\"The mode is {cases_mode}\")\n",
    "df_cases_replaced.loc[missing_values,'cases_no'] = cases_mode.iloc[0]\n",
    "df_cases_replaced"
   ]
  },
  {
   "cell_type": "markdown",
   "metadata": {},
   "source": [
    "Now instead of the mean (217.8), the missing value is the penultimate row is replaced with the mode (1.0). While that might seem more plausible for a small country like Grenada, it may be less plausible for a larger country, like Mexico.\n",
    "\n",
    "As mentioned earlier, imputation of missing data is a complex subject, and if you don't have a good approach, often removing the data is the best option, so moving forward we will be working with complete case data stored in `df_complete`\n",
    "\n",
    "***"
   ]
  },
  {
   "cell_type": "markdown",
   "metadata": {},
   "source": [
    "## 4. Checking the data representation\n",
    "\n",
    "As was seen above with the `cases_no` column, having each column in a proper data format really matters. Let's make sure that we don't have similar problems with other columns. We first get information about the datatype representing each column using the `info()` function."
   ]
  },
  {
   "cell_type": "code",
   "execution_count": 71,
   "metadata": {},
   "outputs": [
    {
     "name": "stdout",
     "output_type": "stream",
     "text": [
      "<class 'pandas.core.frame.DataFrame'>\n",
      "RangeIndex: 23555 entries, 0 to 23554\n",
      "Data columns (total 7 columns):\n",
      " #   Column              Non-Null Count  Dtype  \n",
      "---  ------              --------------  -----  \n",
      " 0   country             23555 non-null  object \n",
      " 1   year                23555 non-null  int64  \n",
      " 2   sex                 23555 non-null  object \n",
      " 3   age                 23555 non-null  object \n",
      " 4   cases_no            23555 non-null  float64\n",
      " 5   population          23555 non-null  int64  \n",
      " 6    gdp_for_year ($)   23555 non-null  object \n",
      "dtypes: float64(1), int64(2), object(4)\n",
      "memory usage: 1.3+ MB\n"
     ]
    }
   ],
   "source": [
    "df_complete.info()"
   ]
  },
  {
   "cell_type": "markdown",
   "metadata": {},
   "source": [
    "We would expect `age` and ` gdp_for_year ($) ` to be numeric, but they are not. Let's start with `age` and remind ourselves why they may not be numeric."
   ]
  },
  {
   "cell_type": "code",
   "execution_count": 72,
   "metadata": {},
   "outputs": [
    {
     "data": {
      "text/plain": [
       "0    15-24 years\n",
       "1    35-54 years\n",
       "2    15-24 years\n",
       "3      75+ years\n",
       "4    25-34 years\n",
       "Name: age, dtype: object"
      ]
     },
     "execution_count": 72,
     "metadata": {},
     "output_type": "execute_result"
    }
   ],
   "source": [
    "df_complete['age'].head()"
   ]
  },
  {
   "cell_type": "markdown",
   "metadata": {},
   "source": [
    "OK! So these don't represent years, but a band of ages. How many bands are we talking about?"
   ]
  },
  {
   "cell_type": "code",
   "execution_count": 73,
   "metadata": {},
   "outputs": [
    {
     "name": "stdout",
     "output_type": "stream",
     "text": [
      "['15-24 years' '35-54 years' '75+ years' '25-34 years' '55-74 years'\n",
      " '5-14 years']\n"
     ]
    }
   ],
   "source": [
    "print(df_complete['age'].unique())"
   ]
  },
  {
   "cell_type": "markdown",
   "metadata": {},
   "source": [
    "In this case age is not a continuous numeric variable, but a _categorical_ variable with six different age bands. The best way to represent this in pandas is with a [Categorical](https://pandas.pydata.org/docs/user_guide/categorical.html) data type, similar to `factor` in R. These age bands also have a clear ordering, but because of the way pandas sorts text, they are not in that order (look at where the 5-14 year old group is). So when we convert to a Categorical, we need to tell pandas what order these values should be in."
   ]
  },
  {
   "cell_type": "code",
   "execution_count": 77,
   "metadata": {},
   "outputs": [
    {
     "data": {
      "text/plain": [
       "0        15-24 years\n",
       "1        35-54 years\n",
       "2        15-24 years\n",
       "3          75+ years\n",
       "4        25-34 years\n",
       "            ...     \n",
       "23550    25-34 years\n",
       "23551    25-34 years\n",
       "23552      75+ years\n",
       "23553    15-24 years\n",
       "23554      75+ years\n",
       "Name: age, Length: 23555, dtype: category\n",
       "Categories (6, object): ['5-14 years', '15-24 years', '25-34 years', '35-54 years', '55-74 years', '75+ years']"
      ]
     },
     "execution_count": 77,
     "metadata": {},
     "output_type": "execute_result"
    }
   ],
   "source": [
    "age_bands_sorted = [\n",
    "    '5-14 years','15-24 years','25-34 years', \n",
    "    '35-54 years','55-74 years','75+ years'  \n",
    "    ]\n",
    "df_complete['age'] = pd.Categorical(df_complete['age'],\n",
    "                                    categories=age_bands_sorted)\n",
    "df_complete['age']\n"
   ]
  },
  {
   "cell_type": "markdown",
   "metadata": {},
   "source": [
    "See how this variable now has a dtype of `category` and the categories are sorted so that the levels go up with age?\n",
    "\n",
    "We can do the same thing for the `sex` column. With only two values we don't really need to specify an order.\n"
   ]
  },
  {
   "cell_type": "markdown",
   "metadata": {},
   "source": [
    "\n",
    "Now what is going on with the column representing gdp? Let's again use head to take a look at some data. "
   ]
  },
  {
   "cell_type": "code",
   "execution_count": 78,
   "metadata": {},
   "outputs": [
    {
     "ename": "KeyError",
     "evalue": "'gdp_for_year ($)'",
     "output_type": "error",
     "traceback": [
      "\u001b[0;31m---------------------------------------------------------------------------\u001b[0m",
      "\u001b[0;31mKeyError\u001b[0m                                  Traceback (most recent call last)",
      "\u001b[0;32m~/opt/anaconda3/envs/teamcoder_ebm/lib/python3.7/site-packages/pandas/core/indexes/base.py\u001b[0m in \u001b[0;36mget_loc\u001b[0;34m(self, key, method, tolerance)\u001b[0m\n\u001b[1;32m   3360\u001b[0m             \u001b[0;32mtry\u001b[0m\u001b[0;34m:\u001b[0m\u001b[0;34m\u001b[0m\u001b[0;34m\u001b[0m\u001b[0m\n\u001b[0;32m-> 3361\u001b[0;31m                 \u001b[0;32mreturn\u001b[0m \u001b[0mself\u001b[0m\u001b[0;34m.\u001b[0m\u001b[0m_engine\u001b[0m\u001b[0;34m.\u001b[0m\u001b[0mget_loc\u001b[0m\u001b[0;34m(\u001b[0m\u001b[0mcasted_key\u001b[0m\u001b[0;34m)\u001b[0m\u001b[0;34m\u001b[0m\u001b[0;34m\u001b[0m\u001b[0m\n\u001b[0m\u001b[1;32m   3362\u001b[0m             \u001b[0;32mexcept\u001b[0m \u001b[0mKeyError\u001b[0m \u001b[0;32mas\u001b[0m \u001b[0merr\u001b[0m\u001b[0;34m:\u001b[0m\u001b[0;34m\u001b[0m\u001b[0;34m\u001b[0m\u001b[0m\n",
      "\u001b[0;32m~/opt/anaconda3/envs/teamcoder_ebm/lib/python3.7/site-packages/pandas/_libs/index.pyx\u001b[0m in \u001b[0;36mpandas._libs.index.IndexEngine.get_loc\u001b[0;34m()\u001b[0m\n",
      "\u001b[0;32m~/opt/anaconda3/envs/teamcoder_ebm/lib/python3.7/site-packages/pandas/_libs/index.pyx\u001b[0m in \u001b[0;36mpandas._libs.index.IndexEngine.get_loc\u001b[0;34m()\u001b[0m\n",
      "\u001b[0;32mpandas/_libs/hashtable_class_helper.pxi\u001b[0m in \u001b[0;36mpandas._libs.hashtable.PyObjectHashTable.get_item\u001b[0;34m()\u001b[0m\n",
      "\u001b[0;32mpandas/_libs/hashtable_class_helper.pxi\u001b[0m in \u001b[0;36mpandas._libs.hashtable.PyObjectHashTable.get_item\u001b[0;34m()\u001b[0m\n",
      "\u001b[0;31mKeyError\u001b[0m: 'gdp_for_year ($)'",
      "\nThe above exception was the direct cause of the following exception:\n",
      "\u001b[0;31mKeyError\u001b[0m                                  Traceback (most recent call last)",
      "\u001b[0;32m/var/folders/2p/l87h2yhx3j9655gz_2jr31_h0000gn/T/ipykernel_40551/1767549029.py\u001b[0m in \u001b[0;36m<module>\u001b[0;34m\u001b[0m\n\u001b[0;32m----> 1\u001b[0;31m \u001b[0mdf_complete\u001b[0m\u001b[0;34m[\u001b[0m\u001b[0;34m'gdp_for_year ($)'\u001b[0m\u001b[0;34m]\u001b[0m\u001b[0;34m.\u001b[0m\u001b[0mhead\u001b[0m\u001b[0;34m(\u001b[0m\u001b[0;34m)\u001b[0m\u001b[0;34m\u001b[0m\u001b[0;34m\u001b[0m\u001b[0m\n\u001b[0m",
      "\u001b[0;32m~/opt/anaconda3/envs/teamcoder_ebm/lib/python3.7/site-packages/pandas/core/frame.py\u001b[0m in \u001b[0;36m__getitem__\u001b[0;34m(self, key)\u001b[0m\n\u001b[1;32m   3456\u001b[0m             \u001b[0;32mif\u001b[0m \u001b[0mself\u001b[0m\u001b[0;34m.\u001b[0m\u001b[0mcolumns\u001b[0m\u001b[0;34m.\u001b[0m\u001b[0mnlevels\u001b[0m \u001b[0;34m>\u001b[0m \u001b[0;36m1\u001b[0m\u001b[0;34m:\u001b[0m\u001b[0;34m\u001b[0m\u001b[0;34m\u001b[0m\u001b[0m\n\u001b[1;32m   3457\u001b[0m                 \u001b[0;32mreturn\u001b[0m \u001b[0mself\u001b[0m\u001b[0;34m.\u001b[0m\u001b[0m_getitem_multilevel\u001b[0m\u001b[0;34m(\u001b[0m\u001b[0mkey\u001b[0m\u001b[0;34m)\u001b[0m\u001b[0;34m\u001b[0m\u001b[0;34m\u001b[0m\u001b[0m\n\u001b[0;32m-> 3458\u001b[0;31m             \u001b[0mindexer\u001b[0m \u001b[0;34m=\u001b[0m \u001b[0mself\u001b[0m\u001b[0;34m.\u001b[0m\u001b[0mcolumns\u001b[0m\u001b[0;34m.\u001b[0m\u001b[0mget_loc\u001b[0m\u001b[0;34m(\u001b[0m\u001b[0mkey\u001b[0m\u001b[0;34m)\u001b[0m\u001b[0;34m\u001b[0m\u001b[0;34m\u001b[0m\u001b[0m\n\u001b[0m\u001b[1;32m   3459\u001b[0m             \u001b[0;32mif\u001b[0m \u001b[0mis_integer\u001b[0m\u001b[0;34m(\u001b[0m\u001b[0mindexer\u001b[0m\u001b[0;34m)\u001b[0m\u001b[0;34m:\u001b[0m\u001b[0;34m\u001b[0m\u001b[0;34m\u001b[0m\u001b[0m\n\u001b[1;32m   3460\u001b[0m                 \u001b[0mindexer\u001b[0m \u001b[0;34m=\u001b[0m \u001b[0;34m[\u001b[0m\u001b[0mindexer\u001b[0m\u001b[0;34m]\u001b[0m\u001b[0;34m\u001b[0m\u001b[0;34m\u001b[0m\u001b[0m\n",
      "\u001b[0;32m~/opt/anaconda3/envs/teamcoder_ebm/lib/python3.7/site-packages/pandas/core/indexes/base.py\u001b[0m in \u001b[0;36mget_loc\u001b[0;34m(self, key, method, tolerance)\u001b[0m\n\u001b[1;32m   3361\u001b[0m                 \u001b[0;32mreturn\u001b[0m \u001b[0mself\u001b[0m\u001b[0;34m.\u001b[0m\u001b[0m_engine\u001b[0m\u001b[0;34m.\u001b[0m\u001b[0mget_loc\u001b[0m\u001b[0;34m(\u001b[0m\u001b[0mcasted_key\u001b[0m\u001b[0;34m)\u001b[0m\u001b[0;34m\u001b[0m\u001b[0;34m\u001b[0m\u001b[0m\n\u001b[1;32m   3362\u001b[0m             \u001b[0;32mexcept\u001b[0m \u001b[0mKeyError\u001b[0m \u001b[0;32mas\u001b[0m \u001b[0merr\u001b[0m\u001b[0;34m:\u001b[0m\u001b[0;34m\u001b[0m\u001b[0;34m\u001b[0m\u001b[0m\n\u001b[0;32m-> 3363\u001b[0;31m                 \u001b[0;32mraise\u001b[0m \u001b[0mKeyError\u001b[0m\u001b[0;34m(\u001b[0m\u001b[0mkey\u001b[0m\u001b[0;34m)\u001b[0m \u001b[0;32mfrom\u001b[0m \u001b[0merr\u001b[0m\u001b[0;34m\u001b[0m\u001b[0;34m\u001b[0m\u001b[0m\n\u001b[0m\u001b[1;32m   3364\u001b[0m \u001b[0;34m\u001b[0m\u001b[0m\n\u001b[1;32m   3365\u001b[0m         \u001b[0;32mif\u001b[0m \u001b[0mis_scalar\u001b[0m\u001b[0;34m(\u001b[0m\u001b[0mkey\u001b[0m\u001b[0;34m)\u001b[0m \u001b[0;32mand\u001b[0m \u001b[0misna\u001b[0m\u001b[0;34m(\u001b[0m\u001b[0mkey\u001b[0m\u001b[0;34m)\u001b[0m \u001b[0;32mand\u001b[0m \u001b[0;32mnot\u001b[0m \u001b[0mself\u001b[0m\u001b[0;34m.\u001b[0m\u001b[0mhasnans\u001b[0m\u001b[0;34m:\u001b[0m\u001b[0;34m\u001b[0m\u001b[0;34m\u001b[0m\u001b[0m\n",
      "\u001b[0;31mKeyError\u001b[0m: 'gdp_for_year ($)'"
     ]
    }
   ],
   "source": [
    "df_complete['gdp_for_year ($)'].head()"
   ]
  },
  {
   "cell_type": "markdown",
   "metadata": {},
   "source": [
    "\n",
    "Why did that not work? Because if we look carefully, we find that there are unhelpful spaces at the beginning and end of the column name. Let's fix that before we get any further by using the `rename()` function, where we provide a dictionary where the key is the old column name, and the value is the new column name.\n"
   ]
  },
  {
   "cell_type": "code",
   "execution_count": 79,
   "metadata": {},
   "outputs": [
    {
     "data": {
      "text/plain": [
       "Index(['country', 'year', 'sex', 'age', 'cases_no', 'population',\n",
       "       'gdp_for_year_usd'],\n",
       "      dtype='object')"
      ]
     },
     "execution_count": 79,
     "metadata": {},
     "output_type": "execute_result"
    }
   ],
   "source": [
    "df_complete = df_complete.rename(columns={' gdp_for_year ($) ':'gdp_for_year_usd'})\n",
    "df_complete.columns"
   ]
  },
  {
   "cell_type": "markdown",
   "metadata": {},
   "source": [
    "So now let's look at our freshly renamed column and see if it contains numeric data. "
   ]
  },
  {
   "cell_type": "code",
   "execution_count": 80,
   "metadata": {},
   "outputs": [
    {
     "data": {
      "text/plain": [
       "0    2,156,624,900\n",
       "1    2,156,624,900\n",
       "2    2,156,624,900\n",
       "3    2,156,624,900\n",
       "4    2,156,624,900\n",
       "Name: gdp_for_year_usd, dtype: object"
      ]
     },
     "execution_count": 80,
     "metadata": {},
     "output_type": "execute_result"
    }
   ],
   "source": [
    "df_complete['gdp_for_year_usd'].head()"
   ]
  },
  {
   "cell_type": "markdown",
   "metadata": {},
   "source": [
    "Looks numeric to me? Does pandas agree?"
   ]
  },
  {
   "cell_type": "code",
   "execution_count": 82,
   "metadata": {},
   "outputs": [
    {
     "data": {
      "text/plain": [
       "False    23555\n",
       "Name: gdp_for_year_usd, dtype: int64"
      ]
     },
     "execution_count": 82,
     "metadata": {},
     "output_type": "execute_result"
    }
   ],
   "source": [
    "gdp_is_numeric = (df_complete['gdp_for_year_usd'].str.isdigit()==True)\n",
    "gdp_is_numeric.value_counts()\n"
   ]
  },
  {
   "cell_type": "markdown",
   "metadata": {},
   "source": [
    "Pandas say that none of these values are numeric. The reason is because we did not tell pandas to expect commas to separate thousands, millions, etc. \n",
    "\n",
    "In fact, if we had spotted this before we read in the file, we could add the argument `thousands=','` to our `read_csv` call. However, this is still easily fixed by using a string operation to remove all commas from this column, in a manner similar to how we converted the \"`Null`\" and \"`Unknown`\" strings to `NaN`"
   ]
  },
  {
   "cell_type": "code",
   "execution_count": 83,
   "metadata": {},
   "outputs": [
    {
     "data": {
      "text/plain": [
       "0          2156624900\n",
       "1          2156624900\n",
       "2          2156624900\n",
       "3          2156624900\n",
       "4          2156624900\n",
       "             ...     \n",
       "23550     86142018069\n",
       "23551    527008453887\n",
       "23552    411755164833\n",
       "23553    432476116419\n",
       "23554    183144164357\n",
       "Name: gdp_for_year_usd, Length: 23555, dtype: int64"
      ]
     },
     "execution_count": 83,
     "metadata": {},
     "output_type": "execute_result"
    }
   ],
   "source": [
    "# First replace the string comma ',' empty space''. Then typecasting the column to integers\n",
    "numeric_gdp = df_complete['gdp_for_year_usd'].str.replace(',', '').astype(int)\n",
    "# Breaking it up into two lines to make it easier to see\n",
    "df_complete['gdp_for_year_usd'] = numeric_gdp\n",
    "# Confirm that this is now an integer\n",
    "df_complete['gdp_for_year_usd']"
   ]
  },
  {
   "cell_type": "markdown",
   "metadata": {},
   "source": [
    "### **Wonderful clean data!**\n",
    "\n",
    "Now we have finally obtained the cleaned dataset with no missing values with all data in its proper format.\n",
    "We can save this data set as it is now the 'clean' data set which is ready for processing.\n",
    "Note that we don't need the row index saved as it isn't especially useful, so we are using the `index=False` to say to Pandas not to save it as part of the csv file. \n"
   ]
  },
  {
   "cell_type": "code",
   "execution_count": 84,
   "metadata": {},
   "outputs": [],
   "source": [
    "df_complete.to_csv(r'who_case_statistics_clean_data.csv', index=False)"
   ]
  },
  {
   "cell_type": "markdown",
   "metadata": {},
   "source": [
    "***\n",
    "\n",
    "## 5. Grouping data\n",
    "Now that our data is cleaned, we will move on to what operations we can perform on the DatFrame. Often we want to group series of observations together and perform an operation on them. This is accomplished by the `groupby()` function, which allows users to:\n",
    "* **split** data into groups according to some value in the variable (like country)\n",
    "* **apply** a function to all of the observations within the group\n",
    "* **combine** the resulting options into a new aggregated data frame.\n",
    "\n",
    "The output of the `groupby()` function is a [GroupBy object](https://pandas.pydata.org/docs/user_guide/groupby.html). We will group the data frame by `country` and from that grouped object, I will select the country of preference by using `.get_group('selection')`. Let's select the data for the United Kingdom."
   ]
  },
  {
   "cell_type": "code",
   "execution_count": 85,
   "metadata": {},
   "outputs": [
    {
     "data": {
      "text/html": [
       "<div>\n",
       "<style scoped>\n",
       "    .dataframe tbody tr th:only-of-type {\n",
       "        vertical-align: middle;\n",
       "    }\n",
       "\n",
       "    .dataframe tbody tr th {\n",
       "        vertical-align: top;\n",
       "    }\n",
       "\n",
       "    .dataframe thead th {\n",
       "        text-align: right;\n",
       "    }\n",
       "</style>\n",
       "<table border=\"1\" class=\"dataframe\">\n",
       "  <thead>\n",
       "    <tr style=\"text-align: right;\">\n",
       "      <th></th>\n",
       "      <th>country</th>\n",
       "      <th>year</th>\n",
       "      <th>sex</th>\n",
       "      <th>age</th>\n",
       "      <th>cases_no</th>\n",
       "      <th>population</th>\n",
       "      <th>gdp_for_year_usd</th>\n",
       "    </tr>\n",
       "  </thead>\n",
       "  <tbody>\n",
       "    <tr>\n",
       "      <th>22208</th>\n",
       "      <td>United Kingdom</td>\n",
       "      <td>1985</td>\n",
       "      <td>male</td>\n",
       "      <td>75+ years</td>\n",
       "      <td>264.0</td>\n",
       "      <td>1202838</td>\n",
       "      <td>489285164271</td>\n",
       "    </tr>\n",
       "    <tr>\n",
       "      <th>22209</th>\n",
       "      <td>United Kingdom</td>\n",
       "      <td>1985</td>\n",
       "      <td>male</td>\n",
       "      <td>55-74 years</td>\n",
       "      <td>915.0</td>\n",
       "      <td>5170113</td>\n",
       "      <td>489285164271</td>\n",
       "    </tr>\n",
       "    <tr>\n",
       "      <th>22210</th>\n",
       "      <td>United Kingdom</td>\n",
       "      <td>1985</td>\n",
       "      <td>male</td>\n",
       "      <td>35-54 years</td>\n",
       "      <td>128.0</td>\n",
       "      <td>6899879</td>\n",
       "      <td>489285164271</td>\n",
       "    </tr>\n",
       "    <tr>\n",
       "      <th>22211</th>\n",
       "      <td>United Kingdom</td>\n",
       "      <td>1985</td>\n",
       "      <td>male</td>\n",
       "      <td>25-34 years</td>\n",
       "      <td>62.0</td>\n",
       "      <td>3969689</td>\n",
       "      <td>489285164271</td>\n",
       "    </tr>\n",
       "    <tr>\n",
       "      <th>22212</th>\n",
       "      <td>United Kingdom</td>\n",
       "      <td>1985</td>\n",
       "      <td>female</td>\n",
       "      <td>55-74 years</td>\n",
       "      <td>678.0</td>\n",
       "      <td>6002096</td>\n",
       "      <td>489285164271</td>\n",
       "    </tr>\n",
       "    <tr>\n",
       "      <th>...</th>\n",
       "      <td>...</td>\n",
       "      <td>...</td>\n",
       "      <td>...</td>\n",
       "      <td>...</td>\n",
       "      <td>...</td>\n",
       "      <td>...</td>\n",
       "      <td>...</td>\n",
       "    </tr>\n",
       "    <tr>\n",
       "      <th>22572</th>\n",
       "      <td>United Kingdom</td>\n",
       "      <td>2015</td>\n",
       "      <td>female</td>\n",
       "      <td>25-34 years</td>\n",
       "      <td>181.0</td>\n",
       "      <td>4414464</td>\n",
       "      <td>2885570309161</td>\n",
       "    </tr>\n",
       "    <tr>\n",
       "      <th>22573</th>\n",
       "      <td>United Kingdom</td>\n",
       "      <td>2015</td>\n",
       "      <td>female</td>\n",
       "      <td>75+ years</td>\n",
       "      <td>18.0</td>\n",
       "      <td>3070457</td>\n",
       "      <td>2885570309161</td>\n",
       "    </tr>\n",
       "    <tr>\n",
       "      <th>22574</th>\n",
       "      <td>United Kingdom</td>\n",
       "      <td>2015</td>\n",
       "      <td>female</td>\n",
       "      <td>15-24 years</td>\n",
       "      <td>14.0</td>\n",
       "      <td>3966564</td>\n",
       "      <td>2885570309161</td>\n",
       "    </tr>\n",
       "    <tr>\n",
       "      <th>22575</th>\n",
       "      <td>United Kingdom</td>\n",
       "      <td>2015</td>\n",
       "      <td>female</td>\n",
       "      <td>5-14 years</td>\n",
       "      <td>6.0</td>\n",
       "      <td>3663221</td>\n",
       "      <td>2885570309161</td>\n",
       "    </tr>\n",
       "    <tr>\n",
       "      <th>22576</th>\n",
       "      <td>United Kingdom</td>\n",
       "      <td>2015</td>\n",
       "      <td>male</td>\n",
       "      <td>5-14 years</td>\n",
       "      <td>4.0</td>\n",
       "      <td>3840476</td>\n",
       "      <td>2885570309161</td>\n",
       "    </tr>\n",
       "  </tbody>\n",
       "</table>\n",
       "<p>369 rows × 7 columns</p>\n",
       "</div>"
      ],
      "text/plain": [
       "              country  year     sex          age  cases_no  population  \\\n",
       "22208  United Kingdom  1985    male    75+ years     264.0     1202838   \n",
       "22209  United Kingdom  1985    male  55-74 years     915.0     5170113   \n",
       "22210  United Kingdom  1985    male  35-54 years     128.0     6899879   \n",
       "22211  United Kingdom  1985    male  25-34 years      62.0     3969689   \n",
       "22212  United Kingdom  1985  female  55-74 years     678.0     6002096   \n",
       "...               ...   ...     ...          ...       ...         ...   \n",
       "22572  United Kingdom  2015  female  25-34 years     181.0     4414464   \n",
       "22573  United Kingdom  2015  female    75+ years      18.0     3070457   \n",
       "22574  United Kingdom  2015  female  15-24 years      14.0     3966564   \n",
       "22575  United Kingdom  2015  female   5-14 years       6.0     3663221   \n",
       "22576  United Kingdom  2015    male   5-14 years       4.0     3840476   \n",
       "\n",
       "       gdp_for_year_usd  \n",
       "22208      489285164271  \n",
       "22209      489285164271  \n",
       "22210      489285164271  \n",
       "22211      489285164271  \n",
       "22212      489285164271  \n",
       "...                 ...  \n",
       "22572     2885570309161  \n",
       "22573     2885570309161  \n",
       "22574     2885570309161  \n",
       "22575     2885570309161  \n",
       "22576     2885570309161  \n",
       "\n",
       "[369 rows x 7 columns]"
      ]
     },
     "execution_count": 85,
     "metadata": {},
     "output_type": "execute_result"
    }
   ],
   "source": [
    "df_by_country= df_complete.groupby(['country'])\n",
    "df_uk=df_by_country.get_group('United Kingdom')\n",
    "df_uk"
   ]
  },
  {
   "cell_type": "markdown",
   "metadata": {},
   "source": [
    "With this grouping, we would be summarizing the data for each country, combining data from all thirty years, all age groups, and both sexes. This is probably too coarse of a summary for most interesting statistical analysis. \n",
    "\n",
    "So we can group by multiple columns at a time, and perform operations that summarize across these groups. For example, let's say we want the total number of cases each year per country across all the age groups and both male and female individuals. \n",
    "\n",
    "To do this we would use the aggregating function `sum()` to sum up the `cases_no` and `population` columns over all rows for a given country and year.  \n",
    "\n",
    "However, `gdp_for_year_usd` is constant for a given country or year, so summing is not appropriate, as it would make the resulting gdp much larger than it actually is. \n",
    "\n",
    "Instead, we will use the aggregating function `first()` which just takes the value from the first row in the group, which is fine because it is the same value for all rows (If you don't believe me just look up at the output from `df_uk`, or take the standard deviaton of all the rows and see what happens.)"
   ]
  },
  {
   "cell_type": "code",
   "execution_count": 88,
   "metadata": {},
   "outputs": [
    {
     "data": {
      "text/html": [
       "<div>\n",
       "<style scoped>\n",
       "    .dataframe tbody tr th:only-of-type {\n",
       "        vertical-align: middle;\n",
       "    }\n",
       "\n",
       "    .dataframe tbody tr th {\n",
       "        vertical-align: top;\n",
       "    }\n",
       "\n",
       "    .dataframe thead th {\n",
       "        text-align: right;\n",
       "    }\n",
       "</style>\n",
       "<table border=\"1\" class=\"dataframe\">\n",
       "  <thead>\n",
       "    <tr style=\"text-align: right;\">\n",
       "      <th></th>\n",
       "      <th></th>\n",
       "      <th>cases_no</th>\n",
       "      <th>population</th>\n",
       "      <th>gdp_for_year_usd</th>\n",
       "    </tr>\n",
       "    <tr>\n",
       "      <th>country</th>\n",
       "      <th>year</th>\n",
       "      <th></th>\n",
       "      <th></th>\n",
       "      <th></th>\n",
       "    </tr>\n",
       "  </thead>\n",
       "  <tbody>\n",
       "    <tr>\n",
       "      <th rowspan=\"5\" valign=\"top\">Albania</th>\n",
       "      <th>1987</th>\n",
       "      <td>73.0</td>\n",
       "      <td>1915800</td>\n",
       "      <td>2156624900</td>\n",
       "    </tr>\n",
       "    <tr>\n",
       "      <th>1988</th>\n",
       "      <td>63.0</td>\n",
       "      <td>2102100</td>\n",
       "      <td>2126000000</td>\n",
       "    </tr>\n",
       "    <tr>\n",
       "      <th>1989</th>\n",
       "      <td>68.0</td>\n",
       "      <td>2094500</td>\n",
       "      <td>2335124988</td>\n",
       "    </tr>\n",
       "    <tr>\n",
       "      <th>1992</th>\n",
       "      <td>47.0</td>\n",
       "      <td>2060300</td>\n",
       "      <td>709452584</td>\n",
       "    </tr>\n",
       "    <tr>\n",
       "      <th>1993</th>\n",
       "      <td>55.0</td>\n",
       "      <td>2768000</td>\n",
       "      <td>1228071038</td>\n",
       "    </tr>\n",
       "    <tr>\n",
       "      <th>...</th>\n",
       "      <th>...</th>\n",
       "      <td>...</td>\n",
       "      <td>...</td>\n",
       "      <td>...</td>\n",
       "    </tr>\n",
       "    <tr>\n",
       "      <th rowspan=\"5\" valign=\"top\">Uzbekistan</th>\n",
       "      <th>2010</th>\n",
       "      <td>1077.0</td>\n",
       "      <td>25651783</td>\n",
       "      <td>39332770929</td>\n",
       "    </tr>\n",
       "    <tr>\n",
       "      <th>2011</th>\n",
       "      <td>1631.0</td>\n",
       "      <td>25978049</td>\n",
       "      <td>45915191189</td>\n",
       "    </tr>\n",
       "    <tr>\n",
       "      <th>2012</th>\n",
       "      <td>1214.0</td>\n",
       "      <td>26381830</td>\n",
       "      <td>51821573338</td>\n",
       "    </tr>\n",
       "    <tr>\n",
       "      <th>2013</th>\n",
       "      <td>1662.0</td>\n",
       "      <td>26838924</td>\n",
       "      <td>57690453461</td>\n",
       "    </tr>\n",
       "    <tr>\n",
       "      <th>2014</th>\n",
       "      <td>1951.0</td>\n",
       "      <td>27313507</td>\n",
       "      <td>63067077179</td>\n",
       "    </tr>\n",
       "  </tbody>\n",
       "</table>\n",
       "<p>2256 rows × 3 columns</p>\n",
       "</div>"
      ],
      "text/plain": [
       "                 cases_no  population  gdp_for_year_usd\n",
       "country    year                                        \n",
       "Albania    1987      73.0     1915800        2156624900\n",
       "           1988      63.0     2102100        2126000000\n",
       "           1989      68.0     2094500        2335124988\n",
       "           1992      47.0     2060300         709452584\n",
       "           1993      55.0     2768000        1228071038\n",
       "...                   ...         ...               ...\n",
       "Uzbekistan 2010    1077.0    25651783       39332770929\n",
       "           2011    1631.0    25978049       45915191189\n",
       "           2012    1214.0    26381830       51821573338\n",
       "           2013    1662.0    26838924       57690453461\n",
       "           2014    1951.0    27313507       63067077179\n",
       "\n",
       "[2256 rows x 3 columns]"
      ]
     },
     "execution_count": 88,
     "metadata": {},
     "output_type": "execute_result"
    }
   ],
   "source": [
    "groupedby_country_yr = df_complete.groupby(['country','year'])\n",
    "df_by_country_yr = groupedby_country_yr[['cases_no','population']].sum()\n",
    "df_by_country_yr['gdp_for_year_usd'] = groupedby_country_yr['gdp_for_year_usd'].first()\n",
    "df_by_country_yr"
   ]
  },
  {
   "cell_type": "markdown",
   "metadata": {},
   "source": [
    "The `age` and `sex` column is no longer included in the output because it has been compressed by the group level aggregation. \n",
    "\n",
    "Also look at our indices. We now no longer have the numbers going from 0 to n, but instead we two columns of indices. One representing the country and another representing the year. If you don't like these values as indices and would prefer them to remain as columns use can use the parameter `as_index=False` when you run `groupby()`.\n",
    "\n",
    "***"
   ]
  },
  {
   "cell_type": "markdown",
   "metadata": {},
   "source": [
    "## 6. Sorting data\n",
    "Observations (rows) can be rearranged so that they are sorted, either by numerical value or alphabetical order using the method `sort_values()`. Let's see which year had the most cases in the UK."
   ]
  },
  {
   "cell_type": "code",
   "execution_count": 210,
   "metadata": {},
   "outputs": [
    {
     "data": {
      "text/html": [
       "<div>\n",
       "<style scoped>\n",
       "    .dataframe tbody tr th:only-of-type {\n",
       "        vertical-align: middle;\n",
       "    }\n",
       "\n",
       "    .dataframe tbody tr th {\n",
       "        vertical-align: top;\n",
       "    }\n",
       "\n",
       "    .dataframe thead th {\n",
       "        text-align: right;\n",
       "    }\n",
       "</style>\n",
       "<table border=\"1\" class=\"dataframe\">\n",
       "  <thead>\n",
       "    <tr style=\"text-align: right;\">\n",
       "      <th></th>\n",
       "      <th>cases_no</th>\n",
       "      <th>population</th>\n",
       "    </tr>\n",
       "    <tr>\n",
       "      <th>year</th>\n",
       "      <th></th>\n",
       "      <th></th>\n",
       "    </tr>\n",
       "  </thead>\n",
       "  <tbody>\n",
       "    <tr>\n",
       "      <th>2002</th>\n",
       "      <td>2668.0</td>\n",
       "      <td>55908944</td>\n",
       "    </tr>\n",
       "    <tr>\n",
       "      <th>1998</th>\n",
       "      <td>2967.0</td>\n",
       "      <td>55527379</td>\n",
       "    </tr>\n",
       "    <tr>\n",
       "      <th>1997</th>\n",
       "      <td>2991.0</td>\n",
       "      <td>55266635</td>\n",
       "    </tr>\n",
       "    <tr>\n",
       "      <th>1985</th>\n",
       "      <td>3017.0</td>\n",
       "      <td>53006535</td>\n",
       "    </tr>\n",
       "    <tr>\n",
       "      <th>2007</th>\n",
       "      <td>3348.0</td>\n",
       "      <td>57382757</td>\n",
       "    </tr>\n",
       "    <tr>\n",
       "      <th>2011</th>\n",
       "      <td>3421.0</td>\n",
       "      <td>58881852</td>\n",
       "    </tr>\n",
       "    <tr>\n",
       "      <th>2004</th>\n",
       "      <td>3508.0</td>\n",
       "      <td>56455011</td>\n",
       "    </tr>\n",
       "    <tr>\n",
       "      <th>2003</th>\n",
       "      <td>3529.0</td>\n",
       "      <td>56171771</td>\n",
       "    </tr>\n",
       "    <tr>\n",
       "      <th>1987</th>\n",
       "      <td>3604.0</td>\n",
       "      <td>53239668</td>\n",
       "    </tr>\n",
       "    <tr>\n",
       "      <th>2015</th>\n",
       "      <td>3650.0</td>\n",
       "      <td>61082942</td>\n",
       "    </tr>\n",
       "    <tr>\n",
       "      <th>1996</th>\n",
       "      <td>3679.0</td>\n",
       "      <td>51314981</td>\n",
       "    </tr>\n",
       "    <tr>\n",
       "      <th>2005</th>\n",
       "      <td>3687.0</td>\n",
       "      <td>56809024</td>\n",
       "    </tr>\n",
       "    <tr>\n",
       "      <th>2008</th>\n",
       "      <td>3701.0</td>\n",
       "      <td>57683372</td>\n",
       "    </tr>\n",
       "    <tr>\n",
       "      <th>2010</th>\n",
       "      <td>3702.0</td>\n",
       "      <td>58403529</td>\n",
       "    </tr>\n",
       "    <tr>\n",
       "      <th>1989</th>\n",
       "      <td>3731.0</td>\n",
       "      <td>53425129</td>\n",
       "    </tr>\n",
       "    <tr>\n",
       "      <th>2000</th>\n",
       "      <td>3759.0</td>\n",
       "      <td>56133909</td>\n",
       "    </tr>\n",
       "    <tr>\n",
       "      <th>1995</th>\n",
       "      <td>3775.0</td>\n",
       "      <td>54746964</td>\n",
       "    </tr>\n",
       "    <tr>\n",
       "      <th>1991</th>\n",
       "      <td>3827.0</td>\n",
       "      <td>53903427</td>\n",
       "    </tr>\n",
       "    <tr>\n",
       "      <th>1990</th>\n",
       "      <td>3851.0</td>\n",
       "      <td>50111989</td>\n",
       "    </tr>\n",
       "    <tr>\n",
       "      <th>2006</th>\n",
       "      <td>3852.0</td>\n",
       "      <td>57091129</td>\n",
       "    </tr>\n",
       "    <tr>\n",
       "      <th>1999</th>\n",
       "      <td>3908.0</td>\n",
       "      <td>55833339</td>\n",
       "    </tr>\n",
       "    <tr>\n",
       "      <th>2013</th>\n",
       "      <td>3924.0</td>\n",
       "      <td>60091793</td>\n",
       "    </tr>\n",
       "    <tr>\n",
       "      <th>1993</th>\n",
       "      <td>4012.0</td>\n",
       "      <td>54283982</td>\n",
       "    </tr>\n",
       "    <tr>\n",
       "      <th>2012</th>\n",
       "      <td>4012.0</td>\n",
       "      <td>59708630</td>\n",
       "    </tr>\n",
       "    <tr>\n",
       "      <th>2001</th>\n",
       "      <td>4038.0</td>\n",
       "      <td>55571993</td>\n",
       "    </tr>\n",
       "    <tr>\n",
       "      <th>1992</th>\n",
       "      <td>4133.0</td>\n",
       "      <td>50531514</td>\n",
       "    </tr>\n",
       "    <tr>\n",
       "      <th>2014</th>\n",
       "      <td>4158.0</td>\n",
       "      <td>60570482</td>\n",
       "    </tr>\n",
       "    <tr>\n",
       "      <th>2009</th>\n",
       "      <td>4246.0</td>\n",
       "      <td>58013559</td>\n",
       "    </tr>\n",
       "    <tr>\n",
       "      <th>1994</th>\n",
       "      <td>4380.0</td>\n",
       "      <td>54497293</td>\n",
       "    </tr>\n",
       "    <tr>\n",
       "      <th>1986</th>\n",
       "      <td>4587.0</td>\n",
       "      <td>53119533</td>\n",
       "    </tr>\n",
       "    <tr>\n",
       "      <th>1988</th>\n",
       "      <td>4683.0</td>\n",
       "      <td>53310780</td>\n",
       "    </tr>\n",
       "  </tbody>\n",
       "</table>\n",
       "</div>"
      ],
      "text/plain": [
       "      cases_no  population\n",
       "year                      \n",
       "2002    2668.0    55908944\n",
       "1998    2967.0    55527379\n",
       "1997    2991.0    55266635\n",
       "1985    3017.0    53006535\n",
       "2007    3348.0    57382757\n",
       "2011    3421.0    58881852\n",
       "2004    3508.0    56455011\n",
       "2003    3529.0    56171771\n",
       "1987    3604.0    53239668\n",
       "2015    3650.0    61082942\n",
       "1996    3679.0    51314981\n",
       "2005    3687.0    56809024\n",
       "2008    3701.0    57683372\n",
       "2010    3702.0    58403529\n",
       "1989    3731.0    53425129\n",
       "2000    3759.0    56133909\n",
       "1995    3775.0    54746964\n",
       "1991    3827.0    53903427\n",
       "1990    3851.0    50111989\n",
       "2006    3852.0    57091129\n",
       "1999    3908.0    55833339\n",
       "2013    3924.0    60091793\n",
       "1993    4012.0    54283982\n",
       "2012    4012.0    59708630\n",
       "2001    4038.0    55571993\n",
       "1992    4133.0    50531514\n",
       "2014    4158.0    60570482\n",
       "2009    4246.0    58013559\n",
       "1994    4380.0    54497293\n",
       "1986    4587.0    53119533\n",
       "1988    4683.0    53310780"
      ]
     },
     "execution_count": 210,
     "metadata": {},
     "output_type": "execute_result"
    }
   ],
   "source": [
    "df_uk = df_by_country_yr.loc['United Kingdom',['cases_no','population']]\n",
    "df_uk.sort_values('cases_no')"
   ]
  },
  {
   "cell_type": "markdown",
   "metadata": {},
   "source": [
    "***\n",
    "\n",
    "## 7. Summarizing data  \n",
    "The methods `max()`, `min()`,`mean()`,`std()` can be used to find the summary statistics maximum, minimum, mean and standard deviation. The `pandas.DataFrame.describe()` function shows all of these statistics (and more!) at once."
   ]
  },
  {
   "cell_type": "code",
   "execution_count": 92,
   "metadata": {},
   "outputs": [
    {
     "data": {
      "text/plain": [
       "4683.0"
      ]
     },
     "execution_count": 92,
     "metadata": {},
     "output_type": "execute_result"
    }
   ],
   "source": [
    "df_uk['cases_no'].max() "
   ]
  },
  {
   "cell_type": "code",
   "execution_count": 93,
   "metadata": {},
   "outputs": [
    {
     "name": "stdout",
     "output_type": "stream",
     "text": [
      "The mean number of cases in the UK is 3753.2\n",
      "The standard deviation of cases in the UK is 452.7\n",
      "The minimum number of cases in the UK is 2668.0\n",
      "The maximum number of cases in the UK is 4683.0\n"
     ]
    }
   ],
   "source": [
    "# Use the print() function to print the numbers \n",
    "# that you calculate with the .max(), .min(). mean() .std() \n",
    "# with this print you can control the number of decimal places\n",
    "# for the mean and the standard deviation using the :0.1f bit\n",
    "print(f\"The mean number of cases in the UK is {df_uk['cases_no'].mean():0.1f}\")\n",
    "print(f\"The standard deviation of cases in the UK is {df_uk['cases_no'].std():0.1f}\")\n",
    "print(f\"The minimum number of cases in the UK is {df_uk['cases_no'].min()}\")\n",
    "print(f\"The maximum number of cases in the UK is {df_uk['cases_no'].max()}\")\n"
   ]
  },
  {
   "cell_type": "code",
   "execution_count": 94,
   "metadata": {},
   "outputs": [
    {
     "data": {
      "text/html": [
       "<div>\n",
       "<style scoped>\n",
       "    .dataframe tbody tr th:only-of-type {\n",
       "        vertical-align: middle;\n",
       "    }\n",
       "\n",
       "    .dataframe tbody tr th {\n",
       "        vertical-align: top;\n",
       "    }\n",
       "\n",
       "    .dataframe thead th {\n",
       "        text-align: right;\n",
       "    }\n",
       "</style>\n",
       "<table border=\"1\" class=\"dataframe\">\n",
       "  <thead>\n",
       "    <tr style=\"text-align: right;\">\n",
       "      <th></th>\n",
       "      <th>cases_no</th>\n",
       "      <th>population</th>\n",
       "    </tr>\n",
       "  </thead>\n",
       "  <tbody>\n",
       "    <tr>\n",
       "      <th>count</th>\n",
       "      <td>31.000000</td>\n",
       "      <td>3.100000e+01</td>\n",
       "    </tr>\n",
       "    <tr>\n",
       "      <th>mean</th>\n",
       "      <td>3753.161290</td>\n",
       "      <td>5.574451e+07</td>\n",
       "    </tr>\n",
       "    <tr>\n",
       "      <th>std</th>\n",
       "      <td>452.745484</td>\n",
       "      <td>2.814197e+06</td>\n",
       "    </tr>\n",
       "    <tr>\n",
       "      <th>min</th>\n",
       "      <td>2668.000000</td>\n",
       "      <td>5.011199e+07</td>\n",
       "    </tr>\n",
       "    <tr>\n",
       "      <th>25%</th>\n",
       "      <td>3566.500000</td>\n",
       "      <td>5.366428e+07</td>\n",
       "    </tr>\n",
       "    <tr>\n",
       "      <th>50%</th>\n",
       "      <td>3759.000000</td>\n",
       "      <td>5.583334e+07</td>\n",
       "    </tr>\n",
       "    <tr>\n",
       "      <th>75%</th>\n",
       "      <td>4012.000000</td>\n",
       "      <td>5.753306e+07</td>\n",
       "    </tr>\n",
       "    <tr>\n",
       "      <th>max</th>\n",
       "      <td>4683.000000</td>\n",
       "      <td>6.108294e+07</td>\n",
       "    </tr>\n",
       "  </tbody>\n",
       "</table>\n",
       "</div>"
      ],
      "text/plain": [
       "          cases_no    population\n",
       "count    31.000000  3.100000e+01\n",
       "mean   3753.161290  5.574451e+07\n",
       "std     452.745484  2.814197e+06\n",
       "min    2668.000000  5.011199e+07\n",
       "25%    3566.500000  5.366428e+07\n",
       "50%    3759.000000  5.583334e+07\n",
       "75%    4012.000000  5.753306e+07\n",
       "max    4683.000000  6.108294e+07"
      ]
     },
     "execution_count": 94,
     "metadata": {},
     "output_type": "execute_result"
    }
   ],
   "source": [
    "df_uk.describe()"
   ]
  },
  {
   "cell_type": "markdown",
   "metadata": {},
   "source": [
    "#### Exercise 6 \n",
    "\n",
    "Using the similar approaches from obove, obtain the same stats for Greece and store it in a variable `df_greece`"
   ]
  },
  {
   "cell_type": "code",
   "execution_count": 115,
   "metadata": {},
   "outputs": [
    {
     "data": {
      "text/html": [
       "<div>\n",
       "<style scoped>\n",
       "    .dataframe tbody tr th:only-of-type {\n",
       "        vertical-align: middle;\n",
       "    }\n",
       "\n",
       "    .dataframe tbody tr th {\n",
       "        vertical-align: top;\n",
       "    }\n",
       "\n",
       "    .dataframe thead th {\n",
       "        text-align: right;\n",
       "    }\n",
       "</style>\n",
       "<table border=\"1\" class=\"dataframe\">\n",
       "  <thead>\n",
       "    <tr style=\"text-align: right;\">\n",
       "      <th></th>\n",
       "      <th>cases_no</th>\n",
       "      <th>population</th>\n",
       "    </tr>\n",
       "  </thead>\n",
       "  <tbody>\n",
       "    <tr>\n",
       "      <th>count</th>\n",
       "      <td>31.000000</td>\n",
       "      <td>3.100000e+01</td>\n",
       "    </tr>\n",
       "    <tr>\n",
       "      <th>mean</th>\n",
       "      <td>358.903226</td>\n",
       "      <td>9.403958e+06</td>\n",
       "    </tr>\n",
       "    <tr>\n",
       "      <th>std</th>\n",
       "      <td>78.180285</td>\n",
       "      <td>6.567995e+05</td>\n",
       "    </tr>\n",
       "    <tr>\n",
       "      <th>min</th>\n",
       "      <td>212.000000</td>\n",
       "      <td>7.859800e+06</td>\n",
       "    </tr>\n",
       "    <tr>\n",
       "      <th>25%</th>\n",
       "      <td>321.000000</td>\n",
       "      <td>9.035536e+06</td>\n",
       "    </tr>\n",
       "    <tr>\n",
       "      <th>50%</th>\n",
       "      <td>358.000000</td>\n",
       "      <td>9.642400e+06</td>\n",
       "    </tr>\n",
       "    <tr>\n",
       "      <th>75%</th>\n",
       "      <td>375.000000</td>\n",
       "      <td>9.906201e+06</td>\n",
       "    </tr>\n",
       "    <tr>\n",
       "      <th>max</th>\n",
       "      <td>547.000000</td>\n",
       "      <td>1.044153e+07</td>\n",
       "    </tr>\n",
       "  </tbody>\n",
       "</table>\n",
       "</div>"
      ],
      "text/plain": [
       "         cases_no    population\n",
       "count   31.000000  3.100000e+01\n",
       "mean   358.903226  9.403958e+06\n",
       "std     78.180285  6.567995e+05\n",
       "min    212.000000  7.859800e+06\n",
       "25%    321.000000  9.035536e+06\n",
       "50%    358.000000  9.642400e+06\n",
       "75%    375.000000  9.906201e+06\n",
       "max    547.000000  1.044153e+07"
      ]
     },
     "execution_count": 115,
     "metadata": {},
     "output_type": "execute_result"
    }
   ],
   "source": [
    "# Get the total number of cases per year for Greece and \n",
    "# produce the summary statistics \n",
    "df_countryyear_greece = df_by_country_yr.loc['Greece',['cases_no','population']]\n",
    "df_greece = df_countryyear_greece.describe()\n",
    "df_greece"
   ]
  },
  {
   "cell_type": "markdown",
   "metadata": {},
   "source": [
    "***\n",
    "\n",
    "## 8. Combining and merging data sets \n",
    "Often we will need to combine data from two different data sets together. There are two primary operations to combine data:\n",
    "* **concatenating** two datasets, typically vertically to provide additional observations of the same data.\n",
    "* **joining/merging** linked records from two different files that share a common key or a common set of keys. This usually adds new variables to the same observation.\n",
    "\n",
    "There are different types of joins (_inner_, _outer_, _left_, _right_) that differ on what values to keep. A schematic is seen below. "
   ]
  },
  {
   "cell_type": "markdown",
   "metadata": {},
   "source": [
    "![merge](./fig/fig_merge.jpg)\n"
   ]
  },
  {
   "cell_type": "markdown",
   "metadata": {},
   "source": [
    "### 8.1 Merging data\n",
    "Let's say we want to do a side by side comparison of cases in the UK and Greece. First let's extract them again from the main dataframe."
   ]
  },
  {
   "cell_type": "code",
   "execution_count": 116,
   "metadata": {},
   "outputs": [
    {
     "name": "stdout",
     "output_type": "stream",
     "text": [
      "              country  year     sex          age  cases_no  population  \\\n",
      "22208  United Kingdom  1985    male    75+ years     264.0     1202838   \n",
      "22209  United Kingdom  1985    male  55-74 years     915.0     5170113   \n",
      "22210  United Kingdom  1985    male  35-54 years     128.0     6899879   \n",
      "22211  United Kingdom  1985    male  25-34 years      62.0     3969689   \n",
      "22212  United Kingdom  1985  female  55-74 years     678.0     6002096   \n",
      "\n",
      "       gdp_for_year_usd  \n",
      "22208      489285164271  \n",
      "22209      489285164271  \n",
      "22210      489285164271  \n",
      "22211      489285164271  \n",
      "22212      489285164271  \n",
      "     country  year     sex          age  cases_no  population  \\\n",
      "8371  Greece  1985    male    75+ years      35.0      233300   \n",
      "8372  Greece  1985    male  55-74 years      85.0      874300   \n",
      "8373  Greece  1985    male  35-54 years      82.0     1248900   \n",
      "8374  Greece  1985    male  25-34 years       4.0      682900   \n",
      "8375  Greece  1985  female    75+ years      15.0      317900   \n",
      "\n",
      "      gdp_for_year_usd  \n",
      "8371       47820850975  \n",
      "8372       47820850975  \n",
      "8373       47820850975  \n",
      "8374       47820850975  \n",
      "8375       47820850975  \n"
     ]
    }
   ],
   "source": [
    "df_by_country = df_complete.groupby(['country'])\n",
    "df_uk = df_by_country.get_group('United Kingdom')\n",
    "df_greece = df_by_country.get_group('Greece')\n",
    "print(df_uk.head())\n",
    "print(df_greece.head())"
   ]
  },
  {
   "cell_type": "markdown",
   "metadata": {},
   "source": [
    "We are going to use the `reset_index()` function again, so that both DataFrames start with new indices from 0, rather than the original rows of the master DataFrame. "
   ]
  },
  {
   "cell_type": "code",
   "execution_count": 117,
   "metadata": {},
   "outputs": [
    {
     "name": "stdout",
     "output_type": "stream",
     "text": [
      "            country  year     sex          age  cases_no  population  \\\n",
      "0    United Kingdom  1985    male    75+ years     264.0     1202838   \n",
      "1    United Kingdom  1985    male  55-74 years     915.0     5170113   \n",
      "2    United Kingdom  1985    male  35-54 years     128.0     6899879   \n",
      "3    United Kingdom  1985    male  25-34 years      62.0     3969689   \n",
      "4    United Kingdom  1985  female  55-74 years     678.0     6002096   \n",
      "..              ...   ...     ...          ...       ...         ...   \n",
      "364  United Kingdom  2015  female  25-34 years     181.0     4414464   \n",
      "365  United Kingdom  2015  female    75+ years      18.0     3070457   \n",
      "366  United Kingdom  2015  female  15-24 years      14.0     3966564   \n",
      "367  United Kingdom  2015  female   5-14 years       6.0     3663221   \n",
      "368  United Kingdom  2015    male   5-14 years       4.0     3840476   \n",
      "\n",
      "     gdp_for_year_usd  \n",
      "0        489285164271  \n",
      "1        489285164271  \n",
      "2        489285164271  \n",
      "3        489285164271  \n",
      "4        489285164271  \n",
      "..                ...  \n",
      "364     2885570309161  \n",
      "365     2885570309161  \n",
      "366     2885570309161  \n",
      "367     2885570309161  \n",
      "368     2885570309161  \n",
      "\n",
      "[369 rows x 7 columns]\n",
      "    country  year     sex          age  cases_no  population  gdp_for_year_usd\n",
      "0    Greece  1985    male    75+ years      35.0      233300       47820850975\n",
      "1    Greece  1985    male  55-74 years      85.0      874300       47820850975\n",
      "2    Greece  1985    male  35-54 years      82.0     1248900       47820850975\n",
      "3    Greece  1985    male  25-34 years       4.0      682900       47820850975\n",
      "4    Greece  1985  female    75+ years      15.0      317900       47820850975\n",
      "..      ...   ...     ...          ...       ...         ...               ...\n",
      "326  Greece  2015  female  55-74 years      39.0     1294582      195541761243\n",
      "327  Greece  2015  female  25-34 years      17.0      662893      195541761243\n",
      "328  Greece  2015  female  35-54 years      36.0     1627797      195541761243\n",
      "329  Greece  2015  female    75+ years      12.0      683939      195541761243\n",
      "330  Greece  2015  female  15-24 years       3.0      541528      195541761243\n",
      "\n",
      "[331 rows x 7 columns]\n"
     ]
    }
   ],
   "source": [
    "df_uk = df_uk.reset_index(drop=True)\n",
    "df_greece = df_greece.reset_index(drop=True)\n",
    "print(df_uk)\n",
    "print(df_greece)"
   ]
  },
  {
   "cell_type": "markdown",
   "metadata": {},
   "source": [
    "Now we will use the `merge` function in pandas to combine them. We have a few things to think about here. \n",
    "* One data frame needs to be the left data frame (see above figure) and the other needs to be the right data frame. \n",
    "* No matter if the record is found in just the left data frame, just the right data frame, or both, we want to keep it. That is called an _outer_ join and is specified by setting the parameter to `how='outer'`.\n",
    "* The `year`, `age`, and `sex` columns are the _keys_ that we will want to match for the row by row comparison. These are fed into the `on` parameter of merge.\n",
    "* The other three variables `cases_no`, `population`, and `gdp_for_year_usd` are the variables that we are going to compare. \n",
    "* We can find out if there was a match or not by setting `indicator=True`. This creates a new column called `_merge` that indicates if the observation was found in the left, the right, or both.\n",
    "* We can add suffixes so that we know where the column data comes from with the `suffixes` parameter. With this, the country columns become irrelevant and can be removed. "
   ]
  },
  {
   "cell_type": "code",
   "execution_count": 118,
   "metadata": {},
   "outputs": [
    {
     "data": {
      "text/html": [
       "<div>\n",
       "<style scoped>\n",
       "    .dataframe tbody tr th:only-of-type {\n",
       "        vertical-align: middle;\n",
       "    }\n",
       "\n",
       "    .dataframe tbody tr th {\n",
       "        vertical-align: top;\n",
       "    }\n",
       "\n",
       "    .dataframe thead th {\n",
       "        text-align: right;\n",
       "    }\n",
       "</style>\n",
       "<table border=\"1\" class=\"dataframe\">\n",
       "  <thead>\n",
       "    <tr style=\"text-align: right;\">\n",
       "      <th></th>\n",
       "      <th>year</th>\n",
       "      <th>sex</th>\n",
       "      <th>age</th>\n",
       "      <th>cases_no_uk</th>\n",
       "      <th>population_uk</th>\n",
       "      <th>gdp_for_year_usd_uk</th>\n",
       "      <th>cases_no_greece</th>\n",
       "      <th>population_greece</th>\n",
       "      <th>gdp_for_year_usd_greece</th>\n",
       "      <th>_merge</th>\n",
       "    </tr>\n",
       "  </thead>\n",
       "  <tbody>\n",
       "    <tr>\n",
       "      <th>0</th>\n",
       "      <td>1985</td>\n",
       "      <td>male</td>\n",
       "      <td>75+ years</td>\n",
       "      <td>264.0</td>\n",
       "      <td>1202838</td>\n",
       "      <td>489285164271</td>\n",
       "      <td>35.0</td>\n",
       "      <td>233300.0</td>\n",
       "      <td>4.782085e+10</td>\n",
       "      <td>both</td>\n",
       "    </tr>\n",
       "    <tr>\n",
       "      <th>1</th>\n",
       "      <td>1985</td>\n",
       "      <td>male</td>\n",
       "      <td>55-74 years</td>\n",
       "      <td>915.0</td>\n",
       "      <td>5170113</td>\n",
       "      <td>489285164271</td>\n",
       "      <td>85.0</td>\n",
       "      <td>874300.0</td>\n",
       "      <td>4.782085e+10</td>\n",
       "      <td>both</td>\n",
       "    </tr>\n",
       "    <tr>\n",
       "      <th>2</th>\n",
       "      <td>1985</td>\n",
       "      <td>male</td>\n",
       "      <td>35-54 years</td>\n",
       "      <td>128.0</td>\n",
       "      <td>6899879</td>\n",
       "      <td>489285164271</td>\n",
       "      <td>82.0</td>\n",
       "      <td>1248900.0</td>\n",
       "      <td>4.782085e+10</td>\n",
       "      <td>both</td>\n",
       "    </tr>\n",
       "    <tr>\n",
       "      <th>3</th>\n",
       "      <td>1985</td>\n",
       "      <td>male</td>\n",
       "      <td>25-34 years</td>\n",
       "      <td>62.0</td>\n",
       "      <td>3969689</td>\n",
       "      <td>489285164271</td>\n",
       "      <td>4.0</td>\n",
       "      <td>682900.0</td>\n",
       "      <td>4.782085e+10</td>\n",
       "      <td>both</td>\n",
       "    </tr>\n",
       "    <tr>\n",
       "      <th>4</th>\n",
       "      <td>1985</td>\n",
       "      <td>female</td>\n",
       "      <td>55-74 years</td>\n",
       "      <td>678.0</td>\n",
       "      <td>6002096</td>\n",
       "      <td>489285164271</td>\n",
       "      <td>47.0</td>\n",
       "      <td>1000100.0</td>\n",
       "      <td>4.782085e+10</td>\n",
       "      <td>both</td>\n",
       "    </tr>\n",
       "    <tr>\n",
       "      <th>...</th>\n",
       "      <td>...</td>\n",
       "      <td>...</td>\n",
       "      <td>...</td>\n",
       "      <td>...</td>\n",
       "      <td>...</td>\n",
       "      <td>...</td>\n",
       "      <td>...</td>\n",
       "      <td>...</td>\n",
       "      <td>...</td>\n",
       "      <td>...</td>\n",
       "    </tr>\n",
       "    <tr>\n",
       "      <th>364</th>\n",
       "      <td>2015</td>\n",
       "      <td>female</td>\n",
       "      <td>25-34 years</td>\n",
       "      <td>181.0</td>\n",
       "      <td>4414464</td>\n",
       "      <td>2885570309161</td>\n",
       "      <td>17.0</td>\n",
       "      <td>662893.0</td>\n",
       "      <td>1.955418e+11</td>\n",
       "      <td>both</td>\n",
       "    </tr>\n",
       "    <tr>\n",
       "      <th>365</th>\n",
       "      <td>2015</td>\n",
       "      <td>female</td>\n",
       "      <td>75+ years</td>\n",
       "      <td>18.0</td>\n",
       "      <td>3070457</td>\n",
       "      <td>2885570309161</td>\n",
       "      <td>12.0</td>\n",
       "      <td>683939.0</td>\n",
       "      <td>1.955418e+11</td>\n",
       "      <td>both</td>\n",
       "    </tr>\n",
       "    <tr>\n",
       "      <th>366</th>\n",
       "      <td>2015</td>\n",
       "      <td>female</td>\n",
       "      <td>15-24 years</td>\n",
       "      <td>14.0</td>\n",
       "      <td>3966564</td>\n",
       "      <td>2885570309161</td>\n",
       "      <td>3.0</td>\n",
       "      <td>541528.0</td>\n",
       "      <td>1.955418e+11</td>\n",
       "      <td>both</td>\n",
       "    </tr>\n",
       "    <tr>\n",
       "      <th>367</th>\n",
       "      <td>2015</td>\n",
       "      <td>female</td>\n",
       "      <td>5-14 years</td>\n",
       "      <td>6.0</td>\n",
       "      <td>3663221</td>\n",
       "      <td>2885570309161</td>\n",
       "      <td>NaN</td>\n",
       "      <td>NaN</td>\n",
       "      <td>NaN</td>\n",
       "      <td>left_only</td>\n",
       "    </tr>\n",
       "    <tr>\n",
       "      <th>368</th>\n",
       "      <td>2015</td>\n",
       "      <td>male</td>\n",
       "      <td>5-14 years</td>\n",
       "      <td>4.0</td>\n",
       "      <td>3840476</td>\n",
       "      <td>2885570309161</td>\n",
       "      <td>NaN</td>\n",
       "      <td>NaN</td>\n",
       "      <td>NaN</td>\n",
       "      <td>left_only</td>\n",
       "    </tr>\n",
       "  </tbody>\n",
       "</table>\n",
       "<p>369 rows × 10 columns</p>\n",
       "</div>"
      ],
      "text/plain": [
       "     year     sex          age  cases_no_uk  population_uk  \\\n",
       "0    1985    male    75+ years        264.0        1202838   \n",
       "1    1985    male  55-74 years        915.0        5170113   \n",
       "2    1985    male  35-54 years        128.0        6899879   \n",
       "3    1985    male  25-34 years         62.0        3969689   \n",
       "4    1985  female  55-74 years        678.0        6002096   \n",
       "..    ...     ...          ...          ...            ...   \n",
       "364  2015  female  25-34 years        181.0        4414464   \n",
       "365  2015  female    75+ years         18.0        3070457   \n",
       "366  2015  female  15-24 years         14.0        3966564   \n",
       "367  2015  female   5-14 years          6.0        3663221   \n",
       "368  2015    male   5-14 years          4.0        3840476   \n",
       "\n",
       "     gdp_for_year_usd_uk  cases_no_greece  population_greece  \\\n",
       "0           489285164271             35.0           233300.0   \n",
       "1           489285164271             85.0           874300.0   \n",
       "2           489285164271             82.0          1248900.0   \n",
       "3           489285164271              4.0           682900.0   \n",
       "4           489285164271             47.0          1000100.0   \n",
       "..                   ...              ...                ...   \n",
       "364        2885570309161             17.0           662893.0   \n",
       "365        2885570309161             12.0           683939.0   \n",
       "366        2885570309161              3.0           541528.0   \n",
       "367        2885570309161              NaN                NaN   \n",
       "368        2885570309161              NaN                NaN   \n",
       "\n",
       "     gdp_for_year_usd_greece     _merge  \n",
       "0               4.782085e+10       both  \n",
       "1               4.782085e+10       both  \n",
       "2               4.782085e+10       both  \n",
       "3               4.782085e+10       both  \n",
       "4               4.782085e+10       both  \n",
       "..                       ...        ...  \n",
       "364             1.955418e+11       both  \n",
       "365             1.955418e+11       both  \n",
       "366             1.955418e+11       both  \n",
       "367                      NaN  left_only  \n",
       "368                      NaN  left_only  \n",
       "\n",
       "[369 rows x 10 columns]"
      ]
     },
     "execution_count": 118,
     "metadata": {},
     "output_type": "execute_result"
    }
   ],
   "source": [
    "df_uk_greece = pd.merge(df_uk, df_greece,\n",
    "                        how='outer',on=['year','age','sex'],\n",
    "                        suffixes=['_uk','_greece'],indicator=True) \n",
    "# Since suffixed in the merge, we can drop the countries\n",
    "df_uk_greece = df_uk_greece.drop(columns = ['country_uk','country_greece'])\n",
    "df_uk_greece"
   ]
  },
  {
   "cell_type": "markdown",
   "metadata": {},
   "source": [
    "Notice how at the bottom of the DataFrame, the `_merge` column is set to `left_only`, meaning that data for 5-14 year olds in 2015 was only found in the `df_uk` but not `df_greece`. For those value missing from `df_greece`, you can see that the value is set to missing (`NaN`).\n"
   ]
  },
  {
   "cell_type": "markdown",
   "metadata": {},
   "source": [
    "### 8.2 Concatenating data\n",
    "Concatenation is a bit different from merging. Concatenating is about bolting on additional rows (if the columns are the same in both) or additional columns (if the rows are the same). Unlike merging, which only works with two data frames at a time, concatenate can merge multiple (i.e two or more) dataframes together. \n",
    "\n",
    "Let's use our two data frames `df_uk` and `df_greece` again and try to concatenate vertically. \n",
    "If we were to run the following command\n",
    "```python\n",
    "df_concatenated = pandas.concat([df1, df2])\n",
    "```\n",
    "\n",
    "then it would _vertically_ concatenates the dataframes (df1 and df2), and the default results will look like the picture:\n",
    "\n"
   ]
  },
  {
   "cell_type": "markdown",
   "metadata": {},
   "source": [
    "![concatenate1](./fig/fig1_concat.jpg)"
   ]
  },
  {
   "cell_type": "markdown",
   "metadata": {},
   "source": [
    "This example assumes that your column names are the same betweeen the two dataframes.  If your column names are different while concatenating along rows (axis 0), then by default the columns will also be added, and NaN values will be filled in as applicable."
   ]
  },
  {
   "cell_type": "markdown",
   "metadata": {},
   "source": [
    "![concatenate2](./fig/fig2_concat.jpg)"
   ]
  },
  {
   "cell_type": "markdown",
   "metadata": {},
   "source": [
    "Concatenation is usually performed vertically to add more observations (rows) of the same columns. However, you can also concatenate horizontally along the same row indices by passing the parameter `axis=columns`.\n",
    "```python\n",
    "df_concatenated = pandas.concat([df1, df2], axis='columns')\n",
    "```\n",
    "\n"
   ]
  },
  {
   "cell_type": "markdown",
   "metadata": {},
   "source": [
    "![concatenate3](./fig/fig3_concat.jpg)"
   ]
  },
  {
   "cell_type": "markdown",
   "metadata": {},
   "source": [
    "Lets concatenate our datasets and view them "
   ]
  },
  {
   "cell_type": "code",
   "execution_count": 119,
   "metadata": {},
   "outputs": [
    {
     "data": {
      "text/html": [
       "<div>\n",
       "<style scoped>\n",
       "    .dataframe tbody tr th:only-of-type {\n",
       "        vertical-align: middle;\n",
       "    }\n",
       "\n",
       "    .dataframe tbody tr th {\n",
       "        vertical-align: top;\n",
       "    }\n",
       "\n",
       "    .dataframe thead th {\n",
       "        text-align: right;\n",
       "    }\n",
       "</style>\n",
       "<table border=\"1\" class=\"dataframe\">\n",
       "  <thead>\n",
       "    <tr style=\"text-align: right;\">\n",
       "      <th></th>\n",
       "      <th>country</th>\n",
       "      <th>year</th>\n",
       "      <th>sex</th>\n",
       "      <th>age</th>\n",
       "      <th>cases_no</th>\n",
       "      <th>population</th>\n",
       "      <th>gdp_for_year_usd</th>\n",
       "    </tr>\n",
       "  </thead>\n",
       "  <tbody>\n",
       "    <tr>\n",
       "      <th>0</th>\n",
       "      <td>United Kingdom</td>\n",
       "      <td>1985</td>\n",
       "      <td>male</td>\n",
       "      <td>75+ years</td>\n",
       "      <td>264.0</td>\n",
       "      <td>1202838</td>\n",
       "      <td>489285164271</td>\n",
       "    </tr>\n",
       "    <tr>\n",
       "      <th>1</th>\n",
       "      <td>United Kingdom</td>\n",
       "      <td>1985</td>\n",
       "      <td>male</td>\n",
       "      <td>55-74 years</td>\n",
       "      <td>915.0</td>\n",
       "      <td>5170113</td>\n",
       "      <td>489285164271</td>\n",
       "    </tr>\n",
       "    <tr>\n",
       "      <th>2</th>\n",
       "      <td>United Kingdom</td>\n",
       "      <td>1985</td>\n",
       "      <td>male</td>\n",
       "      <td>35-54 years</td>\n",
       "      <td>128.0</td>\n",
       "      <td>6899879</td>\n",
       "      <td>489285164271</td>\n",
       "    </tr>\n",
       "    <tr>\n",
       "      <th>3</th>\n",
       "      <td>United Kingdom</td>\n",
       "      <td>1985</td>\n",
       "      <td>male</td>\n",
       "      <td>25-34 years</td>\n",
       "      <td>62.0</td>\n",
       "      <td>3969689</td>\n",
       "      <td>489285164271</td>\n",
       "    </tr>\n",
       "    <tr>\n",
       "      <th>4</th>\n",
       "      <td>United Kingdom</td>\n",
       "      <td>1985</td>\n",
       "      <td>female</td>\n",
       "      <td>55-74 years</td>\n",
       "      <td>678.0</td>\n",
       "      <td>6002096</td>\n",
       "      <td>489285164271</td>\n",
       "    </tr>\n",
       "    <tr>\n",
       "      <th>...</th>\n",
       "      <td>...</td>\n",
       "      <td>...</td>\n",
       "      <td>...</td>\n",
       "      <td>...</td>\n",
       "      <td>...</td>\n",
       "      <td>...</td>\n",
       "      <td>...</td>\n",
       "    </tr>\n",
       "    <tr>\n",
       "      <th>326</th>\n",
       "      <td>Greece</td>\n",
       "      <td>2015</td>\n",
       "      <td>female</td>\n",
       "      <td>55-74 years</td>\n",
       "      <td>39.0</td>\n",
       "      <td>1294582</td>\n",
       "      <td>195541761243</td>\n",
       "    </tr>\n",
       "    <tr>\n",
       "      <th>327</th>\n",
       "      <td>Greece</td>\n",
       "      <td>2015</td>\n",
       "      <td>female</td>\n",
       "      <td>25-34 years</td>\n",
       "      <td>17.0</td>\n",
       "      <td>662893</td>\n",
       "      <td>195541761243</td>\n",
       "    </tr>\n",
       "    <tr>\n",
       "      <th>328</th>\n",
       "      <td>Greece</td>\n",
       "      <td>2015</td>\n",
       "      <td>female</td>\n",
       "      <td>35-54 years</td>\n",
       "      <td>36.0</td>\n",
       "      <td>1627797</td>\n",
       "      <td>195541761243</td>\n",
       "    </tr>\n",
       "    <tr>\n",
       "      <th>329</th>\n",
       "      <td>Greece</td>\n",
       "      <td>2015</td>\n",
       "      <td>female</td>\n",
       "      <td>75+ years</td>\n",
       "      <td>12.0</td>\n",
       "      <td>683939</td>\n",
       "      <td>195541761243</td>\n",
       "    </tr>\n",
       "    <tr>\n",
       "      <th>330</th>\n",
       "      <td>Greece</td>\n",
       "      <td>2015</td>\n",
       "      <td>female</td>\n",
       "      <td>15-24 years</td>\n",
       "      <td>3.0</td>\n",
       "      <td>541528</td>\n",
       "      <td>195541761243</td>\n",
       "    </tr>\n",
       "  </tbody>\n",
       "</table>\n",
       "<p>700 rows × 7 columns</p>\n",
       "</div>"
      ],
      "text/plain": [
       "            country  year     sex          age  cases_no  population  \\\n",
       "0    United Kingdom  1985    male    75+ years     264.0     1202838   \n",
       "1    United Kingdom  1985    male  55-74 years     915.0     5170113   \n",
       "2    United Kingdom  1985    male  35-54 years     128.0     6899879   \n",
       "3    United Kingdom  1985    male  25-34 years      62.0     3969689   \n",
       "4    United Kingdom  1985  female  55-74 years     678.0     6002096   \n",
       "..              ...   ...     ...          ...       ...         ...   \n",
       "326          Greece  2015  female  55-74 years      39.0     1294582   \n",
       "327          Greece  2015  female  25-34 years      17.0      662893   \n",
       "328          Greece  2015  female  35-54 years      36.0     1627797   \n",
       "329          Greece  2015  female    75+ years      12.0      683939   \n",
       "330          Greece  2015  female  15-24 years       3.0      541528   \n",
       "\n",
       "     gdp_for_year_usd  \n",
       "0        489285164271  \n",
       "1        489285164271  \n",
       "2        489285164271  \n",
       "3        489285164271  \n",
       "4        489285164271  \n",
       "..                ...  \n",
       "326      195541761243  \n",
       "327      195541761243  \n",
       "328      195541761243  \n",
       "329      195541761243  \n",
       "330      195541761243  \n",
       "\n",
       "[700 rows x 7 columns]"
      ]
     },
     "execution_count": 119,
     "metadata": {},
     "output_type": "execute_result"
    }
   ],
   "source": [
    "df_uk_greece_vconcat = pd.concat([df_uk, df_greece])\n",
    "df_uk_greece_vconcat"
   ]
  },
  {
   "cell_type": "markdown",
   "metadata": {},
   "source": [
    "This results that the datasets are being stacked with `df_uk` on top of `df_greece`. They are concatenated by default on the \"row axis\" or axis=0. If you look carefully the indices repeat. The first thirty rows of the UK have indices of 0 to 29, and the first thirty rows of the Greece data also have indices from 0 to 29. If you want to avoid this, you can either use `reset_index` after the concatenation, or you can use the `ignore_index=True` parameter while performing the concatenation.\n",
    "\n",
    "Now let's try a horizontal concatenation using the `axis=1` parameter. "
   ]
  },
  {
   "cell_type": "code",
   "execution_count": 120,
   "metadata": {},
   "outputs": [
    {
     "name": "stdout",
     "output_type": "stream",
     "text": [
      "Index(['country', 'year', 'sex', 'age', 'cases_no', 'population',\n",
      "       'gdp_for_year_usd', 'country', 'year', 'sex', 'age', 'cases_no',\n",
      "       'population', 'gdp_for_year_usd'],\n",
      "      dtype='object')\n"
     ]
    },
    {
     "data": {
      "text/html": [
       "<div>\n",
       "<style scoped>\n",
       "    .dataframe tbody tr th:only-of-type {\n",
       "        vertical-align: middle;\n",
       "    }\n",
       "\n",
       "    .dataframe tbody tr th {\n",
       "        vertical-align: top;\n",
       "    }\n",
       "\n",
       "    .dataframe thead th {\n",
       "        text-align: right;\n",
       "    }\n",
       "</style>\n",
       "<table border=\"1\" class=\"dataframe\">\n",
       "  <thead>\n",
       "    <tr style=\"text-align: right;\">\n",
       "      <th></th>\n",
       "      <th>country</th>\n",
       "      <th>year</th>\n",
       "      <th>sex</th>\n",
       "      <th>age</th>\n",
       "      <th>cases_no</th>\n",
       "      <th>population</th>\n",
       "      <th>gdp_for_year_usd</th>\n",
       "      <th>country</th>\n",
       "      <th>year</th>\n",
       "      <th>sex</th>\n",
       "      <th>age</th>\n",
       "      <th>cases_no</th>\n",
       "      <th>population</th>\n",
       "      <th>gdp_for_year_usd</th>\n",
       "    </tr>\n",
       "  </thead>\n",
       "  <tbody>\n",
       "    <tr>\n",
       "      <th>0</th>\n",
       "      <td>United Kingdom</td>\n",
       "      <td>1985</td>\n",
       "      <td>male</td>\n",
       "      <td>75+ years</td>\n",
       "      <td>264.0</td>\n",
       "      <td>1202838</td>\n",
       "      <td>489285164271</td>\n",
       "      <td>Greece</td>\n",
       "      <td>1985.0</td>\n",
       "      <td>male</td>\n",
       "      <td>75+ years</td>\n",
       "      <td>35.0</td>\n",
       "      <td>233300.0</td>\n",
       "      <td>4.782085e+10</td>\n",
       "    </tr>\n",
       "    <tr>\n",
       "      <th>1</th>\n",
       "      <td>United Kingdom</td>\n",
       "      <td>1985</td>\n",
       "      <td>male</td>\n",
       "      <td>55-74 years</td>\n",
       "      <td>915.0</td>\n",
       "      <td>5170113</td>\n",
       "      <td>489285164271</td>\n",
       "      <td>Greece</td>\n",
       "      <td>1985.0</td>\n",
       "      <td>male</td>\n",
       "      <td>55-74 years</td>\n",
       "      <td>85.0</td>\n",
       "      <td>874300.0</td>\n",
       "      <td>4.782085e+10</td>\n",
       "    </tr>\n",
       "    <tr>\n",
       "      <th>2</th>\n",
       "      <td>United Kingdom</td>\n",
       "      <td>1985</td>\n",
       "      <td>male</td>\n",
       "      <td>35-54 years</td>\n",
       "      <td>128.0</td>\n",
       "      <td>6899879</td>\n",
       "      <td>489285164271</td>\n",
       "      <td>Greece</td>\n",
       "      <td>1985.0</td>\n",
       "      <td>male</td>\n",
       "      <td>35-54 years</td>\n",
       "      <td>82.0</td>\n",
       "      <td>1248900.0</td>\n",
       "      <td>4.782085e+10</td>\n",
       "    </tr>\n",
       "    <tr>\n",
       "      <th>3</th>\n",
       "      <td>United Kingdom</td>\n",
       "      <td>1985</td>\n",
       "      <td>male</td>\n",
       "      <td>25-34 years</td>\n",
       "      <td>62.0</td>\n",
       "      <td>3969689</td>\n",
       "      <td>489285164271</td>\n",
       "      <td>Greece</td>\n",
       "      <td>1985.0</td>\n",
       "      <td>male</td>\n",
       "      <td>25-34 years</td>\n",
       "      <td>4.0</td>\n",
       "      <td>682900.0</td>\n",
       "      <td>4.782085e+10</td>\n",
       "    </tr>\n",
       "    <tr>\n",
       "      <th>4</th>\n",
       "      <td>United Kingdom</td>\n",
       "      <td>1985</td>\n",
       "      <td>female</td>\n",
       "      <td>55-74 years</td>\n",
       "      <td>678.0</td>\n",
       "      <td>6002096</td>\n",
       "      <td>489285164271</td>\n",
       "      <td>Greece</td>\n",
       "      <td>1985.0</td>\n",
       "      <td>female</td>\n",
       "      <td>75+ years</td>\n",
       "      <td>15.0</td>\n",
       "      <td>317900.0</td>\n",
       "      <td>4.782085e+10</td>\n",
       "    </tr>\n",
       "    <tr>\n",
       "      <th>...</th>\n",
       "      <td>...</td>\n",
       "      <td>...</td>\n",
       "      <td>...</td>\n",
       "      <td>...</td>\n",
       "      <td>...</td>\n",
       "      <td>...</td>\n",
       "      <td>...</td>\n",
       "      <td>...</td>\n",
       "      <td>...</td>\n",
       "      <td>...</td>\n",
       "      <td>...</td>\n",
       "      <td>...</td>\n",
       "      <td>...</td>\n",
       "      <td>...</td>\n",
       "    </tr>\n",
       "    <tr>\n",
       "      <th>364</th>\n",
       "      <td>United Kingdom</td>\n",
       "      <td>2015</td>\n",
       "      <td>female</td>\n",
       "      <td>25-34 years</td>\n",
       "      <td>181.0</td>\n",
       "      <td>4414464</td>\n",
       "      <td>2885570309161</td>\n",
       "      <td>NaN</td>\n",
       "      <td>NaN</td>\n",
       "      <td>NaN</td>\n",
       "      <td>NaN</td>\n",
       "      <td>NaN</td>\n",
       "      <td>NaN</td>\n",
       "      <td>NaN</td>\n",
       "    </tr>\n",
       "    <tr>\n",
       "      <th>365</th>\n",
       "      <td>United Kingdom</td>\n",
       "      <td>2015</td>\n",
       "      <td>female</td>\n",
       "      <td>75+ years</td>\n",
       "      <td>18.0</td>\n",
       "      <td>3070457</td>\n",
       "      <td>2885570309161</td>\n",
       "      <td>NaN</td>\n",
       "      <td>NaN</td>\n",
       "      <td>NaN</td>\n",
       "      <td>NaN</td>\n",
       "      <td>NaN</td>\n",
       "      <td>NaN</td>\n",
       "      <td>NaN</td>\n",
       "    </tr>\n",
       "    <tr>\n",
       "      <th>366</th>\n",
       "      <td>United Kingdom</td>\n",
       "      <td>2015</td>\n",
       "      <td>female</td>\n",
       "      <td>15-24 years</td>\n",
       "      <td>14.0</td>\n",
       "      <td>3966564</td>\n",
       "      <td>2885570309161</td>\n",
       "      <td>NaN</td>\n",
       "      <td>NaN</td>\n",
       "      <td>NaN</td>\n",
       "      <td>NaN</td>\n",
       "      <td>NaN</td>\n",
       "      <td>NaN</td>\n",
       "      <td>NaN</td>\n",
       "    </tr>\n",
       "    <tr>\n",
       "      <th>367</th>\n",
       "      <td>United Kingdom</td>\n",
       "      <td>2015</td>\n",
       "      <td>female</td>\n",
       "      <td>5-14 years</td>\n",
       "      <td>6.0</td>\n",
       "      <td>3663221</td>\n",
       "      <td>2885570309161</td>\n",
       "      <td>NaN</td>\n",
       "      <td>NaN</td>\n",
       "      <td>NaN</td>\n",
       "      <td>NaN</td>\n",
       "      <td>NaN</td>\n",
       "      <td>NaN</td>\n",
       "      <td>NaN</td>\n",
       "    </tr>\n",
       "    <tr>\n",
       "      <th>368</th>\n",
       "      <td>United Kingdom</td>\n",
       "      <td>2015</td>\n",
       "      <td>male</td>\n",
       "      <td>5-14 years</td>\n",
       "      <td>4.0</td>\n",
       "      <td>3840476</td>\n",
       "      <td>2885570309161</td>\n",
       "      <td>NaN</td>\n",
       "      <td>NaN</td>\n",
       "      <td>NaN</td>\n",
       "      <td>NaN</td>\n",
       "      <td>NaN</td>\n",
       "      <td>NaN</td>\n",
       "      <td>NaN</td>\n",
       "    </tr>\n",
       "  </tbody>\n",
       "</table>\n",
       "<p>369 rows × 14 columns</p>\n",
       "</div>"
      ],
      "text/plain": [
       "            country  year     sex          age  cases_no  population  \\\n",
       "0    United Kingdom  1985    male    75+ years     264.0     1202838   \n",
       "1    United Kingdom  1985    male  55-74 years     915.0     5170113   \n",
       "2    United Kingdom  1985    male  35-54 years     128.0     6899879   \n",
       "3    United Kingdom  1985    male  25-34 years      62.0     3969689   \n",
       "4    United Kingdom  1985  female  55-74 years     678.0     6002096   \n",
       "..              ...   ...     ...          ...       ...         ...   \n",
       "364  United Kingdom  2015  female  25-34 years     181.0     4414464   \n",
       "365  United Kingdom  2015  female    75+ years      18.0     3070457   \n",
       "366  United Kingdom  2015  female  15-24 years      14.0     3966564   \n",
       "367  United Kingdom  2015  female   5-14 years       6.0     3663221   \n",
       "368  United Kingdom  2015    male   5-14 years       4.0     3840476   \n",
       "\n",
       "     gdp_for_year_usd country    year     sex          age  cases_no  \\\n",
       "0        489285164271  Greece  1985.0    male    75+ years      35.0   \n",
       "1        489285164271  Greece  1985.0    male  55-74 years      85.0   \n",
       "2        489285164271  Greece  1985.0    male  35-54 years      82.0   \n",
       "3        489285164271  Greece  1985.0    male  25-34 years       4.0   \n",
       "4        489285164271  Greece  1985.0  female    75+ years      15.0   \n",
       "..                ...     ...     ...     ...          ...       ...   \n",
       "364     2885570309161     NaN     NaN     NaN          NaN       NaN   \n",
       "365     2885570309161     NaN     NaN     NaN          NaN       NaN   \n",
       "366     2885570309161     NaN     NaN     NaN          NaN       NaN   \n",
       "367     2885570309161     NaN     NaN     NaN          NaN       NaN   \n",
       "368     2885570309161     NaN     NaN     NaN          NaN       NaN   \n",
       "\n",
       "     population  gdp_for_year_usd  \n",
       "0      233300.0      4.782085e+10  \n",
       "1      874300.0      4.782085e+10  \n",
       "2     1248900.0      4.782085e+10  \n",
       "3      682900.0      4.782085e+10  \n",
       "4      317900.0      4.782085e+10  \n",
       "..          ...               ...  \n",
       "364         NaN               NaN  \n",
       "365         NaN               NaN  \n",
       "366         NaN               NaN  \n",
       "367         NaN               NaN  \n",
       "368         NaN               NaN  \n",
       "\n",
       "[369 rows x 14 columns]"
      ]
     },
     "execution_count": 120,
     "metadata": {},
     "output_type": "execute_result"
    }
   ],
   "source": [
    "df_uk_greece_hconcat = pd.concat([df_uk, df_greece], axis =1)\n",
    "print(df_uk_greece_hconcat.columns)\n",
    "df_uk_greece_hconcat"
   ]
  },
  {
   "cell_type": "markdown",
   "metadata": {},
   "source": [
    "Now the dataframes are stacked side by side, which is probably unhelpful, because they both have the same column names, which will be difficult and confusing if you are trying to index a specific column.\n",
    "\n",
    "***\n"
   ]
  },
  {
   "cell_type": "markdown",
   "metadata": {},
   "source": [
    "## 9. Visualizing the data\n",
    "\n",
    "There is only so much you can learn from the data, especially when there are large numbers of variables and observations, from looking at it in tabular form. Effective data visualization is an essential tool with many applications, from initial exploration to disseminating findings. There are various libraries that you can use in Python to visualize your data, with the two most popular being are [Matplotlib](https://matplotlib.org/), and [Seaborn](https://seaborn.pydata.org/). Here, we will use the Matplotlib library to do some example visualizations. "
   ]
  },
  {
   "cell_type": "code",
   "execution_count": 122,
   "metadata": {},
   "outputs": [],
   "source": [
    "%matplotlib inline  "
   ]
  },
  {
   "cell_type": "markdown",
   "metadata": {},
   "source": [
    "  `%matplotlib inline` is what is known as a magic function in Jupyter. It tells Jupyter Lab to display the resulting figures in the notebook right below the code\n",
    "\n",
    "  Below we plot both the UK and Greece cases (summed across ages and sex) against the year using [plot](https://matplotlib.org/stable/api/_as_gen/matplotlib.pyplot.plot.html) function. You can call this multiple times to produce multiple plots on the same axis. The call signature is `plot(x,y,fmt)` where `x` is the vector of x coordinate values, `y` is the vector of y values, and `fmt` is the formatting of the points (marker shape, marker color, line between points). \n",
    "\n",
    "  Notice how the x value is the same in both `df_uk_greece_grouped['year']`"
   ]
  },
  {
   "cell_type": "code",
   "execution_count": 129,
   "metadata": {},
   "outputs": [
    {
     "data": {
      "text/plain": [
       "[<matplotlib.lines.Line2D at 0x7f7c8181ce90>]"
      ]
     },
     "execution_count": 129,
     "metadata": {},
     "output_type": "execute_result"
    },
    {
     "data": {
      "image/png": "[encoded data removed]",
      "text/plain": [
       "<Figure size 640x480 with 1 Axes>"
      ]
     },
     "metadata": {},
     "output_type": "display_data"
    }
   ],
   "source": [
    "\n",
    "df_uk_greece_grouped = df_uk_greece.groupby(['year'],as_index=False).sum()\n",
    "# plot(x,y,fmt) - x is years, y is cases, \n",
    "# fmt is saying to use a dot marker, with no line connecting data\n",
    "# and the default colors for these markers\n",
    "plt.plot(df_uk_greece_grouped['year'],\n",
    "         df_uk_greece_grouped['cases_no_uk'],\n",
    "         '.')\n",
    "plt.plot(df_uk_greece_grouped['year'],\n",
    "         df_uk_greece_grouped['cases_no_greece'],\n",
    "         '.')\n",
    "# df_uk_greece_grouped\n"
   ]
  },
  {
   "cell_type": "markdown",
   "metadata": {},
   "source": [
    "Pandas DataFrames also have a `plot` method, which typically uses matplotlib behind the scenes. These can create nice smart plots directly from the dataframe. In some cases, this is the easier approach to use. For example, here is a bar plot of both groups over the years. "
   ]
  },
  {
   "cell_type": "code",
   "execution_count": 130,
   "metadata": {},
   "outputs": [
    {
     "data": {
      "text/plain": [
       "<AxesSubplot:xlabel='year'>"
      ]
     },
     "execution_count": 130,
     "metadata": {},
     "output_type": "execute_result"
    },
    {
     "data": {
      "image/png": "[encoded data removed]",
      "text/plain": [
       "<Figure size 640x480 with 1 Axes>"
      ]
     },
     "metadata": {},
     "output_type": "display_data"
    }
   ],
   "source": [
    "df_uk_greece_grouped.plot.bar(x='year',y=['cases_no_uk','cases_no_greece'])"
   ]
  },
  {
   "cell_type": "markdown",
   "metadata": {},
   "source": [
    "***\n",
    "\n",
    "## 10. Transforming variables\n",
    "When we visually compare the number of cases in the UK with the number of cases in Greece, there seems to be a rather large difference between the two countries. Why would that be?\n",
    "\n",
    "The first thing I would check is whether there might be a relationship of cases with another variable in our data frame. Why don't we start by seeing what the populations between these two countries are?\n"
   ]
  },
  {
   "cell_type": "code",
   "execution_count": 133,
   "metadata": {},
   "outputs": [
    {
     "name": "stdout",
     "output_type": "stream",
     "text": [
      "Mean population over the years in this study:\n",
      "UK: 55744511\n",
      "Greece: 9403957\n"
     ]
    }
   ],
   "source": [
    "uk_pop = df_uk_greece_grouped['population_uk'].mean()\n",
    "greece_pop = df_uk_greece_grouped['population_greece'].mean()\n",
    "print(\"Mean population over the years in this study:\")\n",
    "print(f\"UK: {int(uk_pop)}\")\n",
    "print(f\"Greece: {int(greece_pop)}\")"
   ]
  },
  {
   "cell_type": "markdown",
   "metadata": {},
   "source": [
    "I don't know about you, but I find all those numbers make it difficult to compare. Notice some small changes I do in this cell to make it a little easier:"
   ]
  },
  {
   "cell_type": "code",
   "execution_count": 134,
   "metadata": {},
   "outputs": [
    {
     "name": "stdout",
     "output_type": "stream",
     "text": [
      "Mean population over the years in this study:\n",
      "UK:     56000000\n",
      "Greece: 9000000\n"
     ]
    }
   ],
   "source": [
    "uk_pop = np.round(uk_pop,decimals=-6)\n",
    "greece_pop = np.round(greece_pop,decimals=-6)\n",
    "print(\"Mean population over the years in this study:\")\n",
    "print(f\"UK:     {int(uk_pop)}\")\n",
    "print(f\"Greece: {int(greece_pop)}\")"
   ]
  },
  {
   "cell_type": "markdown",
   "metadata": {},
   "source": [
    "OK! So if the UK has roughly 6 times larger population, then maybe they would have the 6 times more cases? Let's make a per capita variable and find out!"
   ]
  },
  {
   "cell_type": "code",
   "execution_count": 135,
   "metadata": {},
   "outputs": [
    {
     "data": {
      "text/plain": [
       "<AxesSubplot:xlabel='year'>"
      ]
     },
     "execution_count": 135,
     "metadata": {},
     "output_type": "execute_result"
    },
    {
     "data": {
      "image/png": "[encoded data removed]",
      "text/plain": [
       "<Figure size 640x480 with 1 Axes>"
      ]
     },
     "metadata": {},
     "output_type": "display_data"
    }
   ],
   "source": [
    "df_uk_greece_grouped['cases_percap_uk'] = df_uk_greece_grouped['cases_no_uk'] / df_uk_greece_grouped['population_uk']\n",
    "df_uk_greece_grouped['cases_percap_greece'] = df_uk_greece_grouped['cases_no_greece'] / df_uk_greece_grouped['population_greece']\n",
    "df_uk_greece_grouped.plot.bar(x='year',y=['cases_percap_uk','cases_percap_greece'])"
   ]
  },
  {
   "cell_type": "markdown",
   "metadata": {},
   "source": [
    "While the number of cases per capita in the UK is still higher than Greece, the difference between the two countries is much smaller than observed without taking population into effect.\n",
    "\n",
    "Here we have done a _transformation_ of the variable by normalizing it to another variable (in this case `population`), such that we are getting variables that are, more or less, on the same scale and we can compare between countries a bit better. \n",
    "\n",
    "Another transformation often used in data science is to normalize the data to make sure that the variable is scaled from 0 to 1, such that the maximum value observed was normalized to 1.\n"
   ]
  },
  {
   "cell_type": "markdown",
   "metadata": {},
   "source": [
    "There are two steps to do this type of normalisation.\n",
    "\n",
    "**Step 1)** Create a function of normalization "
   ]
  },
  {
   "cell_type": "code",
   "execution_count": 136,
   "metadata": {},
   "outputs": [],
   "source": [
    "def normalize(x):\n",
    "    return (x)/x.max()"
   ]
  },
  {
   "cell_type": "markdown",
   "metadata": {},
   "source": [
    "**Step 2)** Apply the function to the selected column "
   ]
  },
  {
   "cell_type": "code",
   "execution_count": 137,
   "metadata": {},
   "outputs": [
    {
     "data": {
      "text/plain": [
       "<AxesSubplot:xlabel='year'>"
      ]
     },
     "execution_count": 137,
     "metadata": {},
     "output_type": "execute_result"
    },
    {
     "data": {
      "image/png": "[encoded data removed]",
      "text/plain": [
       "<Figure size 640x480 with 1 Axes>"
      ]
     },
     "metadata": {},
     "output_type": "display_data"
    }
   ],
   "source": [
    "df_uk_greece_grouped['cases_norm_uk'] = normalize(df_uk_greece_grouped['cases_no_uk'])\n",
    "df_uk_greece_grouped['cases_norm_greece'] = normalize(df_uk_greece_grouped['cases_no_greece'])\n",
    "df_uk_greece_grouped.plot.bar(x='year',y=['cases_norm_uk','cases_norm_greece'])"
   ]
  },
  {
   "cell_type": "markdown",
   "metadata": {},
   "source": [
    "By normalizing the values, they are now on the same scale, but direct comparisons between countries become more difficult. This is because we have normalized these variables with respect to themselves and not accounting for the other country. All we can really do is compare the trends as to when more cases were observed in one country versus another. \n",
    "\n",
    "A similar form of normalisation, which you may have heard about or worked with, is to transform values to a standard distribution to obtain Z scores. This transforms the variable such that the mean of the variable is 0 and the standard deviation is 1.  \n",
    "\n",
    "We again start by creating a small helper function."
   ]
  },
  {
   "cell_type": "code",
   "execution_count": 138,
   "metadata": {},
   "outputs": [],
   "source": [
    "def zscore(x):\n",
    "    return (x-x.mean())/x.std()"
   ]
  },
  {
   "cell_type": "code",
   "execution_count": 139,
   "metadata": {},
   "outputs": [
    {
     "data": {
      "text/html": [
       "<div>\n",
       "<style scoped>\n",
       "    .dataframe tbody tr th:only-of-type {\n",
       "        vertical-align: middle;\n",
       "    }\n",
       "\n",
       "    .dataframe tbody tr th {\n",
       "        vertical-align: top;\n",
       "    }\n",
       "\n",
       "    .dataframe thead th {\n",
       "        text-align: right;\n",
       "    }\n",
       "</style>\n",
       "<table border=\"1\" class=\"dataframe\">\n",
       "  <thead>\n",
       "    <tr style=\"text-align: right;\">\n",
       "      <th></th>\n",
       "      <th>year</th>\n",
       "      <th>cases_no_uk</th>\n",
       "      <th>population_uk</th>\n",
       "      <th>gdp_for_year_usd_uk</th>\n",
       "      <th>cases_no_greece</th>\n",
       "      <th>population_greece</th>\n",
       "      <th>gdp_for_year_usd_greece</th>\n",
       "      <th>cases_percap_uk</th>\n",
       "      <th>cases_percap_greece</th>\n",
       "      <th>cases_norm_uk</th>\n",
       "      <th>cases_norm_greece</th>\n",
       "      <th>cases_zscore_uk</th>\n",
       "      <th>cases_zscore_greece</th>\n",
       "    </tr>\n",
       "  </thead>\n",
       "  <tbody>\n",
       "    <tr>\n",
       "      <th>0</th>\n",
       "      <td>1985</td>\n",
       "      <td>3017.0</td>\n",
       "      <td>53006535</td>\n",
       "      <td>5871421971252</td>\n",
       "      <td>369.0</td>\n",
       "      <td>7859800.0</td>\n",
       "      <td>4.782085e+11</td>\n",
       "      <td>0.000057</td>\n",
       "      <td>0.000047</td>\n",
       "      <td>0.644245</td>\n",
       "      <td>0.674589</td>\n",
       "      <td>-1.625994</td>\n",
       "      <td>0.129147</td>\n",
       "    </tr>\n",
       "    <tr>\n",
       "      <th>1</th>\n",
       "      <td>1986</td>\n",
       "      <td>4587.0</td>\n",
       "      <td>53119533</td>\n",
       "      <td>7217431838172</td>\n",
       "      <td>384.0</td>\n",
       "      <td>7922600.0</td>\n",
       "      <td>5.637959e+11</td>\n",
       "      <td>0.000086</td>\n",
       "      <td>0.000048</td>\n",
       "      <td>0.979500</td>\n",
       "      <td>0.702011</td>\n",
       "      <td>1.841738</td>\n",
       "      <td>0.321012</td>\n",
       "    </tr>\n",
       "    <tr>\n",
       "      <th>2</th>\n",
       "      <td>1987</td>\n",
       "      <td>3604.0</td>\n",
       "      <td>53239668</td>\n",
       "      <td>8941951299228</td>\n",
       "      <td>410.0</td>\n",
       "      <td>9387400.0</td>\n",
       "      <td>7.878330e+11</td>\n",
       "      <td>0.000068</td>\n",
       "      <td>0.000044</td>\n",
       "      <td>0.769592</td>\n",
       "      <td>0.749543</td>\n",
       "      <td>-0.329459</td>\n",
       "      <td>0.653576</td>\n",
       "    </tr>\n",
       "    <tr>\n",
       "      <th>3</th>\n",
       "      <td>1988</td>\n",
       "      <td>4683.0</td>\n",
       "      <td>53310780</td>\n",
       "      <td>10921472785488</td>\n",
       "      <td>358.0</td>\n",
       "      <td>7996200.0</td>\n",
       "      <td>7.626128e+11</td>\n",
       "      <td>0.000088</td>\n",
       "      <td>0.000045</td>\n",
       "      <td>1.000000</td>\n",
       "      <td>0.654479</td>\n",
       "      <td>2.053778</td>\n",
       "      <td>-0.011553</td>\n",
       "    </tr>\n",
       "    <tr>\n",
       "      <th>4</th>\n",
       "      <td>1989</td>\n",
       "      <td>3731.0</td>\n",
       "      <td>53425129</td>\n",
       "      <td>11122617801048</td>\n",
       "      <td>212.0</td>\n",
       "      <td>8828800.0</td>\n",
       "      <td>8.708595e+11</td>\n",
       "      <td>0.000070</td>\n",
       "      <td>0.000024</td>\n",
       "      <td>0.796712</td>\n",
       "      <td>0.387569</td>\n",
       "      <td>-0.048949</td>\n",
       "      <td>-1.879032</td>\n",
       "    </tr>\n",
       "  </tbody>\n",
       "</table>\n",
       "</div>"
      ],
      "text/plain": [
       "   year  cases_no_uk  population_uk  gdp_for_year_usd_uk  cases_no_greece  \\\n",
       "0  1985       3017.0       53006535        5871421971252            369.0   \n",
       "1  1986       4587.0       53119533        7217431838172            384.0   \n",
       "2  1987       3604.0       53239668        8941951299228            410.0   \n",
       "3  1988       4683.0       53310780       10921472785488            358.0   \n",
       "4  1989       3731.0       53425129       11122617801048            212.0   \n",
       "\n",
       "   population_greece  gdp_for_year_usd_greece  cases_percap_uk  \\\n",
       "0          7859800.0             4.782085e+11         0.000057   \n",
       "1          7922600.0             5.637959e+11         0.000086   \n",
       "2          9387400.0             7.878330e+11         0.000068   \n",
       "3          7996200.0             7.626128e+11         0.000088   \n",
       "4          8828800.0             8.708595e+11         0.000070   \n",
       "\n",
       "   cases_percap_greece  cases_norm_uk  cases_norm_greece  cases_zscore_uk  \\\n",
       "0             0.000047       0.644245           0.674589        -1.625994   \n",
       "1             0.000048       0.979500           0.702011         1.841738   \n",
       "2             0.000044       0.769592           0.749543        -0.329459   \n",
       "3             0.000045       1.000000           0.654479         2.053778   \n",
       "4             0.000024       0.796712           0.387569        -0.048949   \n",
       "\n",
       "   cases_zscore_greece  \n",
       "0             0.129147  \n",
       "1             0.321012  \n",
       "2             0.653576  \n",
       "3            -0.011553  \n",
       "4            -1.879032  "
      ]
     },
     "execution_count": 139,
     "metadata": {},
     "output_type": "execute_result"
    }
   ],
   "source": [
    "df_uk_greece_grouped['cases_zscore_uk'] = zscore(df_uk_greece_grouped['cases_no_uk'])\n",
    "df_uk_greece_grouped['cases_zscore_greece'] = zscore(df_uk_greece_grouped['cases_no_greece'])\n",
    "df_uk_greece_grouped.head()"
   ]
  },
  {
   "cell_type": "markdown",
   "metadata": {},
   "source": [
    "Plotting the z scored variables will have a different look from the normalized and per capita transformations."
   ]
  },
  {
   "cell_type": "code",
   "execution_count": 140,
   "metadata": {},
   "outputs": [
    {
     "data": {
      "text/plain": [
       "<AxesSubplot:xlabel='year'>"
      ]
     },
     "execution_count": 140,
     "metadata": {},
     "output_type": "execute_result"
    },
    {
     "data": {
      "image/png": "[encoded data removed]",
      "text/plain": [
       "<Figure size 640x480 with 1 Axes>"
      ]
     },
     "metadata": {},
     "output_type": "display_data"
    }
   ],
   "source": [
    "df_uk_greece_grouped.plot.bar(x='year',y=['cases_zscore_uk','cases_zscore_greece'])"
   ]
  },
  {
   "cell_type": "markdown",
   "metadata": {},
   "source": [
    "The standardized scores over time doesn't allow for too much direct comparison between countries, but it does show general temporal trends within a country, where there were a higher number of cases in the late 80's and early 90s in the UK, and higher cases post-2011 in Greece. "
   ]
  },
  {
   "cell_type": "markdown",
   "metadata": {},
   "source": [
    "## 11. More exploration and visualisation\n",
    "Now that we have done some very initial plots, we can think about more advanced plots with the data. We may want to ask ourselves what is the relationship is between cases and population as well as cases and gdp. Is that relationship different between sexes?\n",
    "\n",
    "These sorts of questions are probably the realm of a more advanced statistical analysis, but we can start to get an idea of a relationship by doing. We will start by grouping the variables in a way that we can plot these differences.\n",
    " \n"
   ]
  },
  {
   "cell_type": "code",
   "execution_count": 146,
   "metadata": {},
   "outputs": [
    {
     "name": "stdout",
     "output_type": "stream",
     "text": [
      "                   cases_no  population  gdp_millions_usd\n",
      "country year sex                                         \n",
      "Albania 1987 male      48.0     1054500       2156.624900\n",
      "        1988 male      41.0     1075700       2126.000000\n",
      "        1989 male      53.0     1090100       2335.124988\n",
      "        1992 male      33.0     1012500        709.452584\n",
      "        1993 male      37.0     1379900       1228.071038\n",
      "                     cases_no  population  gdp_millions_usd\n",
      "country year sex                                           \n",
      "Albania 1987 female      25.0      861300       2156.624900\n",
      "        1988 female      22.0     1026400       2126.000000\n",
      "        1989 female      15.0     1004400       2335.124988\n",
      "        1992 female      14.0     1047800        709.452584\n",
      "        1993 female      18.0     1388100       1228.071038\n"
     ]
    }
   ],
   "source": [
    "# We are going back to the complete case data for this one. But we also\n",
    "# want to include sex in the grouping so that we can compare\n",
    "groupedby_country_yr_sex = df_complete.groupby(['country','year','sex'])\n",
    "# Sum up population and cases over country, year, and sex\n",
    "df_cases_plt = groupedby_country_yr_sex[['cases_no','population']].sum()\n",
    "\n",
    "# Just keep the original GDP, but put it on a scale of millions of USD\n",
    "df_cases_plt['gdp_millions_usd'] = groupedby_country_yr_sex[['gdp_for_year_usd']].first()/1.0e+6\n",
    "# Select just the males\n",
    "# Because the groupby function stores our groups as indices,\n",
    "# we need a helper function to find the right indices\n",
    "idx = pd.IndexSlice\n",
    "males = df_cases_plt.loc[idx[:,:,'male']]\n",
    "# Find all of the rows with females\n",
    "females = df_cases_plt.loc[idx[:,:,'female']]\n",
    "print(males.head())\n",
    "print(females.head())"
   ]
  },
  {
   "cell_type": "markdown",
   "metadata": {},
   "source": [
    "We can put multiple plots together using `matplotlib.pyplot.figure()` combined with `matplotlib.pyplot.add_subplot()`.  This method takes 3 parameters. The first denotes the total number of  rows of subplots, the second parameter denotes the total number of columns of subplots, and the final parameter denotes which subplot you wish to plot in (starting left-to-right then moving down a row). Once a subplot is created, the axes of these subplots can be decorated using methods like `set_title()` or `set_xlabel()` "
   ]
  },
  {
   "cell_type": "code",
   "execution_count": 147,
   "metadata": {},
   "outputs": [
    {
     "data": {
      "text/plain": [
       "[<matplotlib.lines.Line2D at 0x7f7c60391090>]"
      ]
     },
     "execution_count": 147,
     "metadata": {},
     "output_type": "execute_result"
    },
    {
     "data": {
      "image/png": "[encoded data removed]",
      "text/plain": [
       "<Figure size 1200x800 with 4 Axes>"
      ]
     },
     "metadata": {},
     "output_type": "display_data"
    }
   ],
   "source": [
    "\n",
    "fig=plt.figure(figsize=(12.0, 8.0))\n",
    "# Plot one Cases versus population for males\n",
    "ax1= fig.add_subplot(2,2,1)\n",
    "# First plot - across all countries and yearsHere we plot bar using the plt.bar() function and it is set at the ax1 which is axes1 subplot variable\n",
    "ax1.set_title('Cases versus Population - Males') \n",
    "ax1.plot(males['population'],males['cases_no'],'.')\n",
    "\n",
    "# Plot two Cases versus GDP for males\n",
    "ax2= fig.add_subplot(2,2,2)\n",
    "ax2.set_title('Cases versus GDP - Males')\n",
    "ax2.plot(males['gdp_millions_usd'],males['cases_no'],'.')\n",
    "\n",
    "ax3= fig.add_subplot(2,2,3)\n",
    "ax3.set_title('Cases versus Population - Females') \n",
    "ax3.plot(females['population'],females['cases_no'],'.')\n",
    "\n",
    "ax4= fig.add_subplot(2,2,4)\n",
    "ax4.set_title('Cases versus GDP - Females')\n",
    "ax4.plot(females['gdp_millions_usd'],females['cases_no'],'.')\n"
   ]
  },
  {
   "cell_type": "markdown",
   "metadata": {},
   "source": [
    "Clearly, these are more complex relationships than a simple linear plot, likely involving some geography, age, and the year of the sample. Population may also be affecting the GDP value as well. "
   ]
  },
  {
   "cell_type": "markdown",
   "metadata": {},
   "source": [
    "\n",
    "\n",
    "### Exercise 7\n",
    "Calculate the GDP/capita of the countries and visualise the cases according to GDP/capita as well as cased/capita versus GDP/capita for both males and females.\n",
    "\n"
   ]
  },
  {
   "cell_type": "code",
   "execution_count": 198,
   "metadata": {},
   "outputs": [
    {
     "data": {
      "text/plain": [
       "<AxesSubplot:xlabel='year'>"
      ]
     },
     "execution_count": 198,
     "metadata": {},
     "output_type": "execute_result"
    },
    {
     "data": {
      "image/png": "[encoded data removed]",
      "text/plain": [
       "<Figure size 640x480 with 1 Axes>"
      ]
     },
     "metadata": {},
     "output_type": "display_data"
    }
   ],
   "source": [
    "# Enter your answer for Exercise 7 here. \n",
    "df_uk_greece_grouped['gdp_percap_uk'] = df_uk_greece_grouped['gdp_for_year_usd_uk'] / df_uk_greece_grouped['population_uk']\n",
    "df_uk_greece_grouped['gdp_percap_greece'] = df_uk_greece_grouped['gdp_for_year_usd_greece'] / df_uk_greece_grouped['population_greece']\n",
    "# df_uk_greece_grouped\n",
    "\n",
    "df_uk_greece_grouped.plot.bar(x='year',y=['gdp_percap_uk','gdp_percap_greece'])"
   ]
  },
  {
   "cell_type": "code",
   "execution_count": 197,
   "metadata": {
    "tags": []
   },
   "outputs": [
    {
     "data": {
      "text/plain": [
       "[<matplotlib.lines.Line2D at 0x7f7c91a8c350>]"
      ]
     },
     "execution_count": 197,
     "metadata": {},
     "output_type": "execute_result"
    },
    {
     "data": {
      "image/png": "[encoded data removed]",
      "text/plain": [
       "<Figure size 1200x800 with 2 Axes>"
      ]
     },
     "metadata": {},
     "output_type": "display_data"
    }
   ],
   "source": [
    "fig=plt.figure(figsize=(12.0, 8.0))\n",
    "# Plot one Cases versus population for males\n",
    "ax1= fig.add_subplot(2,2,1)\n",
    "# First plot - across all countries and yearsHere we plot bar using the plt.bar() function and it is set at the ax1 which is axes1 subplot variable\n",
    "ax1.set_title('Cases versus GDP per cap - UK') \n",
    "ax1.plot(df_uk_greece_grouped['gdp_percap_uk'],df_uk_greece_grouped['cases_no_uk'],'.')\n",
    "\n",
    "# Plot two Cases versus GDP for males\n",
    "ax2= fig.add_subplot(2,2,2)\n",
    "ax2.set_title('Cases versus GDP per cap - GREECE') \n",
    "ax2.plot(df_uk_greece_grouped['gdp_percap_greece'],df_uk_greece_grouped['cases_no_greece'],'.')"
   ]
  },
  {
   "cell_type": "code",
   "execution_count": 209,
   "metadata": {
    "tags": []
   },
   "outputs": [
    {
     "data": {
      "text/plain": [
       "[<matplotlib.lines.Line2D at 0x7f7c98369e50>]"
      ]
     },
     "execution_count": 209,
     "metadata": {},
     "output_type": "execute_result"
    },
    {
     "data": {
      "image/png": "[encoded data removed]",
      "text/plain": [
       "<Figure size 1200x800 with 1 Axes>"
      ]
     },
     "metadata": {},
     "output_type": "display_data"
    }
   ],
   "source": [
    "fig=plt.figure(figsize=(12.0, 8.0))\n",
    "# Plot one Cases versus population for males\n",
    "ax1= fig.add_subplot(2,2,1)\n",
    "# First plot - across all countries and yearsHere we plot bar using the plt.bar() function and it is set at the ax1 which is axes1 subplot variable\n",
    "ax1.set_title('Cases per capita versus GDP per capita') \n",
    "ax1.plot(df_uk_greece_grouped['gdp_percap_uk'],df_uk_greece_grouped['cases_percap_uk'],'.')\n",
    "ax1.plot(df_uk_greece_grouped['gdp_percap_greece'],df_uk_greece_grouped['cases_percap_greece'],'.')\n",
    "\n",
    "# df_uk_greece_grouped.plot.scatter(x='gdp_percap_uk',y=['cases_percap_uk','cases_percap_greece'])"
   ]
  },
  {
   "cell_type": "markdown",
   "metadata": {},
   "source": [
    "### Thank you for completing this lab!\n",
    "\n",
    "## Authors\n",
    "##  Mary Tziraki and David Cash\n",
    "\n",
    "\n",
    "                                                                                     \n",
    "\n",
    "## <h3 align=\"center\"> © Health+Bioscience IDEAS 2022. All rights reserved. <h3/>\n"
   ]
  },
  {
   "cell_type": "markdown",
   "metadata": {},
   "source": []
  }
 ],
 "metadata": {
  "anaconda-cloud": {},
  "celltoolbar": "Slideshow",
  "kernelspec": {
   "display_name": "Python 3 (ipykernel)",
   "language": "python",
   "name": "python3"
  },
  "language_info": {
   "codemirror_mode": {
    "name": "ipython",
    "version": 3
   },
   "file_extension": ".py",
   "mimetype": "text/x-python",
   "name": "python",
   "nbconvert_exporter": "python",
   "pygments_lexer": "ipython3",
   "version": "3.7.12"
  },
  "vscode": {
   "interpreter": {
    "hash": "a0d4121080b5f33a2f2ddb6a1f46c0838d0d44af1b5f7e501e0b1477e85aebe3"
   }
  }
 },
 "nbformat": 4,
 "nbformat_minor": 4
}
